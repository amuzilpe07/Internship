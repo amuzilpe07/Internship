{
 "cells": [
  {
   "cell_type": "code",
   "execution_count": 1,
   "id": "bfbd03ca-fe5a-417b-8454-1bed000e7613",
   "metadata": {},
   "outputs": [],
   "source": [
    "# import packagges\n",
    "import selenium\n",
    "import pandas as pd\n",
    "from selenium import webdriver\n",
    "import warnings\n",
    "warnings.filterwarnings('ignore')\n",
    "from selenium.webdriver.common.by import By\n",
    "import time"
   ]
  },
  {
   "cell_type": "markdown",
   "id": "58828bf2-3871-4bb4-bdc5-15adde9bd44e",
   "metadata": {},
   "source": [
    "Q1: In this question you have to scrape data using the filters available on the webpage You have to use the location and\n",
    "salary filter.\n",
    "You have to scrape data for “Data Scientist” designation for first 10 job results.\n",
    "You have to scrape the job-title, job-location, company name, experience required.\n",
    "The location filter to be used is “Delhi/NCR”. The salary filter to be used is “3-6” lakhs\n",
    "The task will be done as shown in the below steps:\n",
    "1. first get the web page https://www.naukri.com/\n",
    "2. Enter “Data Scientist” in “Skill, Designations, and Companies” field.\n",
    "3. Then click the search button.\n",
    "4. Then apply the location filter and salary filter by checking the respective boxes\n",
    "5. Then scrape the data for the first 10 jobs results you get.\n",
    "6. Finally create a dataframe of the scraped data"
   ]
  },
  {
   "cell_type": "code",
   "execution_count": 2,
   "id": "91775e8f-8b87-40d0-b722-88a4a0a8400f",
   "metadata": {},
   "outputs": [],
   "source": [
    "#opening Chrome Browser\n",
    "driver = webdriver.Chrome()"
   ]
  },
  {
   "cell_type": "code",
   "execution_count": 3,
   "id": "8c3ec84e-e282-4171-b96c-f09fe5904d45",
   "metadata": {},
   "outputs": [],
   "source": [
    "# Apply wait to matching speed while executing\n",
    "driver.implicitly_wait(10)"
   ]
  },
  {
   "cell_type": "code",
   "execution_count": 4,
   "id": "9a944bdd-ecbe-414d-9de9-bdea46d13ecb",
   "metadata": {},
   "outputs": [],
   "source": [
    "# opening url by using webdriver method ( get )\n",
    "driver.get('https://www.naukri.com/')"
   ]
  },
  {
   "cell_type": "code",
   "execution_count": 5,
   "id": "c9db337a-ae3a-4ccd-bf75-3e9548e653c4",
   "metadata": {},
   "outputs": [],
   "source": [
    "# To maximize browser page\n",
    "driver.maximize_window()"
   ]
  },
  {
   "cell_type": "code",
   "execution_count": 6,
   "id": "e80d73c9-a287-4dac-8472-482401fc3f0f",
   "metadata": {},
   "outputs": [],
   "source": [
    "# Search job designation\n",
    "designation = driver.find_element(By.CLASS_NAME,\"suggestor-input \")\n",
    "designation.send_keys('Data Scientist')"
   ]
  },
  {
   "cell_type": "code",
   "execution_count": 7,
   "id": "2cabd1b3-18c5-4554-a520-fd3683e37ba1",
   "metadata": {},
   "outputs": [],
   "source": [
    "# Search job Loacation\n",
    "location = driver.find_element(By.XPATH,\"/html/body/div[1]/div[7]/div/div/div[5]/div/div/div/div[1]/div/input\")\n",
    "location.send_keys('Delhi/NCR')"
   ]
  },
  {
   "cell_type": "code",
   "execution_count": 8,
   "id": "678f3574-fd54-4241-bb50-7fbad93c97e4",
   "metadata": {},
   "outputs": [],
   "source": [
    "# Click Search tab\n",
    "search = driver.find_element(By.CLASS_NAME,\"qsbSubmit\")\n",
    "search.click()"
   ]
  },
  {
   "cell_type": "code",
   "execution_count": 9,
   "id": "091ceb22-ff5e-4e4f-918a-a9bb92995377",
   "metadata": {},
   "outputs": [
    {
     "data": {
      "text/plain": [
       "['Data Scientist',\n",
       " 'Data Scientist',\n",
       " 'Data Scientist / Data Engineer',\n",
       " 'Data Scientist',\n",
       " 'Data Scientist',\n",
       " 'Data Scientist',\n",
       " 'Data Scientist',\n",
       " 'Data Scientist- Pune/Bangalore/ Gurugram',\n",
       " 'Data Scientist',\n",
       " 'Data Scientist / Decision Scientist']"
      ]
     },
     "execution_count": 9,
     "metadata": {},
     "output_type": "execute_result"
    }
   ],
   "source": [
    "# Extract designation here by using find elements method\n",
    "job_titles=[]\n",
    "\n",
    "job_designation=driver.find_elements(By.XPATH,'//div[@class=\" row1\"]')\n",
    "job_designation[:10]\n",
    "\n",
    "for i in job_designation[:10]:\n",
    "    job_titles.append(i.text)\n",
    "    \n",
    "job_titles[:10] # 10 number of rows to scrap"
   ]
  },
  {
   "cell_type": "code",
   "execution_count": 10,
   "id": "a523dad0-86ed-41ac-91bd-d46a2beebaf6",
   "metadata": {},
   "outputs": [
    {
     "data": {
      "text/plain": [
       "['Hybrid - Noida, Ghaziabad, New Delhi',\n",
       " 'Gurugram',\n",
       " 'Delhi / NCR, Pune, Bengaluru',\n",
       " 'Noida, Bengaluru',\n",
       " 'Pune, Gurugram, Bengaluru',\n",
       " 'New Delhi',\n",
       " 'Gurugram',\n",
       " 'Hybrid - Delhi / NCR',\n",
       " 'Gurugram',\n",
       " 'Gurugram']"
      ]
     },
     "execution_count": 10,
     "metadata": {},
     "output_type": "execute_result"
    }
   ],
   "source": [
    "# Extract location here by using find elements method\n",
    "location=[]\n",
    "\n",
    "job_location=driver.find_elements(By.XPATH,'//span[@class=\"locWdth\"]')\n",
    "job_location[:10]\n",
    "\n",
    "for i in job_location[:10]:\n",
    "    location.append(i.text)\n",
    "    \n",
    "location[:10]"
   ]
  },
  {
   "cell_type": "code",
   "execution_count": 11,
   "id": "72630d3e-ca39-4590-8a95-c97cc20cdb62",
   "metadata": {},
   "outputs": [
    {
     "data": {
      "text/plain": [
       "['PwC Service Delivery Center\\n3.5\\n7522 Reviews',\n",
       " 'Fortune 500 IT Services Company\\n4.0',\n",
       " 'Leadventure India\\n4.2\\n2 Reviews',\n",
       " 'Large Analytics MNC\\n3.5',\n",
       " 'Wipro\\n3.8\\n41410 Reviews',\n",
       " 'Ericsson\\n4.2\\n6495 Reviews',\n",
       " 'Big 4 Consulting Firm\\n3.5',\n",
       " 'Maruti Suzuki\\n4.2\\n6663 Reviews',\n",
       " 'Maruti Suzuki\\n4.2\\n6663 Reviews',\n",
       " 'KPMG Assurance and Consulting Services LLP\\n3.6\\n4666 Reviews']"
      ]
     },
     "execution_count": 11,
     "metadata": {},
     "output_type": "execute_result"
    }
   ],
   "source": [
    "# Extract Company Name here by using find elements method\n",
    "job_company=[]\n",
    "\n",
    "company_name=driver.find_elements(By.XPATH,'//span[@class=\" comp-dtls-wrap\"]')\n",
    "company_name[:10] # for scrap 10 row of Data\n",
    "\n",
    "for i in company_name[:10]:\n",
    "    job_company.append(i.text)\n",
    "    \n",
    "job_company[:10]"
   ]
  },
  {
   "cell_type": "code",
   "execution_count": 12,
   "id": "258f6b33-5c80-4494-a7d3-9ec4c7ddaf8e",
   "metadata": {},
   "outputs": [
    {
     "data": {
      "text/plain": [
       "['4-7 Yrs',\n",
       " '2-6 Yrs',\n",
       " '6-11 Yrs',\n",
       " '5-10 Yrs',\n",
       " '2-7 Yrs',\n",
       " '2-5 Yrs',\n",
       " '4-7 Yrs',\n",
       " '3-8 Yrs',\n",
       " '11-14 Yrs',\n",
       " '4-9 Yrs']"
      ]
     },
     "execution_count": 12,
     "metadata": {},
     "output_type": "execute_result"
    }
   ],
   "source": [
    "# Extract Experience here by using find elements method\n",
    "experience_required=[] \n",
    "\n",
    "exp_req=driver.find_elements(By.XPATH,'//span[@class=\"expwdth\"]')\n",
    "exp_req[:10]\n",
    "\n",
    "for i in exp_req[:10]:\n",
    "    experience_required.append(i.text)\n",
    "    \n",
    "experience_required[:10]"
   ]
  },
  {
   "cell_type": "code",
   "execution_count": 13,
   "id": "40fdc2e6-ddad-4b61-976a-fe480cf8e77b",
   "metadata": {},
   "outputs": [
    {
     "name": "stdout",
     "output_type": "stream",
     "text": [
      "10 10 10 10\n"
     ]
    }
   ],
   "source": [
    "# calculate length of information given\n",
    "print(len(job_titles),len(location),len(job_company),len(experience_required))"
   ]
  },
  {
   "cell_type": "code",
   "execution_count": 14,
   "id": "6eb9f7dd-dfc5-4615-ae10-133ad9e8de9e",
   "metadata": {},
   "outputs": [
    {
     "data": {
      "text/html": [
       "<div>\n",
       "<style scoped>\n",
       "    .dataframe tbody tr th:only-of-type {\n",
       "        vertical-align: middle;\n",
       "    }\n",
       "\n",
       "    .dataframe tbody tr th {\n",
       "        vertical-align: top;\n",
       "    }\n",
       "\n",
       "    .dataframe thead th {\n",
       "        text-align: right;\n",
       "    }\n",
       "</style>\n",
       "<table border=\"1\" class=\"dataframe\">\n",
       "  <thead>\n",
       "    <tr style=\"text-align: right;\">\n",
       "      <th></th>\n",
       "      <th>Title</th>\n",
       "      <th>Location</th>\n",
       "      <th>Company</th>\n",
       "      <th>Experience</th>\n",
       "    </tr>\n",
       "  </thead>\n",
       "  <tbody>\n",
       "    <tr>\n",
       "      <th>0</th>\n",
       "      <td>Data Scientist</td>\n",
       "      <td>Hybrid - Noida, Ghaziabad, New Delhi</td>\n",
       "      <td>PwC Service Delivery Center\\n3.5\\n7522 Reviews</td>\n",
       "      <td>4-7 Yrs</td>\n",
       "    </tr>\n",
       "    <tr>\n",
       "      <th>1</th>\n",
       "      <td>Data Scientist</td>\n",
       "      <td>Gurugram</td>\n",
       "      <td>Fortune 500 IT Services Company\\n4.0</td>\n",
       "      <td>2-6 Yrs</td>\n",
       "    </tr>\n",
       "    <tr>\n",
       "      <th>2</th>\n",
       "      <td>Data Scientist / Data Engineer</td>\n",
       "      <td>Delhi / NCR, Pune, Bengaluru</td>\n",
       "      <td>Leadventure India\\n4.2\\n2 Reviews</td>\n",
       "      <td>6-11 Yrs</td>\n",
       "    </tr>\n",
       "    <tr>\n",
       "      <th>3</th>\n",
       "      <td>Data Scientist</td>\n",
       "      <td>Noida, Bengaluru</td>\n",
       "      <td>Large Analytics MNC\\n3.5</td>\n",
       "      <td>5-10 Yrs</td>\n",
       "    </tr>\n",
       "    <tr>\n",
       "      <th>4</th>\n",
       "      <td>Data Scientist</td>\n",
       "      <td>Pune, Gurugram, Bengaluru</td>\n",
       "      <td>Wipro\\n3.8\\n41410 Reviews</td>\n",
       "      <td>2-7 Yrs</td>\n",
       "    </tr>\n",
       "    <tr>\n",
       "      <th>5</th>\n",
       "      <td>Data Scientist</td>\n",
       "      <td>New Delhi</td>\n",
       "      <td>Ericsson\\n4.2\\n6495 Reviews</td>\n",
       "      <td>2-5 Yrs</td>\n",
       "    </tr>\n",
       "    <tr>\n",
       "      <th>6</th>\n",
       "      <td>Data Scientist</td>\n",
       "      <td>Gurugram</td>\n",
       "      <td>Big 4 Consulting Firm\\n3.5</td>\n",
       "      <td>4-7 Yrs</td>\n",
       "    </tr>\n",
       "    <tr>\n",
       "      <th>7</th>\n",
       "      <td>Data Scientist- Pune/Bangalore/ Gurugram</td>\n",
       "      <td>Hybrid - Delhi / NCR</td>\n",
       "      <td>Maruti Suzuki\\n4.2\\n6663 Reviews</td>\n",
       "      <td>3-8 Yrs</td>\n",
       "    </tr>\n",
       "    <tr>\n",
       "      <th>8</th>\n",
       "      <td>Data Scientist</td>\n",
       "      <td>Gurugram</td>\n",
       "      <td>Maruti Suzuki\\n4.2\\n6663 Reviews</td>\n",
       "      <td>11-14 Yrs</td>\n",
       "    </tr>\n",
       "    <tr>\n",
       "      <th>9</th>\n",
       "      <td>Data Scientist / Decision Scientist</td>\n",
       "      <td>Gurugram</td>\n",
       "      <td>KPMG Assurance and Consulting Services LLP\\n3....</td>\n",
       "      <td>4-9 Yrs</td>\n",
       "    </tr>\n",
       "  </tbody>\n",
       "</table>\n",
       "</div>"
      ],
      "text/plain": [
       "                                      Title  \\\n",
       "0                            Data Scientist   \n",
       "1                            Data Scientist   \n",
       "2            Data Scientist / Data Engineer   \n",
       "3                            Data Scientist   \n",
       "4                            Data Scientist   \n",
       "5                            Data Scientist   \n",
       "6                            Data Scientist   \n",
       "7  Data Scientist- Pune/Bangalore/ Gurugram   \n",
       "8                            Data Scientist   \n",
       "9       Data Scientist / Decision Scientist   \n",
       "\n",
       "                               Location  \\\n",
       "0  Hybrid - Noida, Ghaziabad, New Delhi   \n",
       "1                              Gurugram   \n",
       "2          Delhi / NCR, Pune, Bengaluru   \n",
       "3                      Noida, Bengaluru   \n",
       "4             Pune, Gurugram, Bengaluru   \n",
       "5                             New Delhi   \n",
       "6                              Gurugram   \n",
       "7                  Hybrid - Delhi / NCR   \n",
       "8                              Gurugram   \n",
       "9                              Gurugram   \n",
       "\n",
       "                                             Company Experience  \n",
       "0     PwC Service Delivery Center\\n3.5\\n7522 Reviews    4-7 Yrs  \n",
       "1               Fortune 500 IT Services Company\\n4.0    2-6 Yrs  \n",
       "2                  Leadventure India\\n4.2\\n2 Reviews   6-11 Yrs  \n",
       "3                           Large Analytics MNC\\n3.5   5-10 Yrs  \n",
       "4                          Wipro\\n3.8\\n41410 Reviews    2-7 Yrs  \n",
       "5                        Ericsson\\n4.2\\n6495 Reviews    2-5 Yrs  \n",
       "6                         Big 4 Consulting Firm\\n3.5    4-7 Yrs  \n",
       "7                   Maruti Suzuki\\n4.2\\n6663 Reviews    3-8 Yrs  \n",
       "8                   Maruti Suzuki\\n4.2\\n6663 Reviews  11-14 Yrs  \n",
       "9  KPMG Assurance and Consulting Services LLP\\n3....    4-9 Yrs  "
      ]
     },
     "execution_count": 14,
     "metadata": {},
     "output_type": "execute_result"
    }
   ],
   "source": [
    "# Data Send it to DataFrame\n",
    "df = pd.DataFrame({'Title':job_titles,'Location':location,'Company':job_company,'Experience':experience_required})\n",
    "df"
   ]
  },
  {
   "cell_type": "markdown",
   "id": "b97a067b-d236-4261-b84a-8cdab1ee6511",
   "metadata": {},
   "source": [
    "Q: Go to webpage https://www.amazon.in/ Enter “Laptop” in the search field and then click the search icon. Then set CPU\n",
    "Type filter to “Intel Core i7” as shown in the below image:\n",
    "Aftersetting the filters scrape first 10 laptops data. You have to scrape 3 attributes for each laptop:\n",
    "1. Title\n",
    "2. Ratings\n",
    "3. Price"
   ]
  },
  {
   "cell_type": "code",
   "execution_count": 15,
   "id": "98357861-b7d0-481b-bfc7-817849c396bf",
   "metadata": {},
   "outputs": [],
   "source": [
    "# import packagges\n",
    "import selenium\n",
    "import pandas as pd\n",
    "from selenium import webdriver\n",
    "import warnings\n",
    "warnings.filterwarnings('ignore')\n",
    "from selenium.webdriver.common.by import By\n",
    "import time"
   ]
  },
  {
   "cell_type": "code",
   "execution_count": 16,
   "id": "16836f4e-ded3-493e-8ec4-22658135a835",
   "metadata": {},
   "outputs": [],
   "source": [
    "driver = webdriver.Chrome()\n",
    "driver.implicitly_wait(10)\n",
    "driver.get('https://www.amazon.in/')\n",
    "driver.maximize_window()"
   ]
  },
  {
   "cell_type": "code",
   "execution_count": 17,
   "id": "cedeb7cd-cc6b-461b-98f6-ee3f9fe9385f",
   "metadata": {},
   "outputs": [],
   "source": [
    "product = driver.find_element(By.XPATH,'//input[@id=\"twotabsearchtextbox\"]')\n",
    "product.send_keys('Laptop')"
   ]
  },
  {
   "cell_type": "code",
   "execution_count": 18,
   "id": "462433aa-a9c9-4217-b1cf-bbc01eea6e54",
   "metadata": {},
   "outputs": [],
   "source": [
    "search = driver.find_element(By.XPATH,'//input[@id=\"nav-search-submit-button\"]')\n",
    "search.click()"
   ]
  },
  {
   "cell_type": "code",
   "execution_count": 19,
   "id": "f863a3eb-df8d-4279-b2b3-0ea569d9abdc",
   "metadata": {},
   "outputs": [],
   "source": [
    "filter = driver.get('https://www.amazon.in/s?k=Laptop&rh=n%3A976392031%2Cp_n_feature_thirteen_browse-bin%3A12598163031&dc&ds=v1%3ArerWbQUdW7qjYzgENA2fNjp5FXvg5GJW34Z6wdttCqI&crid=S7XB0XPEF4I8&qid=1720155793&rnid=12598141031&sprefix=laptop%2Caps%2C266&ref=sr_nr_p_n_feature_thirteen_browse-bin_11')\n",
    "filter"
   ]
  },
  {
   "cell_type": "code",
   "execution_count": 20,
   "id": "f4eb24f1-fa75-4400-b0be-1b000a924e24",
   "metadata": {},
   "outputs": [
    {
     "data": {
      "text/plain": [
       "[<selenium.webdriver.remote.webelement.WebElement (session=\"71683ac346cc9b126168e8934739aff4\", element=\"f.5FC638BE14841E0FF43658A416B4A78D.d.0D81967E1CEE607C9CCE3A4E326C4702.e.512\")>,\n",
       " <selenium.webdriver.remote.webelement.WebElement (session=\"71683ac346cc9b126168e8934739aff4\", element=\"f.5FC638BE14841E0FF43658A416B4A78D.d.0D81967E1CEE607C9CCE3A4E326C4702.e.513\")>,\n",
       " <selenium.webdriver.remote.webelement.WebElement (session=\"71683ac346cc9b126168e8934739aff4\", element=\"f.5FC638BE14841E0FF43658A416B4A78D.d.0D81967E1CEE607C9CCE3A4E326C4702.e.514\")>,\n",
       " <selenium.webdriver.remote.webelement.WebElement (session=\"71683ac346cc9b126168e8934739aff4\", element=\"f.5FC638BE14841E0FF43658A416B4A78D.d.0D81967E1CEE607C9CCE3A4E326C4702.e.515\")>,\n",
       " <selenium.webdriver.remote.webelement.WebElement (session=\"71683ac346cc9b126168e8934739aff4\", element=\"f.5FC638BE14841E0FF43658A416B4A78D.d.0D81967E1CEE607C9CCE3A4E326C4702.e.516\")>,\n",
       " <selenium.webdriver.remote.webelement.WebElement (session=\"71683ac346cc9b126168e8934739aff4\", element=\"f.5FC638BE14841E0FF43658A416B4A78D.d.0D81967E1CEE607C9CCE3A4E326C4702.e.517\")>,\n",
       " <selenium.webdriver.remote.webelement.WebElement (session=\"71683ac346cc9b126168e8934739aff4\", element=\"f.5FC638BE14841E0FF43658A416B4A78D.d.0D81967E1CEE607C9CCE3A4E326C4702.e.518\")>,\n",
       " <selenium.webdriver.remote.webelement.WebElement (session=\"71683ac346cc9b126168e8934739aff4\", element=\"f.5FC638BE14841E0FF43658A416B4A78D.d.0D81967E1CEE607C9CCE3A4E326C4702.e.519\")>,\n",
       " <selenium.webdriver.remote.webelement.WebElement (session=\"71683ac346cc9b126168e8934739aff4\", element=\"f.5FC638BE14841E0FF43658A416B4A78D.d.0D81967E1CEE607C9CCE3A4E326C4702.e.520\")>,\n",
       " <selenium.webdriver.remote.webelement.WebElement (session=\"71683ac346cc9b126168e8934739aff4\", element=\"f.5FC638BE14841E0FF43658A416B4A78D.d.0D81967E1CEE607C9CCE3A4E326C4702.e.521\")>,\n",
       " <selenium.webdriver.remote.webelement.WebElement (session=\"71683ac346cc9b126168e8934739aff4\", element=\"f.5FC638BE14841E0FF43658A416B4A78D.d.0D81967E1CEE607C9CCE3A4E326C4702.e.522\")>,\n",
       " <selenium.webdriver.remote.webelement.WebElement (session=\"71683ac346cc9b126168e8934739aff4\", element=\"f.5FC638BE14841E0FF43658A416B4A78D.d.0D81967E1CEE607C9CCE3A4E326C4702.e.523\")>,\n",
       " <selenium.webdriver.remote.webelement.WebElement (session=\"71683ac346cc9b126168e8934739aff4\", element=\"f.5FC638BE14841E0FF43658A416B4A78D.d.0D81967E1CEE607C9CCE3A4E326C4702.e.524\")>,\n",
       " <selenium.webdriver.remote.webelement.WebElement (session=\"71683ac346cc9b126168e8934739aff4\", element=\"f.5FC638BE14841E0FF43658A416B4A78D.d.0D81967E1CEE607C9CCE3A4E326C4702.e.525\")>,\n",
       " <selenium.webdriver.remote.webelement.WebElement (session=\"71683ac346cc9b126168e8934739aff4\", element=\"f.5FC638BE14841E0FF43658A416B4A78D.d.0D81967E1CEE607C9CCE3A4E326C4702.e.526\")>,\n",
       " <selenium.webdriver.remote.webelement.WebElement (session=\"71683ac346cc9b126168e8934739aff4\", element=\"f.5FC638BE14841E0FF43658A416B4A78D.d.0D81967E1CEE607C9CCE3A4E326C4702.e.527\")>,\n",
       " <selenium.webdriver.remote.webelement.WebElement (session=\"71683ac346cc9b126168e8934739aff4\", element=\"f.5FC638BE14841E0FF43658A416B4A78D.d.0D81967E1CEE607C9CCE3A4E326C4702.e.528\")>,\n",
       " <selenium.webdriver.remote.webelement.WebElement (session=\"71683ac346cc9b126168e8934739aff4\", element=\"f.5FC638BE14841E0FF43658A416B4A78D.d.0D81967E1CEE607C9CCE3A4E326C4702.e.529\")>,\n",
       " <selenium.webdriver.remote.webelement.WebElement (session=\"71683ac346cc9b126168e8934739aff4\", element=\"f.5FC638BE14841E0FF43658A416B4A78D.d.0D81967E1CEE607C9CCE3A4E326C4702.e.530\")>,\n",
       " <selenium.webdriver.remote.webelement.WebElement (session=\"71683ac346cc9b126168e8934739aff4\", element=\"f.5FC638BE14841E0FF43658A416B4A78D.d.0D81967E1CEE607C9CCE3A4E326C4702.e.531\")>,\n",
       " <selenium.webdriver.remote.webelement.WebElement (session=\"71683ac346cc9b126168e8934739aff4\", element=\"f.5FC638BE14841E0FF43658A416B4A78D.d.0D81967E1CEE607C9CCE3A4E326C4702.e.532\")>,\n",
       " <selenium.webdriver.remote.webelement.WebElement (session=\"71683ac346cc9b126168e8934739aff4\", element=\"f.5FC638BE14841E0FF43658A416B4A78D.d.0D81967E1CEE607C9CCE3A4E326C4702.e.533\")>,\n",
       " <selenium.webdriver.remote.webelement.WebElement (session=\"71683ac346cc9b126168e8934739aff4\", element=\"f.5FC638BE14841E0FF43658A416B4A78D.d.0D81967E1CEE607C9CCE3A4E326C4702.e.534\")>,\n",
       " <selenium.webdriver.remote.webelement.WebElement (session=\"71683ac346cc9b126168e8934739aff4\", element=\"f.5FC638BE14841E0FF43658A416B4A78D.d.0D81967E1CEE607C9CCE3A4E326C4702.e.535\")>]"
      ]
     },
     "execution_count": 20,
     "metadata": {},
     "output_type": "execute_result"
    }
   ],
   "source": [
    "title = driver.find_elements(By.XPATH,'//span[@class=\"a-size-medium a-color-base a-text-normal\"]')\n",
    "title"
   ]
  },
  {
   "cell_type": "code",
   "execution_count": 21,
   "id": "de837550-76fa-4b38-97d5-f7172e4a0971",
   "metadata": {},
   "outputs": [
    {
     "data": {
      "text/plain": [
       "[<selenium.webdriver.remote.webelement.WebElement (session=\"71683ac346cc9b126168e8934739aff4\", element=\"f.5FC638BE14841E0FF43658A416B4A78D.d.0D81967E1CEE607C9CCE3A4E326C4702.e.536\")>,\n",
       " <selenium.webdriver.remote.webelement.WebElement (session=\"71683ac346cc9b126168e8934739aff4\", element=\"f.5FC638BE14841E0FF43658A416B4A78D.d.0D81967E1CEE607C9CCE3A4E326C4702.e.537\")>,\n",
       " <selenium.webdriver.remote.webelement.WebElement (session=\"71683ac346cc9b126168e8934739aff4\", element=\"f.5FC638BE14841E0FF43658A416B4A78D.d.0D81967E1CEE607C9CCE3A4E326C4702.e.538\")>,\n",
       " <selenium.webdriver.remote.webelement.WebElement (session=\"71683ac346cc9b126168e8934739aff4\", element=\"f.5FC638BE14841E0FF43658A416B4A78D.d.0D81967E1CEE607C9CCE3A4E326C4702.e.539\")>,\n",
       " <selenium.webdriver.remote.webelement.WebElement (session=\"71683ac346cc9b126168e8934739aff4\", element=\"f.5FC638BE14841E0FF43658A416B4A78D.d.0D81967E1CEE607C9CCE3A4E326C4702.e.540\")>,\n",
       " <selenium.webdriver.remote.webelement.WebElement (session=\"71683ac346cc9b126168e8934739aff4\", element=\"f.5FC638BE14841E0FF43658A416B4A78D.d.0D81967E1CEE607C9CCE3A4E326C4702.e.541\")>,\n",
       " <selenium.webdriver.remote.webelement.WebElement (session=\"71683ac346cc9b126168e8934739aff4\", element=\"f.5FC638BE14841E0FF43658A416B4A78D.d.0D81967E1CEE607C9CCE3A4E326C4702.e.542\")>,\n",
       " <selenium.webdriver.remote.webelement.WebElement (session=\"71683ac346cc9b126168e8934739aff4\", element=\"f.5FC638BE14841E0FF43658A416B4A78D.d.0D81967E1CEE607C9CCE3A4E326C4702.e.543\")>,\n",
       " <selenium.webdriver.remote.webelement.WebElement (session=\"71683ac346cc9b126168e8934739aff4\", element=\"f.5FC638BE14841E0FF43658A416B4A78D.d.0D81967E1CEE607C9CCE3A4E326C4702.e.544\")>,\n",
       " <selenium.webdriver.remote.webelement.WebElement (session=\"71683ac346cc9b126168e8934739aff4\", element=\"f.5FC638BE14841E0FF43658A416B4A78D.d.0D81967E1CEE607C9CCE3A4E326C4702.e.545\")>,\n",
       " <selenium.webdriver.remote.webelement.WebElement (session=\"71683ac346cc9b126168e8934739aff4\", element=\"f.5FC638BE14841E0FF43658A416B4A78D.d.0D81967E1CEE607C9CCE3A4E326C4702.e.546\")>,\n",
       " <selenium.webdriver.remote.webelement.WebElement (session=\"71683ac346cc9b126168e8934739aff4\", element=\"f.5FC638BE14841E0FF43658A416B4A78D.d.0D81967E1CEE607C9CCE3A4E326C4702.e.547\")>,\n",
       " <selenium.webdriver.remote.webelement.WebElement (session=\"71683ac346cc9b126168e8934739aff4\", element=\"f.5FC638BE14841E0FF43658A416B4A78D.d.0D81967E1CEE607C9CCE3A4E326C4702.e.548\")>,\n",
       " <selenium.webdriver.remote.webelement.WebElement (session=\"71683ac346cc9b126168e8934739aff4\", element=\"f.5FC638BE14841E0FF43658A416B4A78D.d.0D81967E1CEE607C9CCE3A4E326C4702.e.549\")>,\n",
       " <selenium.webdriver.remote.webelement.WebElement (session=\"71683ac346cc9b126168e8934739aff4\", element=\"f.5FC638BE14841E0FF43658A416B4A78D.d.0D81967E1CEE607C9CCE3A4E326C4702.e.550\")>,\n",
       " <selenium.webdriver.remote.webelement.WebElement (session=\"71683ac346cc9b126168e8934739aff4\", element=\"f.5FC638BE14841E0FF43658A416B4A78D.d.0D81967E1CEE607C9CCE3A4E326C4702.e.551\")>,\n",
       " <selenium.webdriver.remote.webelement.WebElement (session=\"71683ac346cc9b126168e8934739aff4\", element=\"f.5FC638BE14841E0FF43658A416B4A78D.d.0D81967E1CEE607C9CCE3A4E326C4702.e.552\")>,\n",
       " <selenium.webdriver.remote.webelement.WebElement (session=\"71683ac346cc9b126168e8934739aff4\", element=\"f.5FC638BE14841E0FF43658A416B4A78D.d.0D81967E1CEE607C9CCE3A4E326C4702.e.553\")>,\n",
       " <selenium.webdriver.remote.webelement.WebElement (session=\"71683ac346cc9b126168e8934739aff4\", element=\"f.5FC638BE14841E0FF43658A416B4A78D.d.0D81967E1CEE607C9CCE3A4E326C4702.e.554\")>,\n",
       " <selenium.webdriver.remote.webelement.WebElement (session=\"71683ac346cc9b126168e8934739aff4\", element=\"f.5FC638BE14841E0FF43658A416B4A78D.d.0D81967E1CEE607C9CCE3A4E326C4702.e.555\")>,\n",
       " <selenium.webdriver.remote.webelement.WebElement (session=\"71683ac346cc9b126168e8934739aff4\", element=\"f.5FC638BE14841E0FF43658A416B4A78D.d.0D81967E1CEE607C9CCE3A4E326C4702.e.556\")>,\n",
       " <selenium.webdriver.remote.webelement.WebElement (session=\"71683ac346cc9b126168e8934739aff4\", element=\"f.5FC638BE14841E0FF43658A416B4A78D.d.0D81967E1CEE607C9CCE3A4E326C4702.e.557\")>,\n",
       " <selenium.webdriver.remote.webelement.WebElement (session=\"71683ac346cc9b126168e8934739aff4\", element=\"f.5FC638BE14841E0FF43658A416B4A78D.d.0D81967E1CEE607C9CCE3A4E326C4702.e.558\")>]"
      ]
     },
     "execution_count": 21,
     "metadata": {},
     "output_type": "execute_result"
    }
   ],
   "source": [
    "ratings = driver.find_elements(By.XPATH,'//span[@class=\"a-icon-alt\"]')\n",
    "ratings"
   ]
  },
  {
   "cell_type": "code",
   "execution_count": 22,
   "id": "76f7d918-6c07-4bba-a8c7-e5529b83776f",
   "metadata": {},
   "outputs": [
    {
     "data": {
      "text/plain": [
       "[<selenium.webdriver.remote.webelement.WebElement (session=\"71683ac346cc9b126168e8934739aff4\", element=\"f.5FC638BE14841E0FF43658A416B4A78D.d.0D81967E1CEE607C9CCE3A4E326C4702.e.559\")>,\n",
       " <selenium.webdriver.remote.webelement.WebElement (session=\"71683ac346cc9b126168e8934739aff4\", element=\"f.5FC638BE14841E0FF43658A416B4A78D.d.0D81967E1CEE607C9CCE3A4E326C4702.e.560\")>,\n",
       " <selenium.webdriver.remote.webelement.WebElement (session=\"71683ac346cc9b126168e8934739aff4\", element=\"f.5FC638BE14841E0FF43658A416B4A78D.d.0D81967E1CEE607C9CCE3A4E326C4702.e.561\")>,\n",
       " <selenium.webdriver.remote.webelement.WebElement (session=\"71683ac346cc9b126168e8934739aff4\", element=\"f.5FC638BE14841E0FF43658A416B4A78D.d.0D81967E1CEE607C9CCE3A4E326C4702.e.562\")>,\n",
       " <selenium.webdriver.remote.webelement.WebElement (session=\"71683ac346cc9b126168e8934739aff4\", element=\"f.5FC638BE14841E0FF43658A416B4A78D.d.0D81967E1CEE607C9CCE3A4E326C4702.e.563\")>,\n",
       " <selenium.webdriver.remote.webelement.WebElement (session=\"71683ac346cc9b126168e8934739aff4\", element=\"f.5FC638BE14841E0FF43658A416B4A78D.d.0D81967E1CEE607C9CCE3A4E326C4702.e.564\")>,\n",
       " <selenium.webdriver.remote.webelement.WebElement (session=\"71683ac346cc9b126168e8934739aff4\", element=\"f.5FC638BE14841E0FF43658A416B4A78D.d.0D81967E1CEE607C9CCE3A4E326C4702.e.565\")>,\n",
       " <selenium.webdriver.remote.webelement.WebElement (session=\"71683ac346cc9b126168e8934739aff4\", element=\"f.5FC638BE14841E0FF43658A416B4A78D.d.0D81967E1CEE607C9CCE3A4E326C4702.e.566\")>,\n",
       " <selenium.webdriver.remote.webelement.WebElement (session=\"71683ac346cc9b126168e8934739aff4\", element=\"f.5FC638BE14841E0FF43658A416B4A78D.d.0D81967E1CEE607C9CCE3A4E326C4702.e.567\")>,\n",
       " <selenium.webdriver.remote.webelement.WebElement (session=\"71683ac346cc9b126168e8934739aff4\", element=\"f.5FC638BE14841E0FF43658A416B4A78D.d.0D81967E1CEE607C9CCE3A4E326C4702.e.568\")>,\n",
       " <selenium.webdriver.remote.webelement.WebElement (session=\"71683ac346cc9b126168e8934739aff4\", element=\"f.5FC638BE14841E0FF43658A416B4A78D.d.0D81967E1CEE607C9CCE3A4E326C4702.e.569\")>,\n",
       " <selenium.webdriver.remote.webelement.WebElement (session=\"71683ac346cc9b126168e8934739aff4\", element=\"f.5FC638BE14841E0FF43658A416B4A78D.d.0D81967E1CEE607C9CCE3A4E326C4702.e.570\")>,\n",
       " <selenium.webdriver.remote.webelement.WebElement (session=\"71683ac346cc9b126168e8934739aff4\", element=\"f.5FC638BE14841E0FF43658A416B4A78D.d.0D81967E1CEE607C9CCE3A4E326C4702.e.571\")>,\n",
       " <selenium.webdriver.remote.webelement.WebElement (session=\"71683ac346cc9b126168e8934739aff4\", element=\"f.5FC638BE14841E0FF43658A416B4A78D.d.0D81967E1CEE607C9CCE3A4E326C4702.e.572\")>,\n",
       " <selenium.webdriver.remote.webelement.WebElement (session=\"71683ac346cc9b126168e8934739aff4\", element=\"f.5FC638BE14841E0FF43658A416B4A78D.d.0D81967E1CEE607C9CCE3A4E326C4702.e.573\")>,\n",
       " <selenium.webdriver.remote.webelement.WebElement (session=\"71683ac346cc9b126168e8934739aff4\", element=\"f.5FC638BE14841E0FF43658A416B4A78D.d.0D81967E1CEE607C9CCE3A4E326C4702.e.574\")>,\n",
       " <selenium.webdriver.remote.webelement.WebElement (session=\"71683ac346cc9b126168e8934739aff4\", element=\"f.5FC638BE14841E0FF43658A416B4A78D.d.0D81967E1CEE607C9CCE3A4E326C4702.e.575\")>,\n",
       " <selenium.webdriver.remote.webelement.WebElement (session=\"71683ac346cc9b126168e8934739aff4\", element=\"f.5FC638BE14841E0FF43658A416B4A78D.d.0D81967E1CEE607C9CCE3A4E326C4702.e.576\")>,\n",
       " <selenium.webdriver.remote.webelement.WebElement (session=\"71683ac346cc9b126168e8934739aff4\", element=\"f.5FC638BE14841E0FF43658A416B4A78D.d.0D81967E1CEE607C9CCE3A4E326C4702.e.577\")>,\n",
       " <selenium.webdriver.remote.webelement.WebElement (session=\"71683ac346cc9b126168e8934739aff4\", element=\"f.5FC638BE14841E0FF43658A416B4A78D.d.0D81967E1CEE607C9CCE3A4E326C4702.e.578\")>,\n",
       " <selenium.webdriver.remote.webelement.WebElement (session=\"71683ac346cc9b126168e8934739aff4\", element=\"f.5FC638BE14841E0FF43658A416B4A78D.d.0D81967E1CEE607C9CCE3A4E326C4702.e.579\")>,\n",
       " <selenium.webdriver.remote.webelement.WebElement (session=\"71683ac346cc9b126168e8934739aff4\", element=\"f.5FC638BE14841E0FF43658A416B4A78D.d.0D81967E1CEE607C9CCE3A4E326C4702.e.580\")>,\n",
       " <selenium.webdriver.remote.webelement.WebElement (session=\"71683ac346cc9b126168e8934739aff4\", element=\"f.5FC638BE14841E0FF43658A416B4A78D.d.0D81967E1CEE607C9CCE3A4E326C4702.e.581\")>,\n",
       " <selenium.webdriver.remote.webelement.WebElement (session=\"71683ac346cc9b126168e8934739aff4\", element=\"f.5FC638BE14841E0FF43658A416B4A78D.d.0D81967E1CEE607C9CCE3A4E326C4702.e.582\")>]"
      ]
     },
     "execution_count": 22,
     "metadata": {},
     "output_type": "execute_result"
    }
   ],
   "source": [
    "price_ = driver.find_elements(By.XPATH,'//span[@class=\"a-price-whole\"]')\n",
    "price_"
   ]
  },
  {
   "cell_type": "code",
   "execution_count": 23,
   "id": "aa4105bd-fdc0-41d5-ab49-f1f4b455ac84",
   "metadata": {},
   "outputs": [],
   "source": [
    "titles = []\n",
    "rating = []\n",
    "price = []"
   ]
  },
  {
   "cell_type": "code",
   "execution_count": 24,
   "id": "18857256-c643-45a8-bef0-7977cc39cf13",
   "metadata": {},
   "outputs": [
    {
     "data": {
      "text/plain": [
       "['MSI Modern 14, Intel 12th Gen. i7-1255U, 36CM FHD 60Hz Laptop (16GB/512GB NVMe SSD/Windows 11 Home/Intel Iris Xe Graphics/Classic Black/1.4Kg), C12M-459IN',\n",
       " 'HP Laptop 15s, 12th Gen Intel Core i7-1255U, 15.6-inch (39.6 cm), FHD, 16GB DDR4, 512GB SSD, Intel Iris Xe graphics, Backlit KB, Thin & light (Win 11, MSO 2021, Silver, 1.69 kg), fq5190TU',\n",
       " 'ASUS Vivobook 15, Intel Core i7-12650H 12th Gen, 15.6\" (39.62 cm) FHD, Thin and Light Laptop (16GB/512GB/Win11/Office 2021/Blue/1.7 kg), X1502ZA-EJ741WS',\n",
       " 'Lenovo IdeaPad 3 Intel Core i7 12th Gen 1255U - (16 GB/512 GB SSD/Windows 11 Home) 15IAU7 Laptop 82RK011GIN (39.62 cm, Arctic Grey, 1.63 Kg, with MS Office)',\n",
       " 'Lenovo IdeaPad Slim 5 Intel Core i7 13700H 16\" (40.6cm) 2.5K IPS 350Nits Laptop (16GB/1TB SSD/Win 11/Office 2021/Backlit KB/FHD 1080p +IR Camera/Alexa/3 month Game Pass/Cloud Grey/1.9Kg), 82XF0078IN',\n",
       " 'HP Pavilion 14 12th Gen Intel Core i7 16GB SDRAM/1TB SSD 14 inch(35.6cm) FHD,IPS,Micro-Edge Display/Intel Iris Xe Graphics/B&O/Win 11/Alexa Built-in/Backlit KB/FPR/MSO 2021/Natural Silver,14-dv2015TU',\n",
       " 'HP Victus Gaming Laptop, 12th Gen Intel Core i7-12650H, 6GB RTX 4050 GPU, 15.6-inch (39.6 cm), 75W TGP, FHD, IPS, 144Hz, 16GB DDR4, 512GB SSD, Backlit KB, B&O (Win 11, MSO, Silver, 2.37 kg), fa1134TX',\n",
       " 'Dell Latitude 7480 14in FHD Laptop PC - Intel Core i7-6600U 2.6GHz 16GB 512GB SSD Windows 10 Professional (Renewed)',\n",
       " 'Dell [Smartchoice Inspiron 5430 Thin & Light Laptop, 13th Gen Intel Core i7-1360P/16GB/1TB SSD/14.0\" (35.56cm) FHD+ WVA 250 nits/Backlit KB + FPR/Windows 11 + MSO\\'21/15 Month McAfee/Silver/1.59kg',\n",
       " 'HP Pavilion 15, 13th Gen Intel Core i7-1360P, 15.6-inch (39.6 cm), FHD, 16GB DDR4, 1TB SSD, Intel Iris Xᵉ graphics, FPR, Backlit KB, Audio by B&O (Win 11, MSO 2021, Silver, 1.74 kg), eg3036TU']"
      ]
     },
     "execution_count": 24,
     "metadata": {},
     "output_type": "execute_result"
    }
   ],
   "source": [
    "for i in title[:10]:\n",
    "    titles.append(i.text)\n",
    "\n",
    "titles[:10]"
   ]
  },
  {
   "cell_type": "code",
   "execution_count": 25,
   "id": "b476f31b-2d15-4bc3-8bae-5379c772c2df",
   "metadata": {},
   "outputs": [
    {
     "data": {
      "text/plain": [
       "['4.0 out of 5 stars',\n",
       " '3.4 out of 5 stars',\n",
       " '3.7 out of 5 stars',\n",
       " '4.1 out of 5 stars',\n",
       " '4.2 out of 5 stars',\n",
       " '4.0 out of 5 stars',\n",
       " '4.1 out of 5 stars',\n",
       " '4.0 out of 5 stars',\n",
       " '3.7 out of 5 stars',\n",
       " '3.9 out of 5 stars']"
      ]
     },
     "execution_count": 25,
     "metadata": {},
     "output_type": "execute_result"
    }
   ],
   "source": [
    "for i in ratings[0:10]:\n",
    "    rating.append(i.get_attribute('innerHTML'))\n",
    "\n",
    "rating[0:10]"
   ]
  },
  {
   "cell_type": "code",
   "execution_count": 26,
   "id": "aeda4952-3270-4a53-82b5-efc320ae7bc9",
   "metadata": {},
   "outputs": [
    {
     "data": {
      "text/plain": [
       "['47,990',\n",
       " '64,990',\n",
       " '47,990',\n",
       " '65,490',\n",
       " '64,990',\n",
       " '62,009',\n",
       " '84,190',\n",
       " '78,850',\n",
       " '88,990',\n",
       " '80,490']"
      ]
     },
     "execution_count": 26,
     "metadata": {},
     "output_type": "execute_result"
    }
   ],
   "source": [
    "for i in price_[0:10]:\n",
    "    price.append(i.text)\n",
    "\n",
    "price[0:10]"
   ]
  },
  {
   "cell_type": "code",
   "execution_count": 27,
   "id": "d7ef9b52-5cb1-4ce5-808a-bcaaa9f9cbe8",
   "metadata": {},
   "outputs": [
    {
     "data": {
      "text/plain": [
       "(10, 10, 10)"
      ]
     },
     "execution_count": 27,
     "metadata": {},
     "output_type": "execute_result"
    }
   ],
   "source": [
    "len(titles),len(rating),len(price)"
   ]
  },
  {
   "cell_type": "code",
   "execution_count": 28,
   "id": "3e60cfd1-c733-491d-9f8e-0180c3f8bce2",
   "metadata": {},
   "outputs": [
    {
     "data": {
      "text/html": [
       "<div>\n",
       "<style scoped>\n",
       "    .dataframe tbody tr th:only-of-type {\n",
       "        vertical-align: middle;\n",
       "    }\n",
       "\n",
       "    .dataframe tbody tr th {\n",
       "        vertical-align: top;\n",
       "    }\n",
       "\n",
       "    .dataframe thead th {\n",
       "        text-align: right;\n",
       "    }\n",
       "</style>\n",
       "<table border=\"1\" class=\"dataframe\">\n",
       "  <thead>\n",
       "    <tr style=\"text-align: right;\">\n",
       "      <th></th>\n",
       "      <th>Title</th>\n",
       "      <th>Ratings</th>\n",
       "      <th>Price</th>\n",
       "    </tr>\n",
       "  </thead>\n",
       "  <tbody>\n",
       "    <tr>\n",
       "      <th>0</th>\n",
       "      <td>MSI Modern 14, Intel 12th Gen. i7-1255U, 36CM ...</td>\n",
       "      <td>4.0 out of 5 stars</td>\n",
       "      <td>47,990</td>\n",
       "    </tr>\n",
       "    <tr>\n",
       "      <th>1</th>\n",
       "      <td>HP Laptop 15s, 12th Gen Intel Core i7-1255U, 1...</td>\n",
       "      <td>3.4 out of 5 stars</td>\n",
       "      <td>64,990</td>\n",
       "    </tr>\n",
       "    <tr>\n",
       "      <th>2</th>\n",
       "      <td>ASUS Vivobook 15, Intel Core i7-12650H 12th Ge...</td>\n",
       "      <td>3.7 out of 5 stars</td>\n",
       "      <td>47,990</td>\n",
       "    </tr>\n",
       "    <tr>\n",
       "      <th>3</th>\n",
       "      <td>Lenovo IdeaPad 3 Intel Core i7 12th Gen 1255U ...</td>\n",
       "      <td>4.1 out of 5 stars</td>\n",
       "      <td>65,490</td>\n",
       "    </tr>\n",
       "    <tr>\n",
       "      <th>4</th>\n",
       "      <td>Lenovo IdeaPad Slim 5 Intel Core i7 13700H 16\"...</td>\n",
       "      <td>4.2 out of 5 stars</td>\n",
       "      <td>64,990</td>\n",
       "    </tr>\n",
       "    <tr>\n",
       "      <th>5</th>\n",
       "      <td>HP Pavilion 14 12th Gen Intel Core i7 16GB SDR...</td>\n",
       "      <td>4.0 out of 5 stars</td>\n",
       "      <td>62,009</td>\n",
       "    </tr>\n",
       "    <tr>\n",
       "      <th>6</th>\n",
       "      <td>HP Victus Gaming Laptop, 12th Gen Intel Core i...</td>\n",
       "      <td>4.1 out of 5 stars</td>\n",
       "      <td>84,190</td>\n",
       "    </tr>\n",
       "    <tr>\n",
       "      <th>7</th>\n",
       "      <td>Dell Latitude 7480 14in FHD Laptop PC - Intel ...</td>\n",
       "      <td>4.0 out of 5 stars</td>\n",
       "      <td>78,850</td>\n",
       "    </tr>\n",
       "    <tr>\n",
       "      <th>8</th>\n",
       "      <td>Dell [Smartchoice Inspiron 5430 Thin &amp; Light L...</td>\n",
       "      <td>3.7 out of 5 stars</td>\n",
       "      <td>88,990</td>\n",
       "    </tr>\n",
       "    <tr>\n",
       "      <th>9</th>\n",
       "      <td>HP Pavilion 15, 13th Gen Intel Core i7-1360P, ...</td>\n",
       "      <td>3.9 out of 5 stars</td>\n",
       "      <td>80,490</td>\n",
       "    </tr>\n",
       "  </tbody>\n",
       "</table>\n",
       "</div>"
      ],
      "text/plain": [
       "                                               Title             Ratings  \\\n",
       "0  MSI Modern 14, Intel 12th Gen. i7-1255U, 36CM ...  4.0 out of 5 stars   \n",
       "1  HP Laptop 15s, 12th Gen Intel Core i7-1255U, 1...  3.4 out of 5 stars   \n",
       "2  ASUS Vivobook 15, Intel Core i7-12650H 12th Ge...  3.7 out of 5 stars   \n",
       "3  Lenovo IdeaPad 3 Intel Core i7 12th Gen 1255U ...  4.1 out of 5 stars   \n",
       "4  Lenovo IdeaPad Slim 5 Intel Core i7 13700H 16\"...  4.2 out of 5 stars   \n",
       "5  HP Pavilion 14 12th Gen Intel Core i7 16GB SDR...  4.0 out of 5 stars   \n",
       "6  HP Victus Gaming Laptop, 12th Gen Intel Core i...  4.1 out of 5 stars   \n",
       "7  Dell Latitude 7480 14in FHD Laptop PC - Intel ...  4.0 out of 5 stars   \n",
       "8  Dell [Smartchoice Inspiron 5430 Thin & Light L...  3.7 out of 5 stars   \n",
       "9  HP Pavilion 15, 13th Gen Intel Core i7-1360P, ...  3.9 out of 5 stars   \n",
       "\n",
       "    Price  \n",
       "0  47,990  \n",
       "1  64,990  \n",
       "2  47,990  \n",
       "3  65,490  \n",
       "4  64,990  \n",
       "5  62,009  \n",
       "6  84,190  \n",
       "7  78,850  \n",
       "8  88,990  \n",
       "9  80,490  "
      ]
     },
     "execution_count": 28,
     "metadata": {},
     "output_type": "execute_result"
    }
   ],
   "source": [
    "df = pd.DataFrame({'Title':titles,'Ratings':rating,'Price':price})\n",
    "df"
   ]
  },
  {
   "cell_type": "markdown",
   "id": "550e7f9c-1576-48a1-bdbb-069932fd5546",
   "metadata": {},
   "source": [
    "Q: Scrape data forfirst 100 sneakers you find whenyouvisit flipkart.com and search for “sneakers” inthe search\n",
    "field.\n",
    "You have to scrape 3 attributes of each sneaker:\n",
    "1. Brand\n",
    "2. ProductDescription\n",
    "3. Price\n",
    "As shown in the below image, you have to scrape the above attributes."
   ]
  },
  {
   "cell_type": "code",
   "execution_count": 29,
   "id": "71f7a1b2-7843-4ecc-815b-b0a2da179ab4",
   "metadata": {},
   "outputs": [],
   "source": [
    "driver = webdriver.Chrome()\n",
    "driver.get('https://www.flipkart.com/')\n",
    "driver.maximize_window()"
   ]
  },
  {
   "cell_type": "code",
   "execution_count": 30,
   "id": "5b475586-a65b-4d8e-93b8-8f4fee2ef617",
   "metadata": {},
   "outputs": [],
   "source": [
    "product = driver.find_element(By.CLASS_NAME,\"Pke_EE\")\n",
    "product.send_keys('sneakers')"
   ]
  },
  {
   "cell_type": "code",
   "execution_count": 31,
   "id": "fdfb3954-1bef-46e6-b53f-424a5a549d20",
   "metadata": {},
   "outputs": [],
   "source": [
    "click_on_search = driver.find_element(By.CLASS_NAME,\"_2iLD__\")\n",
    "click_on_search.click()"
   ]
  },
  {
   "cell_type": "code",
   "execution_count": 32,
   "id": "9701a48e-2701-4be6-ad00-ee4cd27987b3",
   "metadata": {},
   "outputs": [
    {
     "data": {
      "text/plain": [
       "[<selenium.webdriver.remote.webelement.WebElement (session=\"7569939a50ee5d1a60a1fa5b92ba180f\", element=\"f.1180DE350D6D40EC4DBF5658AC0AA78A.d.FFE7B35F22D8073C13A8C9B019C7A977.e.324\")>,\n",
       " <selenium.webdriver.remote.webelement.WebElement (session=\"7569939a50ee5d1a60a1fa5b92ba180f\", element=\"f.1180DE350D6D40EC4DBF5658AC0AA78A.d.FFE7B35F22D8073C13A8C9B019C7A977.e.325\")>,\n",
       " <selenium.webdriver.remote.webelement.WebElement (session=\"7569939a50ee5d1a60a1fa5b92ba180f\", element=\"f.1180DE350D6D40EC4DBF5658AC0AA78A.d.FFE7B35F22D8073C13A8C9B019C7A977.e.326\")>,\n",
       " <selenium.webdriver.remote.webelement.WebElement (session=\"7569939a50ee5d1a60a1fa5b92ba180f\", element=\"f.1180DE350D6D40EC4DBF5658AC0AA78A.d.FFE7B35F22D8073C13A8C9B019C7A977.e.327\")>,\n",
       " <selenium.webdriver.remote.webelement.WebElement (session=\"7569939a50ee5d1a60a1fa5b92ba180f\", element=\"f.1180DE350D6D40EC4DBF5658AC0AA78A.d.FFE7B35F22D8073C13A8C9B019C7A977.e.328\")>,\n",
       " <selenium.webdriver.remote.webelement.WebElement (session=\"7569939a50ee5d1a60a1fa5b92ba180f\", element=\"f.1180DE350D6D40EC4DBF5658AC0AA78A.d.FFE7B35F22D8073C13A8C9B019C7A977.e.329\")>,\n",
       " <selenium.webdriver.remote.webelement.WebElement (session=\"7569939a50ee5d1a60a1fa5b92ba180f\", element=\"f.1180DE350D6D40EC4DBF5658AC0AA78A.d.FFE7B35F22D8073C13A8C9B019C7A977.e.330\")>,\n",
       " <selenium.webdriver.remote.webelement.WebElement (session=\"7569939a50ee5d1a60a1fa5b92ba180f\", element=\"f.1180DE350D6D40EC4DBF5658AC0AA78A.d.FFE7B35F22D8073C13A8C9B019C7A977.e.331\")>,\n",
       " <selenium.webdriver.remote.webelement.WebElement (session=\"7569939a50ee5d1a60a1fa5b92ba180f\", element=\"f.1180DE350D6D40EC4DBF5658AC0AA78A.d.FFE7B35F22D8073C13A8C9B019C7A977.e.332\")>,\n",
       " <selenium.webdriver.remote.webelement.WebElement (session=\"7569939a50ee5d1a60a1fa5b92ba180f\", element=\"f.1180DE350D6D40EC4DBF5658AC0AA78A.d.FFE7B35F22D8073C13A8C9B019C7A977.e.333\")>,\n",
       " <selenium.webdriver.remote.webelement.WebElement (session=\"7569939a50ee5d1a60a1fa5b92ba180f\", element=\"f.1180DE350D6D40EC4DBF5658AC0AA78A.d.FFE7B35F22D8073C13A8C9B019C7A977.e.334\")>,\n",
       " <selenium.webdriver.remote.webelement.WebElement (session=\"7569939a50ee5d1a60a1fa5b92ba180f\", element=\"f.1180DE350D6D40EC4DBF5658AC0AA78A.d.FFE7B35F22D8073C13A8C9B019C7A977.e.335\")>,\n",
       " <selenium.webdriver.remote.webelement.WebElement (session=\"7569939a50ee5d1a60a1fa5b92ba180f\", element=\"f.1180DE350D6D40EC4DBF5658AC0AA78A.d.FFE7B35F22D8073C13A8C9B019C7A977.e.336\")>,\n",
       " <selenium.webdriver.remote.webelement.WebElement (session=\"7569939a50ee5d1a60a1fa5b92ba180f\", element=\"f.1180DE350D6D40EC4DBF5658AC0AA78A.d.FFE7B35F22D8073C13A8C9B019C7A977.e.337\")>,\n",
       " <selenium.webdriver.remote.webelement.WebElement (session=\"7569939a50ee5d1a60a1fa5b92ba180f\", element=\"f.1180DE350D6D40EC4DBF5658AC0AA78A.d.FFE7B35F22D8073C13A8C9B019C7A977.e.338\")>,\n",
       " <selenium.webdriver.remote.webelement.WebElement (session=\"7569939a50ee5d1a60a1fa5b92ba180f\", element=\"f.1180DE350D6D40EC4DBF5658AC0AA78A.d.FFE7B35F22D8073C13A8C9B019C7A977.e.339\")>,\n",
       " <selenium.webdriver.remote.webelement.WebElement (session=\"7569939a50ee5d1a60a1fa5b92ba180f\", element=\"f.1180DE350D6D40EC4DBF5658AC0AA78A.d.FFE7B35F22D8073C13A8C9B019C7A977.e.340\")>,\n",
       " <selenium.webdriver.remote.webelement.WebElement (session=\"7569939a50ee5d1a60a1fa5b92ba180f\", element=\"f.1180DE350D6D40EC4DBF5658AC0AA78A.d.FFE7B35F22D8073C13A8C9B019C7A977.e.341\")>,\n",
       " <selenium.webdriver.remote.webelement.WebElement (session=\"7569939a50ee5d1a60a1fa5b92ba180f\", element=\"f.1180DE350D6D40EC4DBF5658AC0AA78A.d.FFE7B35F22D8073C13A8C9B019C7A977.e.342\")>,\n",
       " <selenium.webdriver.remote.webelement.WebElement (session=\"7569939a50ee5d1a60a1fa5b92ba180f\", element=\"f.1180DE350D6D40EC4DBF5658AC0AA78A.d.FFE7B35F22D8073C13A8C9B019C7A977.e.343\")>,\n",
       " <selenium.webdriver.remote.webelement.WebElement (session=\"7569939a50ee5d1a60a1fa5b92ba180f\", element=\"f.1180DE350D6D40EC4DBF5658AC0AA78A.d.FFE7B35F22D8073C13A8C9B019C7A977.e.344\")>,\n",
       " <selenium.webdriver.remote.webelement.WebElement (session=\"7569939a50ee5d1a60a1fa5b92ba180f\", element=\"f.1180DE350D6D40EC4DBF5658AC0AA78A.d.FFE7B35F22D8073C13A8C9B019C7A977.e.345\")>,\n",
       " <selenium.webdriver.remote.webelement.WebElement (session=\"7569939a50ee5d1a60a1fa5b92ba180f\", element=\"f.1180DE350D6D40EC4DBF5658AC0AA78A.d.FFE7B35F22D8073C13A8C9B019C7A977.e.346\")>,\n",
       " <selenium.webdriver.remote.webelement.WebElement (session=\"7569939a50ee5d1a60a1fa5b92ba180f\", element=\"f.1180DE350D6D40EC4DBF5658AC0AA78A.d.FFE7B35F22D8073C13A8C9B019C7A977.e.347\")>,\n",
       " <selenium.webdriver.remote.webelement.WebElement (session=\"7569939a50ee5d1a60a1fa5b92ba180f\", element=\"f.1180DE350D6D40EC4DBF5658AC0AA78A.d.FFE7B35F22D8073C13A8C9B019C7A977.e.348\")>,\n",
       " <selenium.webdriver.remote.webelement.WebElement (session=\"7569939a50ee5d1a60a1fa5b92ba180f\", element=\"f.1180DE350D6D40EC4DBF5658AC0AA78A.d.FFE7B35F22D8073C13A8C9B019C7A977.e.349\")>,\n",
       " <selenium.webdriver.remote.webelement.WebElement (session=\"7569939a50ee5d1a60a1fa5b92ba180f\", element=\"f.1180DE350D6D40EC4DBF5658AC0AA78A.d.FFE7B35F22D8073C13A8C9B019C7A977.e.350\")>,\n",
       " <selenium.webdriver.remote.webelement.WebElement (session=\"7569939a50ee5d1a60a1fa5b92ba180f\", element=\"f.1180DE350D6D40EC4DBF5658AC0AA78A.d.FFE7B35F22D8073C13A8C9B019C7A977.e.351\")>,\n",
       " <selenium.webdriver.remote.webelement.WebElement (session=\"7569939a50ee5d1a60a1fa5b92ba180f\", element=\"f.1180DE350D6D40EC4DBF5658AC0AA78A.d.FFE7B35F22D8073C13A8C9B019C7A977.e.352\")>,\n",
       " <selenium.webdriver.remote.webelement.WebElement (session=\"7569939a50ee5d1a60a1fa5b92ba180f\", element=\"f.1180DE350D6D40EC4DBF5658AC0AA78A.d.FFE7B35F22D8073C13A8C9B019C7A977.e.353\")>,\n",
       " <selenium.webdriver.remote.webelement.WebElement (session=\"7569939a50ee5d1a60a1fa5b92ba180f\", element=\"f.1180DE350D6D40EC4DBF5658AC0AA78A.d.FFE7B35F22D8073C13A8C9B019C7A977.e.354\")>,\n",
       " <selenium.webdriver.remote.webelement.WebElement (session=\"7569939a50ee5d1a60a1fa5b92ba180f\", element=\"f.1180DE350D6D40EC4DBF5658AC0AA78A.d.FFE7B35F22D8073C13A8C9B019C7A977.e.355\")>,\n",
       " <selenium.webdriver.remote.webelement.WebElement (session=\"7569939a50ee5d1a60a1fa5b92ba180f\", element=\"f.1180DE350D6D40EC4DBF5658AC0AA78A.d.FFE7B35F22D8073C13A8C9B019C7A977.e.356\")>,\n",
       " <selenium.webdriver.remote.webelement.WebElement (session=\"7569939a50ee5d1a60a1fa5b92ba180f\", element=\"f.1180DE350D6D40EC4DBF5658AC0AA78A.d.FFE7B35F22D8073C13A8C9B019C7A977.e.357\")>,\n",
       " <selenium.webdriver.remote.webelement.WebElement (session=\"7569939a50ee5d1a60a1fa5b92ba180f\", element=\"f.1180DE350D6D40EC4DBF5658AC0AA78A.d.FFE7B35F22D8073C13A8C9B019C7A977.e.358\")>,\n",
       " <selenium.webdriver.remote.webelement.WebElement (session=\"7569939a50ee5d1a60a1fa5b92ba180f\", element=\"f.1180DE350D6D40EC4DBF5658AC0AA78A.d.FFE7B35F22D8073C13A8C9B019C7A977.e.359\")>,\n",
       " <selenium.webdriver.remote.webelement.WebElement (session=\"7569939a50ee5d1a60a1fa5b92ba180f\", element=\"f.1180DE350D6D40EC4DBF5658AC0AA78A.d.FFE7B35F22D8073C13A8C9B019C7A977.e.360\")>,\n",
       " <selenium.webdriver.remote.webelement.WebElement (session=\"7569939a50ee5d1a60a1fa5b92ba180f\", element=\"f.1180DE350D6D40EC4DBF5658AC0AA78A.d.FFE7B35F22D8073C13A8C9B019C7A977.e.361\")>,\n",
       " <selenium.webdriver.remote.webelement.WebElement (session=\"7569939a50ee5d1a60a1fa5b92ba180f\", element=\"f.1180DE350D6D40EC4DBF5658AC0AA78A.d.FFE7B35F22D8073C13A8C9B019C7A977.e.362\")>,\n",
       " <selenium.webdriver.remote.webelement.WebElement (session=\"7569939a50ee5d1a60a1fa5b92ba180f\", element=\"f.1180DE350D6D40EC4DBF5658AC0AA78A.d.FFE7B35F22D8073C13A8C9B019C7A977.e.363\")>]"
      ]
     },
     "execution_count": 32,
     "metadata": {},
     "output_type": "execute_result"
    }
   ],
   "source": [
    "brand_name = driver.find_elements(By.CLASS_NAME,\"syl9yP\")\n",
    "brand_name"
   ]
  },
  {
   "cell_type": "code",
   "execution_count": 33,
   "id": "3ced5572-90e8-4a14-9d2c-ce3d7d403eb4",
   "metadata": {},
   "outputs": [
    {
     "data": {
      "text/plain": [
       "[<selenium.webdriver.remote.webelement.WebElement (session=\"7569939a50ee5d1a60a1fa5b92ba180f\", element=\"f.1180DE350D6D40EC4DBF5658AC0AA78A.d.FFE7B35F22D8073C13A8C9B019C7A977.e.364\")>,\n",
       " <selenium.webdriver.remote.webelement.WebElement (session=\"7569939a50ee5d1a60a1fa5b92ba180f\", element=\"f.1180DE350D6D40EC4DBF5658AC0AA78A.d.FFE7B35F22D8073C13A8C9B019C7A977.e.365\")>,\n",
       " <selenium.webdriver.remote.webelement.WebElement (session=\"7569939a50ee5d1a60a1fa5b92ba180f\", element=\"f.1180DE350D6D40EC4DBF5658AC0AA78A.d.FFE7B35F22D8073C13A8C9B019C7A977.e.366\")>,\n",
       " <selenium.webdriver.remote.webelement.WebElement (session=\"7569939a50ee5d1a60a1fa5b92ba180f\", element=\"f.1180DE350D6D40EC4DBF5658AC0AA78A.d.FFE7B35F22D8073C13A8C9B019C7A977.e.367\")>,\n",
       " <selenium.webdriver.remote.webelement.WebElement (session=\"7569939a50ee5d1a60a1fa5b92ba180f\", element=\"f.1180DE350D6D40EC4DBF5658AC0AA78A.d.FFE7B35F22D8073C13A8C9B019C7A977.e.368\")>,\n",
       " <selenium.webdriver.remote.webelement.WebElement (session=\"7569939a50ee5d1a60a1fa5b92ba180f\", element=\"f.1180DE350D6D40EC4DBF5658AC0AA78A.d.FFE7B35F22D8073C13A8C9B019C7A977.e.369\")>,\n",
       " <selenium.webdriver.remote.webelement.WebElement (session=\"7569939a50ee5d1a60a1fa5b92ba180f\", element=\"f.1180DE350D6D40EC4DBF5658AC0AA78A.d.FFE7B35F22D8073C13A8C9B019C7A977.e.370\")>,\n",
       " <selenium.webdriver.remote.webelement.WebElement (session=\"7569939a50ee5d1a60a1fa5b92ba180f\", element=\"f.1180DE350D6D40EC4DBF5658AC0AA78A.d.FFE7B35F22D8073C13A8C9B019C7A977.e.371\")>,\n",
       " <selenium.webdriver.remote.webelement.WebElement (session=\"7569939a50ee5d1a60a1fa5b92ba180f\", element=\"f.1180DE350D6D40EC4DBF5658AC0AA78A.d.FFE7B35F22D8073C13A8C9B019C7A977.e.372\")>,\n",
       " <selenium.webdriver.remote.webelement.WebElement (session=\"7569939a50ee5d1a60a1fa5b92ba180f\", element=\"f.1180DE350D6D40EC4DBF5658AC0AA78A.d.FFE7B35F22D8073C13A8C9B019C7A977.e.373\")>,\n",
       " <selenium.webdriver.remote.webelement.WebElement (session=\"7569939a50ee5d1a60a1fa5b92ba180f\", element=\"f.1180DE350D6D40EC4DBF5658AC0AA78A.d.FFE7B35F22D8073C13A8C9B019C7A977.e.374\")>,\n",
       " <selenium.webdriver.remote.webelement.WebElement (session=\"7569939a50ee5d1a60a1fa5b92ba180f\", element=\"f.1180DE350D6D40EC4DBF5658AC0AA78A.d.FFE7B35F22D8073C13A8C9B019C7A977.e.375\")>,\n",
       " <selenium.webdriver.remote.webelement.WebElement (session=\"7569939a50ee5d1a60a1fa5b92ba180f\", element=\"f.1180DE350D6D40EC4DBF5658AC0AA78A.d.FFE7B35F22D8073C13A8C9B019C7A977.e.376\")>,\n",
       " <selenium.webdriver.remote.webelement.WebElement (session=\"7569939a50ee5d1a60a1fa5b92ba180f\", element=\"f.1180DE350D6D40EC4DBF5658AC0AA78A.d.FFE7B35F22D8073C13A8C9B019C7A977.e.377\")>,\n",
       " <selenium.webdriver.remote.webelement.WebElement (session=\"7569939a50ee5d1a60a1fa5b92ba180f\", element=\"f.1180DE350D6D40EC4DBF5658AC0AA78A.d.FFE7B35F22D8073C13A8C9B019C7A977.e.378\")>,\n",
       " <selenium.webdriver.remote.webelement.WebElement (session=\"7569939a50ee5d1a60a1fa5b92ba180f\", element=\"f.1180DE350D6D40EC4DBF5658AC0AA78A.d.FFE7B35F22D8073C13A8C9B019C7A977.e.379\")>,\n",
       " <selenium.webdriver.remote.webelement.WebElement (session=\"7569939a50ee5d1a60a1fa5b92ba180f\", element=\"f.1180DE350D6D40EC4DBF5658AC0AA78A.d.FFE7B35F22D8073C13A8C9B019C7A977.e.380\")>,\n",
       " <selenium.webdriver.remote.webelement.WebElement (session=\"7569939a50ee5d1a60a1fa5b92ba180f\", element=\"f.1180DE350D6D40EC4DBF5658AC0AA78A.d.FFE7B35F22D8073C13A8C9B019C7A977.e.381\")>,\n",
       " <selenium.webdriver.remote.webelement.WebElement (session=\"7569939a50ee5d1a60a1fa5b92ba180f\", element=\"f.1180DE350D6D40EC4DBF5658AC0AA78A.d.FFE7B35F22D8073C13A8C9B019C7A977.e.382\")>,\n",
       " <selenium.webdriver.remote.webelement.WebElement (session=\"7569939a50ee5d1a60a1fa5b92ba180f\", element=\"f.1180DE350D6D40EC4DBF5658AC0AA78A.d.FFE7B35F22D8073C13A8C9B019C7A977.e.383\")>,\n",
       " <selenium.webdriver.remote.webelement.WebElement (session=\"7569939a50ee5d1a60a1fa5b92ba180f\", element=\"f.1180DE350D6D40EC4DBF5658AC0AA78A.d.FFE7B35F22D8073C13A8C9B019C7A977.e.384\")>,\n",
       " <selenium.webdriver.remote.webelement.WebElement (session=\"7569939a50ee5d1a60a1fa5b92ba180f\", element=\"f.1180DE350D6D40EC4DBF5658AC0AA78A.d.FFE7B35F22D8073C13A8C9B019C7A977.e.385\")>,\n",
       " <selenium.webdriver.remote.webelement.WebElement (session=\"7569939a50ee5d1a60a1fa5b92ba180f\", element=\"f.1180DE350D6D40EC4DBF5658AC0AA78A.d.FFE7B35F22D8073C13A8C9B019C7A977.e.386\")>,\n",
       " <selenium.webdriver.remote.webelement.WebElement (session=\"7569939a50ee5d1a60a1fa5b92ba180f\", element=\"f.1180DE350D6D40EC4DBF5658AC0AA78A.d.FFE7B35F22D8073C13A8C9B019C7A977.e.387\")>,\n",
       " <selenium.webdriver.remote.webelement.WebElement (session=\"7569939a50ee5d1a60a1fa5b92ba180f\", element=\"f.1180DE350D6D40EC4DBF5658AC0AA78A.d.FFE7B35F22D8073C13A8C9B019C7A977.e.388\")>,\n",
       " <selenium.webdriver.remote.webelement.WebElement (session=\"7569939a50ee5d1a60a1fa5b92ba180f\", element=\"f.1180DE350D6D40EC4DBF5658AC0AA78A.d.FFE7B35F22D8073C13A8C9B019C7A977.e.389\")>,\n",
       " <selenium.webdriver.remote.webelement.WebElement (session=\"7569939a50ee5d1a60a1fa5b92ba180f\", element=\"f.1180DE350D6D40EC4DBF5658AC0AA78A.d.FFE7B35F22D8073C13A8C9B019C7A977.e.390\")>,\n",
       " <selenium.webdriver.remote.webelement.WebElement (session=\"7569939a50ee5d1a60a1fa5b92ba180f\", element=\"f.1180DE350D6D40EC4DBF5658AC0AA78A.d.FFE7B35F22D8073C13A8C9B019C7A977.e.391\")>,\n",
       " <selenium.webdriver.remote.webelement.WebElement (session=\"7569939a50ee5d1a60a1fa5b92ba180f\", element=\"f.1180DE350D6D40EC4DBF5658AC0AA78A.d.FFE7B35F22D8073C13A8C9B019C7A977.e.392\")>,\n",
       " <selenium.webdriver.remote.webelement.WebElement (session=\"7569939a50ee5d1a60a1fa5b92ba180f\", element=\"f.1180DE350D6D40EC4DBF5658AC0AA78A.d.FFE7B35F22D8073C13A8C9B019C7A977.e.393\")>,\n",
       " <selenium.webdriver.remote.webelement.WebElement (session=\"7569939a50ee5d1a60a1fa5b92ba180f\", element=\"f.1180DE350D6D40EC4DBF5658AC0AA78A.d.FFE7B35F22D8073C13A8C9B019C7A977.e.394\")>,\n",
       " <selenium.webdriver.remote.webelement.WebElement (session=\"7569939a50ee5d1a60a1fa5b92ba180f\", element=\"f.1180DE350D6D40EC4DBF5658AC0AA78A.d.FFE7B35F22D8073C13A8C9B019C7A977.e.395\")>,\n",
       " <selenium.webdriver.remote.webelement.WebElement (session=\"7569939a50ee5d1a60a1fa5b92ba180f\", element=\"f.1180DE350D6D40EC4DBF5658AC0AA78A.d.FFE7B35F22D8073C13A8C9B019C7A977.e.396\")>,\n",
       " <selenium.webdriver.remote.webelement.WebElement (session=\"7569939a50ee5d1a60a1fa5b92ba180f\", element=\"f.1180DE350D6D40EC4DBF5658AC0AA78A.d.FFE7B35F22D8073C13A8C9B019C7A977.e.397\")>,\n",
       " <selenium.webdriver.remote.webelement.WebElement (session=\"7569939a50ee5d1a60a1fa5b92ba180f\", element=\"f.1180DE350D6D40EC4DBF5658AC0AA78A.d.FFE7B35F22D8073C13A8C9B019C7A977.e.398\")>,\n",
       " <selenium.webdriver.remote.webelement.WebElement (session=\"7569939a50ee5d1a60a1fa5b92ba180f\", element=\"f.1180DE350D6D40EC4DBF5658AC0AA78A.d.FFE7B35F22D8073C13A8C9B019C7A977.e.399\")>,\n",
       " <selenium.webdriver.remote.webelement.WebElement (session=\"7569939a50ee5d1a60a1fa5b92ba180f\", element=\"f.1180DE350D6D40EC4DBF5658AC0AA78A.d.FFE7B35F22D8073C13A8C9B019C7A977.e.400\")>,\n",
       " <selenium.webdriver.remote.webelement.WebElement (session=\"7569939a50ee5d1a60a1fa5b92ba180f\", element=\"f.1180DE350D6D40EC4DBF5658AC0AA78A.d.FFE7B35F22D8073C13A8C9B019C7A977.e.401\")>,\n",
       " <selenium.webdriver.remote.webelement.WebElement (session=\"7569939a50ee5d1a60a1fa5b92ba180f\", element=\"f.1180DE350D6D40EC4DBF5658AC0AA78A.d.FFE7B35F22D8073C13A8C9B019C7A977.e.402\")>,\n",
       " <selenium.webdriver.remote.webelement.WebElement (session=\"7569939a50ee5d1a60a1fa5b92ba180f\", element=\"f.1180DE350D6D40EC4DBF5658AC0AA78A.d.FFE7B35F22D8073C13A8C9B019C7A977.e.403\")>]"
      ]
     },
     "execution_count": 33,
     "metadata": {},
     "output_type": "execute_result"
    }
   ],
   "source": [
    "price = driver.find_elements(By.XPATH,'//div[@class=\"Nx9bqj\"]')\n",
    "price"
   ]
  },
  {
   "cell_type": "code",
   "execution_count": 34,
   "id": "faf34046-6bde-4fbe-840b-4d7b6bbd0f5f",
   "metadata": {},
   "outputs": [
    {
     "data": {
      "text/plain": [
       "[<selenium.webdriver.remote.webelement.WebElement (session=\"7569939a50ee5d1a60a1fa5b92ba180f\", element=\"f.1180DE350D6D40EC4DBF5658AC0AA78A.d.FFE7B35F22D8073C13A8C9B019C7A977.e.404\")>,\n",
       " <selenium.webdriver.remote.webelement.WebElement (session=\"7569939a50ee5d1a60a1fa5b92ba180f\", element=\"f.1180DE350D6D40EC4DBF5658AC0AA78A.d.FFE7B35F22D8073C13A8C9B019C7A977.e.405\")>,\n",
       " <selenium.webdriver.remote.webelement.WebElement (session=\"7569939a50ee5d1a60a1fa5b92ba180f\", element=\"f.1180DE350D6D40EC4DBF5658AC0AA78A.d.FFE7B35F22D8073C13A8C9B019C7A977.e.406\")>,\n",
       " <selenium.webdriver.remote.webelement.WebElement (session=\"7569939a50ee5d1a60a1fa5b92ba180f\", element=\"f.1180DE350D6D40EC4DBF5658AC0AA78A.d.FFE7B35F22D8073C13A8C9B019C7A977.e.407\")>,\n",
       " <selenium.webdriver.remote.webelement.WebElement (session=\"7569939a50ee5d1a60a1fa5b92ba180f\", element=\"f.1180DE350D6D40EC4DBF5658AC0AA78A.d.FFE7B35F22D8073C13A8C9B019C7A977.e.408\")>,\n",
       " <selenium.webdriver.remote.webelement.WebElement (session=\"7569939a50ee5d1a60a1fa5b92ba180f\", element=\"f.1180DE350D6D40EC4DBF5658AC0AA78A.d.FFE7B35F22D8073C13A8C9B019C7A977.e.409\")>,\n",
       " <selenium.webdriver.remote.webelement.WebElement (session=\"7569939a50ee5d1a60a1fa5b92ba180f\", element=\"f.1180DE350D6D40EC4DBF5658AC0AA78A.d.FFE7B35F22D8073C13A8C9B019C7A977.e.410\")>,\n",
       " <selenium.webdriver.remote.webelement.WebElement (session=\"7569939a50ee5d1a60a1fa5b92ba180f\", element=\"f.1180DE350D6D40EC4DBF5658AC0AA78A.d.FFE7B35F22D8073C13A8C9B019C7A977.e.411\")>,\n",
       " <selenium.webdriver.remote.webelement.WebElement (session=\"7569939a50ee5d1a60a1fa5b92ba180f\", element=\"f.1180DE350D6D40EC4DBF5658AC0AA78A.d.FFE7B35F22D8073C13A8C9B019C7A977.e.412\")>,\n",
       " <selenium.webdriver.remote.webelement.WebElement (session=\"7569939a50ee5d1a60a1fa5b92ba180f\", element=\"f.1180DE350D6D40EC4DBF5658AC0AA78A.d.FFE7B35F22D8073C13A8C9B019C7A977.e.413\")>,\n",
       " <selenium.webdriver.remote.webelement.WebElement (session=\"7569939a50ee5d1a60a1fa5b92ba180f\", element=\"f.1180DE350D6D40EC4DBF5658AC0AA78A.d.FFE7B35F22D8073C13A8C9B019C7A977.e.414\")>,\n",
       " <selenium.webdriver.remote.webelement.WebElement (session=\"7569939a50ee5d1a60a1fa5b92ba180f\", element=\"f.1180DE350D6D40EC4DBF5658AC0AA78A.d.FFE7B35F22D8073C13A8C9B019C7A977.e.415\")>,\n",
       " <selenium.webdriver.remote.webelement.WebElement (session=\"7569939a50ee5d1a60a1fa5b92ba180f\", element=\"f.1180DE350D6D40EC4DBF5658AC0AA78A.d.FFE7B35F22D8073C13A8C9B019C7A977.e.416\")>,\n",
       " <selenium.webdriver.remote.webelement.WebElement (session=\"7569939a50ee5d1a60a1fa5b92ba180f\", element=\"f.1180DE350D6D40EC4DBF5658AC0AA78A.d.FFE7B35F22D8073C13A8C9B019C7A977.e.417\")>,\n",
       " <selenium.webdriver.remote.webelement.WebElement (session=\"7569939a50ee5d1a60a1fa5b92ba180f\", element=\"f.1180DE350D6D40EC4DBF5658AC0AA78A.d.FFE7B35F22D8073C13A8C9B019C7A977.e.418\")>,\n",
       " <selenium.webdriver.remote.webelement.WebElement (session=\"7569939a50ee5d1a60a1fa5b92ba180f\", element=\"f.1180DE350D6D40EC4DBF5658AC0AA78A.d.FFE7B35F22D8073C13A8C9B019C7A977.e.419\")>,\n",
       " <selenium.webdriver.remote.webelement.WebElement (session=\"7569939a50ee5d1a60a1fa5b92ba180f\", element=\"f.1180DE350D6D40EC4DBF5658AC0AA78A.d.FFE7B35F22D8073C13A8C9B019C7A977.e.420\")>,\n",
       " <selenium.webdriver.remote.webelement.WebElement (session=\"7569939a50ee5d1a60a1fa5b92ba180f\", element=\"f.1180DE350D6D40EC4DBF5658AC0AA78A.d.FFE7B35F22D8073C13A8C9B019C7A977.e.421\")>,\n",
       " <selenium.webdriver.remote.webelement.WebElement (session=\"7569939a50ee5d1a60a1fa5b92ba180f\", element=\"f.1180DE350D6D40EC4DBF5658AC0AA78A.d.FFE7B35F22D8073C13A8C9B019C7A977.e.422\")>,\n",
       " <selenium.webdriver.remote.webelement.WebElement (session=\"7569939a50ee5d1a60a1fa5b92ba180f\", element=\"f.1180DE350D6D40EC4DBF5658AC0AA78A.d.FFE7B35F22D8073C13A8C9B019C7A977.e.423\")>,\n",
       " <selenium.webdriver.remote.webelement.WebElement (session=\"7569939a50ee5d1a60a1fa5b92ba180f\", element=\"f.1180DE350D6D40EC4DBF5658AC0AA78A.d.FFE7B35F22D8073C13A8C9B019C7A977.e.424\")>,\n",
       " <selenium.webdriver.remote.webelement.WebElement (session=\"7569939a50ee5d1a60a1fa5b92ba180f\", element=\"f.1180DE350D6D40EC4DBF5658AC0AA78A.d.FFE7B35F22D8073C13A8C9B019C7A977.e.425\")>,\n",
       " <selenium.webdriver.remote.webelement.WebElement (session=\"7569939a50ee5d1a60a1fa5b92ba180f\", element=\"f.1180DE350D6D40EC4DBF5658AC0AA78A.d.FFE7B35F22D8073C13A8C9B019C7A977.e.426\")>,\n",
       " <selenium.webdriver.remote.webelement.WebElement (session=\"7569939a50ee5d1a60a1fa5b92ba180f\", element=\"f.1180DE350D6D40EC4DBF5658AC0AA78A.d.FFE7B35F22D8073C13A8C9B019C7A977.e.427\")>,\n",
       " <selenium.webdriver.remote.webelement.WebElement (session=\"7569939a50ee5d1a60a1fa5b92ba180f\", element=\"f.1180DE350D6D40EC4DBF5658AC0AA78A.d.FFE7B35F22D8073C13A8C9B019C7A977.e.428\")>,\n",
       " <selenium.webdriver.remote.webelement.WebElement (session=\"7569939a50ee5d1a60a1fa5b92ba180f\", element=\"f.1180DE350D6D40EC4DBF5658AC0AA78A.d.FFE7B35F22D8073C13A8C9B019C7A977.e.429\")>]"
      ]
     },
     "execution_count": 34,
     "metadata": {},
     "output_type": "execute_result"
    }
   ],
   "source": [
    "product_description = driver.find_elements(By.XPATH,'//a[@class=\"WKTcLC\"]')\n",
    "product_description"
   ]
  },
  {
   "cell_type": "code",
   "execution_count": 35,
   "id": "7e98d94b-5549-4c42-8edf-f1d97397981c",
   "metadata": {},
   "outputs": [
    {
     "data": {
      "text/plain": [
       "(40, 26, 40)"
      ]
     },
     "execution_count": 35,
     "metadata": {},
     "output_type": "execute_result"
    }
   ],
   "source": [
    "len(brand_name),len(product_description),len(price)"
   ]
  },
  {
   "cell_type": "code",
   "execution_count": 36,
   "id": "2124577e-26b1-474e-89db-04055918a544",
   "metadata": {},
   "outputs": [
    {
     "data": {
      "text/plain": [
       "[<selenium.webdriver.remote.webelement.WebElement (session=\"7569939a50ee5d1a60a1fa5b92ba180f\", element=\"f.1180DE350D6D40EC4DBF5658AC0AA78A.d.FFE7B35F22D8073C13A8C9B019C7A977.e.324\")>,\n",
       " <selenium.webdriver.remote.webelement.WebElement (session=\"7569939a50ee5d1a60a1fa5b92ba180f\", element=\"f.1180DE350D6D40EC4DBF5658AC0AA78A.d.FFE7B35F22D8073C13A8C9B019C7A977.e.325\")>,\n",
       " <selenium.webdriver.remote.webelement.WebElement (session=\"7569939a50ee5d1a60a1fa5b92ba180f\", element=\"f.1180DE350D6D40EC4DBF5658AC0AA78A.d.FFE7B35F22D8073C13A8C9B019C7A977.e.326\")>]"
      ]
     },
     "execution_count": 36,
     "metadata": {},
     "output_type": "execute_result"
    }
   ],
   "source": [
    "# url present in the href tag\n",
    "# to fetch the url\n",
    "url = driver.find_elements(By.CLASS_NAME,\"syl9yP\")\n",
    "url[0:3]"
   ]
  },
  {
   "cell_type": "code",
   "execution_count": 37,
   "id": "88c21a9c-7db6-4fac-8556-cc5ce8ec523b",
   "metadata": {},
   "outputs": [
    {
     "name": "stdout",
     "output_type": "stream",
     "text": [
      "None\n",
      "None\n",
      "None\n"
     ]
    }
   ],
   "source": [
    "# url present in the href tag\n",
    "for i in url[0:3]: # to print only top 3 rows here\n",
    "    print(i.get_attribute('href'))"
   ]
  },
  {
   "cell_type": "code",
   "execution_count": 38,
   "id": "49849353-eb3e-4d34-8c57-a1c9cec98e34",
   "metadata": {},
   "outputs": [],
   "source": [
    "brand = []\n",
    "price_of_product = []\n",
    "description = []"
   ]
  },
  {
   "cell_type": "code",
   "execution_count": 39,
   "id": "d2a87cbf-5a89-4d97-ae98-c5a18b2f083d",
   "metadata": {},
   "outputs": [],
   "source": [
    "start = 0\n",
    "end = 3\n",
    "for page in range(start,end):\n",
    "    brand_name =driver.find_elements(By.CLASS_NAME,\"syl9yP\")\n",
    "    for i in brand_name:\n",
    "        brand.append(i.text)\n",
    "    next_button=driver.find_element(By.XPATH,\"//span[text()='Next']\")\n",
    "    next_button.click()\n",
    "    time.sleep(3)"
   ]
  },
  {
   "cell_type": "code",
   "execution_count": 40,
   "id": "daf793b4-e1b2-4931-a5c9-b66f7f41299c",
   "metadata": {},
   "outputs": [],
   "source": [
    "start = 0\n",
    "end = 3\n",
    "for page in range(start,end):\n",
    "    price =driver.find_elements(By.XPATH,'//div[@class=\"Nx9bqj\"]')\n",
    "    for i in price:\n",
    "        price_of_product.append(i.text)\n",
    "    next_button=driver.find_element(By.XPATH,\"//span[text()='Next']\")\n",
    "    next_button.click()\n",
    "    time.sleep(3)"
   ]
  },
  {
   "cell_type": "code",
   "execution_count": 41,
   "id": "962f043d-a49f-416f-af16-a9f173a0f37f",
   "metadata": {},
   "outputs": [],
   "source": [
    "start = 0\n",
    "end = 4\n",
    "for page in range(start,end):\n",
    "    product_description =driver.find_elements(By.XPATH,'//a[@class=\"WKTcLC\"]')\n",
    "    for i in product_description:\n",
    "        description.append(i.text)\n",
    "    next_button=driver.find_element(By.XPATH,\"//span[text()='Next']\")\n",
    "    next_button.click()\n",
    "    time.sleep(3)"
   ]
  },
  {
   "cell_type": "code",
   "execution_count": 42,
   "id": "914e20bf-2733-4366-a20c-07a61b79c554",
   "metadata": {},
   "outputs": [
    {
     "data": {
      "text/plain": [
       "(120, 124, 120)"
      ]
     },
     "execution_count": 42,
     "metadata": {},
     "output_type": "execute_result"
    }
   ],
   "source": [
    "len(brand),len(description),len(price_of_product)"
   ]
  },
  {
   "cell_type": "code",
   "execution_count": 43,
   "id": "37aaab56-fad9-4d94-9b65-cd91dbb8ad1c",
   "metadata": {},
   "outputs": [
    {
     "data": {
      "text/plain": [
       "['BRUTON',\n",
       " 'BRUTON',\n",
       " 'PUMA',\n",
       " 'Deals4you',\n",
       " 'aadi',\n",
       " 'Abros',\n",
       " 'BRUTON',\n",
       " 'BRUTON',\n",
       " 'PM TRADERS',\n",
       " 'PUMA',\n",
       " 'BRUTON',\n",
       " 'BRUTON',\n",
       " 'aadi',\n",
       " 'U.S. POLO ASSN.',\n",
       " 'PM TRADERS',\n",
       " 'URBANBOX',\n",
       " 'BRUTON',\n",
       " 'aadi',\n",
       " 'asian',\n",
       " 'bacca bucci',\n",
       " 'BRUTON',\n",
       " 'BRUTON',\n",
       " 'ATOM',\n",
       " 'aadi',\n",
       " 'aadi',\n",
       " 'asian',\n",
       " 'BRUTON',\n",
       " 'BRUTON',\n",
       " 'PUMA',\n",
       " 'PM TRADERS',\n",
       " 'BRUTON',\n",
       " 'BRUTON',\n",
       " 'asian',\n",
       " 'VENDOZ',\n",
       " 'VENDOZ',\n",
       " 'RapidBox',\n",
       " 'BRUTON',\n",
       " 'BRUTON',\n",
       " 'HRX by Hrithik Roshan',\n",
       " 'asian',\n",
       " 'BOLLERO',\n",
       " 'RUN SEVEN',\n",
       " 'Red Tape',\n",
       " 'ATOM',\n",
       " 'Red Tape',\n",
       " 'RUN SEVEN',\n",
       " 'PUMA',\n",
       " 'Abros',\n",
       " 'U.S. POLO ASSN.',\n",
       " 'WZITAK',\n",
       " 'ATOM',\n",
       " 'Roadster',\n",
       " 'BRUTON',\n",
       " 'asian',\n",
       " 'EZDEZARIO',\n",
       " 'PM TRADERS',\n",
       " 'PUMA',\n",
       " 'asian',\n",
       " 'HOTSTYLE',\n",
       " 'asian',\n",
       " 'PUMA',\n",
       " 'Abros',\n",
       " 'aadi',\n",
       " 'WZITAK',\n",
       " 'CAMPUS',\n",
       " 'Layasa',\n",
       " 'Sparx',\n",
       " 'Abros',\n",
       " 'asian',\n",
       " 'PM TRADERS',\n",
       " 'Abros',\n",
       " 'RUN SEVEN',\n",
       " 'BRUTON',\n",
       " 'BRUTON',\n",
       " 'CAMPUS',\n",
       " 'SKITTER',\n",
       " 'RUN SEVEN',\n",
       " 'Abros',\n",
       " 'PUMA',\n",
       " 'AJANTA',\n",
       " 'RUN SEVEN',\n",
       " 'Airson',\n",
       " 'asian',\n",
       " 'PM TRADERS',\n",
       " 'CAMPUS',\n",
       " 'Robbie jones',\n",
       " 'Airson',\n",
       " 'Abros',\n",
       " 'PUMA',\n",
       " 'SKITTER',\n",
       " 'Abros',\n",
       " 'Abros',\n",
       " 'HOTSTYLE',\n",
       " 'AJANTA',\n",
       " 'Red Tape',\n",
       " 'PM TRADERS',\n",
       " 'PUMA',\n",
       " 'Abros',\n",
       " 'asian',\n",
       " 'CAMPUS',\n",
       " 'asian',\n",
       " 'PUMA',\n",
       " 'CAMPUS',\n",
       " 'WZITAK',\n",
       " 'LIBERTY',\n",
       " 'BRUTON',\n",
       " 'PUMA',\n",
       " 'Roadster',\n",
       " 'U.S. POLO ASSN.',\n",
       " 'Red Tape',\n",
       " 'U.S. POLO ASSN.',\n",
       " 'PUMA',\n",
       " 'Red Tape',\n",
       " 'U.S. POLO ASSN.',\n",
       " 'HIGHLANDER',\n",
       " 'U.S. POLO ASSN.',\n",
       " 'PUMA',\n",
       " 'Abros',\n",
       " 'HRX by Hrithik Roshan',\n",
       " 'Peelu']"
      ]
     },
     "execution_count": 43,
     "metadata": {},
     "output_type": "execute_result"
    }
   ],
   "source": [
    "brand"
   ]
  },
  {
   "cell_type": "code",
   "execution_count": 44,
   "id": "fa91e39c-6a6f-4718-ba40-6b0745ff8093",
   "metadata": {},
   "outputs": [
    {
     "data": {
      "text/plain": [
       "['CAVE-O Sneakers For Men',\n",
       " 'Glide-N Sneakers For Men',\n",
       " 'Mesh| Lightweight| Premiun| Comfort| Summer Tendy| Outd...',\n",
       " 'Puma Onehill Sneakers For Men',\n",
       " 'Neostep One8 Sneakers For Men',\n",
       " 'Sneakers For Women',\n",
       " 'SM 784 | Stylish, Comfortable | Sneakers For Men',\n",
       " 'Casual Sneaker Shoes for Men | Soft Cushioned Insole ||...',\n",
       " 'CAVE-O Sneakers For Men',\n",
       " 'AIR JORDAN LEGACY 312 LOW Sneakers For Men',\n",
       " 'Sneakers For Men',\n",
       " 'Mesh| Lightweight| Premiun| Comfort| Summer Tendy| Outd...',\n",
       " 'Casual Sneaker Shoes for Men | Soft Cushioned Insole ||...',\n",
       " 'Puma Wish Max Sneakers For Men',\n",
       " 'ST Runner v3 L Sneakers For Men',\n",
       " 'Runwise Women Sneakers For Women',\n",
       " 'Puma level IDP Sneakers For Men',\n",
       " 'Spring Edge Alpha 2 Sneakers For Men',\n",
       " 'Modern Trendy Sneakers Shoes Sneakers For Men',\n",
       " 'PUMA R78 Sneakers For Men',\n",
       " 'Mesh| Lightweight| Premiun| Comfort| Summer Tendy| Outd...',\n",
       " 'GLIDE-STEP SPORT - NEW APPROA Sneakers For Men',\n",
       " 'ANZARUN TECH Sneakers For Men',\n",
       " 'Casual Sneaker Shoes for Men | Elegantly Rounded Front,...',\n",
       " 'STYLISH LIGHT WEIGHT SPORT SHOES FOR WOMEN Sneakers For...',\n",
       " 'Junior |Sports Shoes for Men | Gym Training Walking Run...',\n",
       " 'Prime-N Sneakers For Men',\n",
       " 'Puma Kinta Wns Sneakers For Women',\n",
       " 'Sneakers For Men',\n",
       " 'ORBIT Sneakers For Men',\n",
       " 'Turin 3 Sneakers For Men',\n",
       " 'Sneakers For Men',\n",
       " 'NEO MOTORSPORT Sneakers For Men',\n",
       " 'MONTON 5.0 Sneakers For Men',\n",
       " 'ANZARUN TECH Sneakers For Men',\n",
       " 'STYLISH LIGHT WEIGHT SPORT SHOES FOR WOMEN For Women Sn...',\n",
       " 'EPIC Sneakers For Men',\n",
       " 'PRIME-N Sneakers For Men',\n",
       " 'OG-D1 Sneakers For Men',\n",
       " 'URBAN RETRO Series 2.0 Color Blocked Sneakers Sneakers ...',\n",
       " \"BALANCER Men's Fashion Sneakers Lace-Up Trainers Basket...\",\n",
       " 'Tarzan-21 White Color Changing Sneakers,Loafers,Casuals...',\n",
       " 'Dynamite Slip-on Sneakers For Men',\n",
       " 'NEO MOTORSPORT Sneakers For Men',\n",
       " 'Puma Onehill Sneakers For Men',\n",
       " '327 Sneakers For Women',\n",
       " 'Ai 2SPL-N Sneakers For Men',\n",
       " 'Sneaker Casual Shoes For Men | Soft Cushion Insole, Sli...',\n",
       " 'URBAN CHUNKY Sneakers For Men',\n",
       " 'PUMA 22 FH Rubber Sneakers For Men',\n",
       " 'Sergio Sneakers For Men',\n",
       " 'Sneakers For Men',\n",
       " 'Casual Sneaker Shoes for Men | Soft Cushioned Insole, S...',\n",
       " 'Casual Sneakers Canvas High Top Boots For Boys And Men ...',\n",
       " 'Casual Sneaker Shoes For Men | Sneakers For Men | Memor...',\n",
       " 'Puma Robbin Sneakers For Women',\n",
       " 'CITY ESCAPE Sneakers For Men',\n",
       " '327 Sneakers For Men',\n",
       " 'Sneakers For Men',\n",
       " 'BOSS Sneakers For Men',\n",
       " 'Sneakers For Men',\n",
       " 'HILLCREST - VAST ADV Sneakers For Men',\n",
       " 'NovaFlex Sneakers For Women',\n",
       " 'TESS Sneakers For Men',\n",
       " 'CLARKIN 2.0 Sneakers For Men',\n",
       " 'Coarse Sneakers For Men',\n",
       " 'SL 111 | Stylish, Comfortable | Sneakers For Women',\n",
       " 'PRIME PRO Sneakers For Men',\n",
       " 'Trinity Sneakers For Men',\n",
       " 'Puma Tychonic Sneakers For Men',\n",
       " 'Sneakers For Men',\n",
       " 'Casual Sneaker Shoes for Men | Soft Cushioned Insole ||...',\n",
       " 'PRIME-N Sneakers For Men',\n",
       " 'Mens High Top Casual Chunky Carnival-02 Sneakers For Me...',\n",
       " 'TENSUAR M1 Sneakers For Men',\n",
       " 'Sneakers For Men',\n",
       " 'Future Rider Displaced Sneakers For Men',\n",
       " 'Casual Sneaker Shoes For Women | Stylish and Comfortabl...',\n",
       " 'MONTON 4.0 Sneakers For Men',\n",
       " 'Casual Sneaker Shoes for Men | Soft Cushioned Insole, S...',\n",
       " 'BRITT Sneakers For Men',\n",
       " 'LEXUS Sneakers For Men',\n",
       " 'Dynamite Lace-Up Sneakers For Men',\n",
       " 'Rebound Future NextGen Sneakers For Men',\n",
       " 'DAVID Sneakers For Men',\n",
       " 'ST Runner v3 L Sneakers For Men',\n",
       " 'Neo Motorsport Sneakers For Men',\n",
       " 'CAPRON 2.0 Sneakers For Men',\n",
       " 'MOTORSPORTS LEGACY Sneakers For Men',\n",
       " 'Electron 2.0 Sneakers For Men',\n",
       " 'CITY-RIDE Sneakers For Men',\n",
       " 'Neo Motorsport Sneakers For Men',\n",
       " 'WINSTON-N Sneakers For Men',\n",
       " 'PARK-6 Sneakers For Men',\n",
       " 'Sneakers For Men',\n",
       " 'VL COURT BASE Sneakers For Women',\n",
       " 'Puma X-Ray Declan One8 Sneakers For Men',\n",
       " 'Youth Culture Sneakers For Men',\n",
       " 'Puma Rickie Classic Sneakers For Men',\n",
       " 'ATOM-N Sneakers For Men',\n",
       " 'Sneakers For Men',\n",
       " 'Oneness 1.0 Sneakers For Women',\n",
       " 'Crafty Wns Sneakers For Women',\n",
       " 'LEVI Sneakers For Men',\n",
       " 'Carina L Sneakers For Women',\n",
       " 'Smash 3.0 L Sneakers For Men',\n",
       " '2002 Sneakers For Men',\n",
       " 'Zenobia Women Sneakers For Women',\n",
       " 'Premium Stylish Comfortable Shoe for Girls and Womens S...',\n",
       " 'Basket Classic XXI Sneakers For Men',\n",
       " 'Carnival-02 Mens High Top Casual Chunky Sneakers Sneake...',\n",
       " 'Puma Vellfire Sneakers For Men',\n",
       " 'Casual Sneaker Shoes for Men | Classic Rounded Toe, Soo...',\n",
       " 'Puma Relax Knit Slip on Sneakers For Men',\n",
       " 'Mens Waterproof Tennis Shoes Sneakers For Men',\n",
       " 'Puma Vikky Stacked L Sneakers For Women',\n",
       " 'Cotton Classic Sneakers Casual Shoes for Men | Stylish,...',\n",
       " 'Future Rider New Core Sneakers For Men',\n",
       " 'Ferrari RS Trck X JV Sneakers For Men',\n",
       " 'Puma Smash V2 Buck Sneakers For Men',\n",
       " 'Karmen L Sneakers For Women',\n",
       " 'ST Runner v3 L Sneakers For Men',\n",
       " 'AURUN Sneakers For Men',\n",
       " 'BREAKNET 2.0 Sneakers For Men']"
      ]
     },
     "execution_count": 44,
     "metadata": {},
     "output_type": "execute_result"
    }
   ],
   "source": [
    "description"
   ]
  },
  {
   "cell_type": "code",
   "execution_count": 45,
   "id": "f9bb39ef-e1ce-4755-8a8b-8a5582fde95d",
   "metadata": {},
   "outputs": [
    {
     "data": {
      "text/plain": [
       "['₹1,409',\n",
       " '₹1,329',\n",
       " '₹5,399',\n",
       " '₹649',\n",
       " '₹1,029',\n",
       " '₹679',\n",
       " '₹1,409',\n",
       " '₹1,789',\n",
       " '₹1,381',\n",
       " '₹774',\n",
       " '₹1,800',\n",
       " '₹1,499',\n",
       " '₹649',\n",
       " '₹1,298',\n",
       " '₹759',\n",
       " '₹329',\n",
       " '₹1,139',\n",
       " '₹1,499',\n",
       " '₹1,099',\n",
       " '₹1,379',\n",
       " '₹1,369',\n",
       " '₹1,452',\n",
       " '₹1,379',\n",
       " '₹1,169',\n",
       " '₹1,409',\n",
       " '₹1,029',\n",
       " '₹3,600',\n",
       " '₹1,249',\n",
       " '₹2,019',\n",
       " '₹1,318',\n",
       " '₹1,249',\n",
       " '₹1,249',\n",
       " '₹1,799',\n",
       " '₹489',\n",
       " '₹1,709',\n",
       " '₹679',\n",
       " '₹1,033',\n",
       " '₹1,329',\n",
       " '₹999',\n",
       " '₹979',\n",
       " '₹297',\n",
       " '₹499',\n",
       " '₹559',\n",
       " '₹1,129',\n",
       " '₹1,319',\n",
       " '₹1,200',\n",
       " '₹297',\n",
       " '₹297',\n",
       " '₹795',\n",
       " '₹10,311',\n",
       " '₹297',\n",
       " '₹449',\n",
       " '₹298',\n",
       " '₹1,699',\n",
       " '₹1,575',\n",
       " '₹1,139',\n",
       " '₹299',\n",
       " '₹297',\n",
       " '₹1,685',\n",
       " '₹1,249',\n",
       " '₹599',\n",
       " '₹1,699',\n",
       " '₹743',\n",
       " '₹949',\n",
       " '₹959',\n",
       " '₹499',\n",
       " '₹1,740',\n",
       " '₹1,139',\n",
       " '₹1,039',\n",
       " '₹489',\n",
       " '₹799',\n",
       " '₹1,489',\n",
       " '₹979',\n",
       " '₹1,367',\n",
       " '₹1,039',\n",
       " '₹559',\n",
       " '₹4,050',\n",
       " '₹1,000',\n",
       " '₹649',\n",
       " '₹949',\n",
       " '₹521',\n",
       " '₹999',\n",
       " '₹659',\n",
       " '₹599',\n",
       " '₹1,119',\n",
       " '₹1,699',\n",
       " '₹969',\n",
       " '₹1,139',\n",
       " '₹1,139',\n",
       " '₹599',\n",
       " '₹849',\n",
       " '₹1,033',\n",
       " '₹1,279',\n",
       " '₹795',\n",
       " '₹1,223',\n",
       " '₹299',\n",
       " '₹1,500',\n",
       " '₹1,406',\n",
       " '₹1,039',\n",
       " '₹746',\n",
       " '₹1,849',\n",
       " '₹721',\n",
       " '₹1,649',\n",
       " '₹1,749',\n",
       " '₹299',\n",
       " '₹1,659',\n",
       " '₹999',\n",
       " '₹999',\n",
       " '₹1,685',\n",
       " '₹689',\n",
       " '₹1,199',\n",
       " '₹6,159',\n",
       " '₹621',\n",
       " '₹1,299',\n",
       " '₹1,039',\n",
       " '₹559',\n",
       " '₹4,500',\n",
       " '₹3,010',\n",
       " '₹731',\n",
       " '₹1,879']"
      ]
     },
     "execution_count": 45,
     "metadata": {},
     "output_type": "execute_result"
    }
   ],
   "source": [
    "price_of_product"
   ]
  },
  {
   "cell_type": "markdown",
   "id": "3aea1c76-0cc1-46e6-820b-36044444b65e",
   "metadata": {},
   "source": [
    "Q: Write a python program to display list of 50 Most expensive cars in the world\n",
    "(i.e. Car name and Price) from https://www.motor1.com/\n",
    "This task will be done in following steps:\n",
    "1. First get the webpage https://www.motor1.com/\n",
    "2. Then You have to type in the search bar ’50 most expensive cars’\n",
    "3. Then click on 50 most expensive carsin the world..\n",
    "4. Then scrap thementioned data and make the dataframe."
   ]
  },
  {
   "cell_type": "code",
   "execution_count": 46,
   "id": "6461a6a5-3627-49a1-a68b-6e4c116ca03c",
   "metadata": {},
   "outputs": [],
   "source": [
    "driver = webdriver.Chrome()\n",
    "driver.implicitly_wait(10)\n",
    "driver.maximize_window()\n",
    "driver.get('https://www.motor1.com/')"
   ]
  },
  {
   "cell_type": "code",
   "execution_count": null,
   "id": "6b3e2242-c58e-4e44-be4e-2f6c241f87d9",
   "metadata": {},
   "outputs": [],
   "source": [
    "search = driver.find_element(By.XPATH,'//input[@id=\"search_input\"]')\n",
    "search.send_keys('50 most expensive cars')"
   ]
  },
  {
   "cell_type": "code",
   "execution_count": null,
   "id": "81aee14f-9940-4f20-9036-8941e548c82b",
   "metadata": {},
   "outputs": [],
   "source": [
    "search_button = driver.find_element(By.XPATH,'//button[@class=\"m1-search-panel-button m1-search-form-button-animate icon-search-svg\"]')\n",
    "search_button.click()"
   ]
  },
  {
   "cell_type": "code",
   "execution_count": null,
   "id": "91aca06a-18ea-4d21-b4ee-d967407be29b",
   "metadata": {},
   "outputs": [],
   "source": [
    "click_on_heading = driver.find_element(By.XPATH,'/html/body/div[9]/div[9]/div/div[1]/div/div/div[1]/div/div[1]/h3/a')\n",
    "click_on_heading.click()"
   ]
  },
  {
   "cell_type": "code",
   "execution_count": null,
   "id": "aa61e052-5dfd-4ae7-8545-e87f17bbdcb5",
   "metadata": {},
   "outputs": [],
   "source": [
    "title = driver.find_elements(By.XPATH,'//h3[@class=\"subheader\"]')\n",
    "\n",
    "# By using XPATH By contains method to scrap price and matching pattern here 'Price: $' and '$'\n",
    "price = driver.find_elements(By.XPATH, \"//p/strong[contains(text(), 'Price: $') or contains(text(), '$')]\")"
   ]
  },
  {
   "cell_type": "code",
   "execution_count": null,
   "id": "f765be2a-79ad-4086-92b0-fcbaa934b00a",
   "metadata": {},
   "outputs": [],
   "source": [
    "title"
   ]
  },
  {
   "cell_type": "code",
   "execution_count": null,
   "id": "49aee42f-b558-4ca9-b979-dd0471de1ad3",
   "metadata": {},
   "outputs": [],
   "source": [
    "price"
   ]
  },
  {
   "cell_type": "code",
   "execution_count": null,
   "id": "448c1fe2-7253-4702-9083-852bca13efcb",
   "metadata": {},
   "outputs": [],
   "source": [
    "len(title),len(price)"
   ]
  },
  {
   "cell_type": "code",
   "execution_count": null,
   "id": "ebe0f4b6-20d8-4600-a517-c13cfc85d08a",
   "metadata": {},
   "outputs": [],
   "source": [
    "cars_Name = []\n",
    "for i in title:\n",
    "    cars_Name.append(i.text)\n",
    "\n",
    "cars_Name"
   ]
  },
  {
   "cell_type": "code",
   "execution_count": null,
   "id": "da42526c-6001-458a-9e40-3f33274bcf1f",
   "metadata": {},
   "outputs": [],
   "source": [
    "prices = []\n",
    "for i in price:\n",
    "    prices.append(i.text)\n",
    "\n",
    "prices"
   ]
  },
  {
   "cell_type": "code",
   "execution_count": null,
   "id": "3747f20d-a9bc-4c18-be5f-9afc4eb782b1",
   "metadata": {},
   "outputs": [],
   "source": [
    "df = pd.DataFrame({'Cars':cars_Name[:50],'Price':prices[:50]}) #Scrap 50 number of rows\n",
    "df"
   ]
  }
 ],
 "metadata": {
  "kernelspec": {
   "display_name": "Python 3 (ipykernel)",
   "language": "python",
   "name": "python3"
  },
  "language_info": {
   "codemirror_mode": {
    "name": "ipython",
    "version": 3
   },
   "file_extension": ".py",
   "mimetype": "text/x-python",
   "name": "python",
   "nbconvert_exporter": "python",
   "pygments_lexer": "ipython3",
   "version": "3.11.7"
  }
 },
 "nbformat": 4,
 "nbformat_minor": 5
}
