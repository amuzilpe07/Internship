{
 "cells": [
  {
   "cell_type": "code",
   "execution_count": 36,
   "id": "bfbd03ca-fe5a-417b-8454-1bed000e7613",
   "metadata": {},
   "outputs": [],
   "source": [
    "# import packagges\n",
    "import selenium\n",
    "import pandas as pd\n",
    "from selenium import webdriver\n",
    "import warnings\n",
    "warnings.filterwarnings('ignore')\n",
    "from selenium.webdriver.common.by import By\n",
    "import time"
   ]
  },
  {
   "cell_type": "raw",
   "id": "aa1b92b1-d71f-4203-8cac-91dcbf195a50",
   "metadata": {},
   "source": [
    "Q1: In this question you have to scrape data using the filters available on the webpage You have to use the location and\n",
    "salary filter.\n",
    "You have to scrape data for “Data Scientist” designation for first 10 job results.\n",
    "You have to scrape the job-title, job-location, company name, experience required.\n",
    "The location filter to be used is “Delhi/NCR”. The salary filter to be used is “3-6” lakhs\n",
    "The task will be done as shown in the below steps:\n",
    "1. first get the web page https://www.naukri.com/\n",
    "2. Enter “Data Scientist” in “Skill, Designations, and Companies” field.\n",
    "3. Then click the search button.\n",
    "4. Then apply the location filter and salary filter by checking the respective boxes\n",
    "5. Then scrape the data for the first 10 jobs results you get.\n",
    "6. Finally create a dataframe of the scraped data"
   ]
  },
  {
   "cell_type": "code",
   "execution_count": 37,
   "id": "91775e8f-8b87-40d0-b722-88a4a0a8400f",
   "metadata": {},
   "outputs": [],
   "source": [
    "#opening Chrome Browser\n",
    "driver = webdriver.Chrome()"
   ]
  },
  {
   "cell_type": "code",
   "execution_count": 38,
   "id": "8c3ec84e-e282-4171-b96c-f09fe5904d45",
   "metadata": {},
   "outputs": [],
   "source": [
    "# Apply wait to matching speed while executing\n",
    "driver.implicitly_wait(10)"
   ]
  },
  {
   "cell_type": "code",
   "execution_count": 39,
   "id": "9a944bdd-ecbe-414d-9de9-bdea46d13ecb",
   "metadata": {},
   "outputs": [],
   "source": [
    "# opening url by using webdriver method ( get )\n",
    "driver.get('https://www.naukri.com/')"
   ]
  },
  {
   "cell_type": "code",
   "execution_count": 40,
   "id": "c9db337a-ae3a-4ccd-bf75-3e9548e653c4",
   "metadata": {},
   "outputs": [],
   "source": [
    "# To maximize browser page\n",
    "driver.maximize_window()"
   ]
  },
  {
   "cell_type": "code",
   "execution_count": 41,
   "id": "e80d73c9-a287-4dac-8472-482401fc3f0f",
   "metadata": {},
   "outputs": [],
   "source": [
    "# Search job designation\n",
    "designation = driver.find_element(By.CLASS_NAME,\"suggestor-input \")\n",
    "designation.send_keys('Data Scientist')"
   ]
  },
  {
   "cell_type": "code",
   "execution_count": 42,
   "id": "2cabd1b3-18c5-4554-a520-fd3683e37ba1",
   "metadata": {},
   "outputs": [],
   "source": [
    "# Search job Loacation\n",
    "location = driver.find_element(By.XPATH,\"/html/body/div[1]/div[7]/div/div/div[5]/div/div/div/div[1]/div/input\")\n",
    "location.send_keys('Delhi/NCR')"
   ]
  },
  {
   "cell_type": "code",
   "execution_count": 43,
   "id": "678f3574-fd54-4241-bb50-7fbad93c97e4",
   "metadata": {},
   "outputs": [],
   "source": [
    "# Click Search tab\n",
    "search = driver.find_element(By.CLASS_NAME,\"qsbSubmit\")\n",
    "search.click()"
   ]
  },
  {
   "cell_type": "code",
   "execution_count": 44,
   "id": "091ceb22-ff5e-4e4f-918a-a9bb92995377",
   "metadata": {},
   "outputs": [
    {
     "data": {
      "text/plain": [
       "['Data Scientist',\n",
       " 'Data Scientist',\n",
       " 'Data Scientist- Pune/Bangalore/ Gurugram',\n",
       " 'Data Scientist',\n",
       " 'Data Scientist',\n",
       " 'Data Scientist',\n",
       " 'Data Scientist',\n",
       " 'Data Scientist III',\n",
       " 'Data Scientist',\n",
       " 'Principal Data Scientist /Senior Data Scientist - NLP/Machine Learning']"
      ]
     },
     "execution_count": 44,
     "metadata": {},
     "output_type": "execute_result"
    }
   ],
   "source": [
    "# Extract designation here by using find elements method\n",
    "job_titles=[]\n",
    "\n",
    "job_designation=driver.find_elements(By.XPATH,'//div[@class=\" row1\"]')\n",
    "job_designation[:10]\n",
    "\n",
    "for i in job_designation[:10]:\n",
    "    job_titles.append(i.text)\n",
    "    \n",
    "job_titles[:10] # 10 number of rows to scrap"
   ]
  },
  {
   "cell_type": "code",
   "execution_count": 45,
   "id": "a523dad0-86ed-41ac-91bd-d46a2beebaf6",
   "metadata": {},
   "outputs": [
    {
     "data": {
      "text/plain": [
       "['Hybrid - Noida, Ghaziabad, New Delhi',\n",
       " 'Pune, Gurugram, Bengaluru',\n",
       " 'Delhi / NCR, Pune, Bengaluru',\n",
       " 'Noida, Bengaluru',\n",
       " 'Gurugram',\n",
       " 'New Delhi(Okhla Phase 2)',\n",
       " 'Delhi / NCR, Noida, Gurugram',\n",
       " 'Hybrid - Delhi / NCR',\n",
       " 'Gurugram',\n",
       " 'Gurugram']"
      ]
     },
     "execution_count": 45,
     "metadata": {},
     "output_type": "execute_result"
    }
   ],
   "source": [
    "# Extract location here by using find elements method\n",
    "location=[]\n",
    "\n",
    "job_location=driver.find_elements(By.XPATH,'//span[@class=\"locWdth\"]')\n",
    "job_location[:10]\n",
    "\n",
    "for i in job_location[:10]:\n",
    "    location.append(i.text)\n",
    "    \n",
    "location[:10]"
   ]
  },
  {
   "cell_type": "code",
   "execution_count": 46,
   "id": "72630d3e-ca39-4590-8a95-c97cc20cdb62",
   "metadata": {},
   "outputs": [
    {
     "data": {
      "text/plain": [
       "['PwC Service Delivery Center\\n3.6\\n7502 Reviews',\n",
       " 'Fortune 500 IT Services Company\\n4.0',\n",
       " 'Leading Indian IT Company\\n3.5',\n",
       " 'Wipro\\n3.8\\n41346 Reviews',\n",
       " 'Ericsson\\n4.2\\n6490 Reviews',\n",
       " 'Large Analytics MNC\\n3.5',\n",
       " 'Girnar Insurance Brokers\\n3.5\\n200 Reviews',\n",
       " 'Manya Education\\n3.4\\n73 Reviews',\n",
       " 'Benovymed Healthcare',\n",
       " 'KPMG Assurance and Consulting Services LLP\\n3.6\\n4653 Reviews']"
      ]
     },
     "execution_count": 46,
     "metadata": {},
     "output_type": "execute_result"
    }
   ],
   "source": [
    "# Extract Company Name here by using find elements method\n",
    "job_company=[]\n",
    "\n",
    "company_name=driver.find_elements(By.XPATH,'//span[@class=\" comp-dtls-wrap\"]')\n",
    "company_name[:10] # for scrap 10 row of Data\n",
    "\n",
    "for i in company_name[:10]:\n",
    "    job_company.append(i.text)\n",
    "    \n",
    "job_company[:10]"
   ]
  },
  {
   "cell_type": "code",
   "execution_count": 47,
   "id": "258f6b33-5c80-4494-a7d3-9ec4c7ddaf8e",
   "metadata": {},
   "outputs": [
    {
     "data": {
      "text/plain": [
       "['4-7 Yrs',\n",
       " '2-7 Yrs',\n",
       " '6-11 Yrs',\n",
       " '5-10 Yrs',\n",
       " '4-9 Yrs',\n",
       " '5-10 Yrs',\n",
       " '0-5 Yrs',\n",
       " '3-8 Yrs',\n",
       " '11-14 Yrs',\n",
       " '6-10 Yrs']"
      ]
     },
     "execution_count": 47,
     "metadata": {},
     "output_type": "execute_result"
    }
   ],
   "source": [
    "# Extract Experience here by using find elements method\n",
    "experience_required=[] \n",
    "\n",
    "exp_req=driver.find_elements(By.XPATH,'//span[@class=\"expwdth\"]')\n",
    "exp_req[:10]\n",
    "\n",
    "for i in exp_req[:10]:\n",
    "    experience_required.append(i.text)\n",
    "    \n",
    "experience_required[:10]"
   ]
  },
  {
   "cell_type": "code",
   "execution_count": 48,
   "id": "40fdc2e6-ddad-4b61-976a-fe480cf8e77b",
   "metadata": {},
   "outputs": [
    {
     "name": "stdout",
     "output_type": "stream",
     "text": [
      "10 10 10 10\n"
     ]
    }
   ],
   "source": [
    "# calculate length of information given\n",
    "print(len(job_titles),len(location),len(job_company),len(experience_required))"
   ]
  },
  {
   "cell_type": "code",
   "execution_count": 49,
   "id": "6eb9f7dd-dfc5-4615-ae10-133ad9e8de9e",
   "metadata": {},
   "outputs": [
    {
     "data": {
      "text/html": [
       "<div>\n",
       "<style scoped>\n",
       "    .dataframe tbody tr th:only-of-type {\n",
       "        vertical-align: middle;\n",
       "    }\n",
       "\n",
       "    .dataframe tbody tr th {\n",
       "        vertical-align: top;\n",
       "    }\n",
       "\n",
       "    .dataframe thead th {\n",
       "        text-align: right;\n",
       "    }\n",
       "</style>\n",
       "<table border=\"1\" class=\"dataframe\">\n",
       "  <thead>\n",
       "    <tr style=\"text-align: right;\">\n",
       "      <th></th>\n",
       "      <th>Title</th>\n",
       "      <th>Location</th>\n",
       "      <th>Company</th>\n",
       "      <th>Experience</th>\n",
       "    </tr>\n",
       "  </thead>\n",
       "  <tbody>\n",
       "    <tr>\n",
       "      <th>0</th>\n",
       "      <td>Data Scientist</td>\n",
       "      <td>Hybrid - Noida, Ghaziabad, New Delhi</td>\n",
       "      <td>PwC Service Delivery Center\\n3.6\\n7502 Reviews</td>\n",
       "      <td>4-7 Yrs</td>\n",
       "    </tr>\n",
       "    <tr>\n",
       "      <th>1</th>\n",
       "      <td>Data Scientist</td>\n",
       "      <td>Pune, Gurugram, Bengaluru</td>\n",
       "      <td>Fortune 500 IT Services Company\\n4.0</td>\n",
       "      <td>2-7 Yrs</td>\n",
       "    </tr>\n",
       "    <tr>\n",
       "      <th>2</th>\n",
       "      <td>Data Scientist- Pune/Bangalore/ Gurugram</td>\n",
       "      <td>Delhi / NCR, Pune, Bengaluru</td>\n",
       "      <td>Leading Indian IT Company\\n3.5</td>\n",
       "      <td>6-11 Yrs</td>\n",
       "    </tr>\n",
       "    <tr>\n",
       "      <th>3</th>\n",
       "      <td>Data Scientist</td>\n",
       "      <td>Noida, Bengaluru</td>\n",
       "      <td>Wipro\\n3.8\\n41346 Reviews</td>\n",
       "      <td>5-10 Yrs</td>\n",
       "    </tr>\n",
       "    <tr>\n",
       "      <th>4</th>\n",
       "      <td>Data Scientist</td>\n",
       "      <td>Gurugram</td>\n",
       "      <td>Ericsson\\n4.2\\n6490 Reviews</td>\n",
       "      <td>4-9 Yrs</td>\n",
       "    </tr>\n",
       "    <tr>\n",
       "      <th>5</th>\n",
       "      <td>Data Scientist</td>\n",
       "      <td>New Delhi(Okhla Phase 2)</td>\n",
       "      <td>Large Analytics MNC\\n3.5</td>\n",
       "      <td>5-10 Yrs</td>\n",
       "    </tr>\n",
       "    <tr>\n",
       "      <th>6</th>\n",
       "      <td>Data Scientist</td>\n",
       "      <td>Delhi / NCR, Noida, Gurugram</td>\n",
       "      <td>Girnar Insurance Brokers\\n3.5\\n200 Reviews</td>\n",
       "      <td>0-5 Yrs</td>\n",
       "    </tr>\n",
       "    <tr>\n",
       "      <th>7</th>\n",
       "      <td>Data Scientist III</td>\n",
       "      <td>Hybrid - Delhi / NCR</td>\n",
       "      <td>Manya Education\\n3.4\\n73 Reviews</td>\n",
       "      <td>3-8 Yrs</td>\n",
       "    </tr>\n",
       "    <tr>\n",
       "      <th>8</th>\n",
       "      <td>Data Scientist</td>\n",
       "      <td>Gurugram</td>\n",
       "      <td>Benovymed Healthcare</td>\n",
       "      <td>11-14 Yrs</td>\n",
       "    </tr>\n",
       "    <tr>\n",
       "      <th>9</th>\n",
       "      <td>Principal Data Scientist /Senior Data Scientis...</td>\n",
       "      <td>Gurugram</td>\n",
       "      <td>KPMG Assurance and Consulting Services LLP\\n3....</td>\n",
       "      <td>6-10 Yrs</td>\n",
       "    </tr>\n",
       "  </tbody>\n",
       "</table>\n",
       "</div>"
      ],
      "text/plain": [
       "                                               Title  \\\n",
       "0                                     Data Scientist   \n",
       "1                                     Data Scientist   \n",
       "2           Data Scientist- Pune/Bangalore/ Gurugram   \n",
       "3                                     Data Scientist   \n",
       "4                                     Data Scientist   \n",
       "5                                     Data Scientist   \n",
       "6                                     Data Scientist   \n",
       "7                                 Data Scientist III   \n",
       "8                                     Data Scientist   \n",
       "9  Principal Data Scientist /Senior Data Scientis...   \n",
       "\n",
       "                               Location  \\\n",
       "0  Hybrid - Noida, Ghaziabad, New Delhi   \n",
       "1             Pune, Gurugram, Bengaluru   \n",
       "2          Delhi / NCR, Pune, Bengaluru   \n",
       "3                      Noida, Bengaluru   \n",
       "4                              Gurugram   \n",
       "5              New Delhi(Okhla Phase 2)   \n",
       "6          Delhi / NCR, Noida, Gurugram   \n",
       "7                  Hybrid - Delhi / NCR   \n",
       "8                              Gurugram   \n",
       "9                              Gurugram   \n",
       "\n",
       "                                             Company Experience  \n",
       "0     PwC Service Delivery Center\\n3.6\\n7502 Reviews    4-7 Yrs  \n",
       "1               Fortune 500 IT Services Company\\n4.0    2-7 Yrs  \n",
       "2                     Leading Indian IT Company\\n3.5   6-11 Yrs  \n",
       "3                          Wipro\\n3.8\\n41346 Reviews   5-10 Yrs  \n",
       "4                        Ericsson\\n4.2\\n6490 Reviews    4-9 Yrs  \n",
       "5                           Large Analytics MNC\\n3.5   5-10 Yrs  \n",
       "6         Girnar Insurance Brokers\\n3.5\\n200 Reviews    0-5 Yrs  \n",
       "7                   Manya Education\\n3.4\\n73 Reviews    3-8 Yrs  \n",
       "8                               Benovymed Healthcare  11-14 Yrs  \n",
       "9  KPMG Assurance and Consulting Services LLP\\n3....   6-10 Yrs  "
      ]
     },
     "execution_count": 49,
     "metadata": {},
     "output_type": "execute_result"
    }
   ],
   "source": [
    "# Data Send it to DataFrame\n",
    "df = pd.DataFrame({'Title':job_titles,'Location':location,'Company':job_company,'Experience':experience_required})\n",
    "df"
   ]
  },
  {
   "cell_type": "raw",
   "id": "deca7e12-f672-446f-a761-94e4c2fe0212",
   "metadata": {},
   "source": [
    "Q: Go to webpage https://www.amazon.in/ Enter “Laptop” in the search field and then click the search icon. Then set CPU\n",
    "Type filter to “Intel Core i7” as shown in the below image:\n",
    "Aftersetting the filters scrape first 10 laptops data. You have to scrape 3 attributes for each laptop:\n",
    "1. Title\n",
    "2. Ratings\n",
    "3. Price"
   ]
  },
  {
   "cell_type": "code",
   "execution_count": null,
   "id": "98357861-b7d0-481b-bfc7-817849c396bf",
   "metadata": {},
   "outputs": [],
   "source": [
    "# import packagges\n",
    "import selenium\n",
    "import pandas as pd\n",
    "from selenium import webdriver\n",
    "import warnings\n",
    "warnings.filterwarnings('ignore')\n",
    "from selenium.webdriver.common.by import By\n",
    "import time"
   ]
  },
  {
   "cell_type": "code",
   "execution_count": null,
   "id": "16836f4e-ded3-493e-8ec4-22658135a835",
   "metadata": {},
   "outputs": [],
   "source": [
    "driver = webdriver.Chrome()\n",
    "driver.implicitly_wait(10)\n",
    "driver.get('https://www.amazon.in/')\n",
    "driver.maximize_window()"
   ]
  },
  {
   "cell_type": "code",
   "execution_count": null,
   "id": "cedeb7cd-cc6b-461b-98f6-ee3f9fe9385f",
   "metadata": {},
   "outputs": [],
   "source": [
    "product = driver.find_element(By.XPATH,'//input[@id=\"twotabsearchtextbox\"]')\n",
    "product.send_keys('Laptop')"
   ]
  },
  {
   "cell_type": "code",
   "execution_count": null,
   "id": "462433aa-a9c9-4217-b1cf-bbc01eea6e54",
   "metadata": {},
   "outputs": [],
   "source": [
    "search = driver.find_element(By.XPATH,'//input[@id=\"nav-search-submit-button\"]')\n",
    "search.click()"
   ]
  },
  {
   "cell_type": "code",
   "execution_count": null,
   "id": "f863a3eb-df8d-4279-b2b3-0ea569d9abdc",
   "metadata": {},
   "outputs": [],
   "source": [
    "filter = driver.get('https://www.amazon.in/s?k=Laptop&rh=n%3A976392031%2Cp_n_feature_thirteen_browse-bin%3A12598163031&dc&ds=v1%3ArerWbQUdW7qjYzgENA2fNjp5FXvg5GJW34Z6wdttCqI&crid=S7XB0XPEF4I8&qid=1720155793&rnid=12598141031&sprefix=laptop%2Caps%2C266&ref=sr_nr_p_n_feature_thirteen_browse-bin_11')\n",
    "filter"
   ]
  },
  {
   "cell_type": "code",
   "execution_count": null,
   "id": "f4eb24f1-fa75-4400-b0be-1b000a924e24",
   "metadata": {},
   "outputs": [],
   "source": [
    "title = driver.find_elements(By.XPATH,'//span[@class=\"a-size-medium a-color-base a-text-normal\"]')\n",
    "title"
   ]
  },
  {
   "cell_type": "code",
   "execution_count": null,
   "id": "de837550-76fa-4b38-97d5-f7172e4a0971",
   "metadata": {},
   "outputs": [],
   "source": [
    "ratings = driver.find_elements(By.XPATH,'//span[@class=\"a-icon-alt\"]')\n",
    "ratings"
   ]
  },
  {
   "cell_type": "code",
   "execution_count": null,
   "id": "76f7d918-6c07-4bba-a8c7-e5529b83776f",
   "metadata": {},
   "outputs": [],
   "source": [
    "price_ = driver.find_elements(By.XPATH,'//span[@class=\"a-price-whole\"]')\n",
    "price_"
   ]
  },
  {
   "cell_type": "code",
   "execution_count": null,
   "id": "aa4105bd-fdc0-41d5-ab49-f1f4b455ac84",
   "metadata": {},
   "outputs": [],
   "source": [
    "titles = []\n",
    "rating = []\n",
    "price = []"
   ]
  },
  {
   "cell_type": "code",
   "execution_count": null,
   "id": "18857256-c643-45a8-bef0-7977cc39cf13",
   "metadata": {},
   "outputs": [],
   "source": [
    "for i in title[:10]:\n",
    "    titles.append(i.text)\n",
    "\n",
    "titles[:10]"
   ]
  },
  {
   "cell_type": "code",
   "execution_count": null,
   "id": "b476f31b-2d15-4bc3-8bae-5379c772c2df",
   "metadata": {},
   "outputs": [],
   "source": [
    "for i in ratings[0:10]:\n",
    "    rating.append(i.get_attribute('innerHTML'))\n",
    "\n",
    "rating[0:10]"
   ]
  },
  {
   "cell_type": "code",
   "execution_count": null,
   "id": "aeda4952-3270-4a53-82b5-efc320ae7bc9",
   "metadata": {},
   "outputs": [],
   "source": [
    "for i in price_[0:10]:\n",
    "    price.append(i.text)\n",
    "\n",
    "price[0:10]"
   ]
  },
  {
   "cell_type": "code",
   "execution_count": null,
   "id": "d7ef9b52-5cb1-4ce5-808a-bcaaa9f9cbe8",
   "metadata": {},
   "outputs": [],
   "source": [
    "len(titles),len(rating),len(price)"
   ]
  },
  {
   "cell_type": "code",
   "execution_count": null,
   "id": "3e60cfd1-c733-491d-9f8e-0180c3f8bce2",
   "metadata": {},
   "outputs": [],
   "source": [
    "df = pd.DataFrame({'Title':titles,'Ratings':rating,'Price':price})\n",
    "df"
   ]
  },
  {
   "cell_type": "raw",
   "id": "8bfb9eed-ad2d-4afa-82ed-9def54b7f08d",
   "metadata": {},
   "source": [
    "Q: Scrape data forfirst 100 sneakers you find whenyouvisit flipkart.com and search for “sneakers” inthe search\n",
    "field.\n",
    "You have to scrape 3 attributes of each sneaker:\n",
    "1. Brand\n",
    "2. ProductDescription\n",
    "3. Price\n",
    "As shown in the below image, you have to scrape the above attributes."
   ]
  },
  {
   "cell_type": "code",
   "execution_count": null,
   "id": "71f7a1b2-7843-4ecc-815b-b0a2da179ab4",
   "metadata": {},
   "outputs": [],
   "source": [
    "driver = webdriver.Chrome()\n",
    "driver.get('https://www.flipkart.com/')\n",
    "driver.maximize_window()"
   ]
  },
  {
   "cell_type": "code",
   "execution_count": null,
   "id": "5b475586-a65b-4d8e-93b8-8f4fee2ef617",
   "metadata": {},
   "outputs": [],
   "source": [
    "product = driver.find_element(By.CLASS_NAME,\"Pke_EE\")\n",
    "product.send_keys('sneakers')"
   ]
  },
  {
   "cell_type": "code",
   "execution_count": null,
   "id": "fdfb3954-1bef-46e6-b53f-424a5a549d20",
   "metadata": {},
   "outputs": [],
   "source": [
    "click_on_search = driver.find_element(By.CLASS_NAME,\"_2iLD__\")\n",
    "click_on_search.click()"
   ]
  },
  {
   "cell_type": "code",
   "execution_count": null,
   "id": "9701a48e-2701-4be6-ad00-ee4cd27987b3",
   "metadata": {},
   "outputs": [],
   "source": [
    "brand_name = driver.find_elements(By.CLASS_NAME,\"syl9yP\")\n",
    "brand_name"
   ]
  },
  {
   "cell_type": "code",
   "execution_count": null,
   "id": "3ced5572-90e8-4a14-9d2c-ce3d7d403eb4",
   "metadata": {},
   "outputs": [],
   "source": [
    "price = driver.find_elements(By.XPATH,'//div[@class=\"Nx9bqj\"]')\n",
    "price"
   ]
  },
  {
   "cell_type": "code",
   "execution_count": null,
   "id": "faf34046-6bde-4fbe-840b-4d7b6bbd0f5f",
   "metadata": {},
   "outputs": [],
   "source": [
    "product_description = driver.find_elements(By.XPATH,'//a[@class=\"WKTcLC\"]')\n",
    "product_description"
   ]
  },
  {
   "cell_type": "code",
   "execution_count": null,
   "id": "7e98d94b-5549-4c42-8edf-f1d97397981c",
   "metadata": {},
   "outputs": [],
   "source": [
    "len(brand_name),len(product_description),len(price)"
   ]
  },
  {
   "cell_type": "code",
   "execution_count": null,
   "id": "2124577e-26b1-474e-89db-04055918a544",
   "metadata": {},
   "outputs": [],
   "source": [
    "# url present in the href tag\n",
    "# to fetch the url\n",
    "url = driver.find_elements(By.CLASS_NAME,\"syl9yP\")\n",
    "url[0:3]"
   ]
  },
  {
   "cell_type": "code",
   "execution_count": null,
   "id": "88c21a9c-7db6-4fac-8556-cc5ce8ec523b",
   "metadata": {},
   "outputs": [],
   "source": [
    "# url present in the href tag\n",
    "for i in url[0:3]: # to print only top 3 rows here\n",
    "    print(i.get_attribute('href'))"
   ]
  },
  {
   "cell_type": "code",
   "execution_count": null,
   "id": "49849353-eb3e-4d34-8c57-a1c9cec98e34",
   "metadata": {},
   "outputs": [],
   "source": [
    "brand = []\n",
    "price_of_product = []\n",
    "description = []"
   ]
  },
  {
   "cell_type": "code",
   "execution_count": null,
   "id": "d2a87cbf-5a89-4d97-ae98-c5a18b2f083d",
   "metadata": {},
   "outputs": [],
   "source": [
    "start = 0\n",
    "end = 3\n",
    "for page in range(start,end):\n",
    "    brand_name =driver.find_elements(By.CLASS_NAME,\"syl9yP\")\n",
    "    for i in brand_name:\n",
    "        brand.append(i.text)\n",
    "    next_button=driver.find_element(By.XPATH,\"//span[text()='Next']\")\n",
    "    next_button.click()\n",
    "    time.sleep(3)"
   ]
  },
  {
   "cell_type": "code",
   "execution_count": null,
   "id": "daf793b4-e1b2-4931-a5c9-b66f7f41299c",
   "metadata": {},
   "outputs": [],
   "source": [
    "start = 0\n",
    "end = 3\n",
    "for page in range(start,end):\n",
    "    price =driver.find_elements(By.XPATH,'//div[@class=\"Nx9bqj\"]')\n",
    "    for i in price:\n",
    "        price_of_product.append(i.text)\n",
    "    next_button=driver.find_element(By.XPATH,\"//span[text()='Next']\")\n",
    "    next_button.click()\n",
    "    time.sleep(3)"
   ]
  },
  {
   "cell_type": "code",
   "execution_count": null,
   "id": "962f043d-a49f-416f-af16-a9f173a0f37f",
   "metadata": {},
   "outputs": [],
   "source": [
    "start = 0\n",
    "end = 4\n",
    "for page in range(start,end):\n",
    "    product_description =driver.find_elements(By.XPATH,'//a[@class=\"WKTcLC\"]')\n",
    "    for i in product_description:\n",
    "        description.append(i.text)\n",
    "    next_button=driver.find_element(By.XPATH,\"//span[text()='Next']\")\n",
    "    next_button.click()\n",
    "    time.sleep(3)"
   ]
  },
  {
   "cell_type": "code",
   "execution_count": null,
   "id": "914e20bf-2733-4366-a20c-07a61b79c554",
   "metadata": {},
   "outputs": [],
   "source": [
    "len(brand),len(description),len(price_of_product)"
   ]
  },
  {
   "cell_type": "code",
   "execution_count": null,
   "id": "37aaab56-fad9-4d94-9b65-cd91dbb8ad1c",
   "metadata": {},
   "outputs": [],
   "source": [
    "brand"
   ]
  },
  {
   "cell_type": "code",
   "execution_count": null,
   "id": "fa91e39c-6a6f-4718-ba40-6b0745ff8093",
   "metadata": {},
   "outputs": [],
   "source": [
    "description"
   ]
  },
  {
   "cell_type": "code",
   "execution_count": null,
   "id": "f9bb39ef-e1ce-4755-8a8b-8a5582fde95d",
   "metadata": {},
   "outputs": [],
   "source": [
    "price_of_product"
   ]
  },
  {
   "cell_type": "raw",
   "id": "25c34a13-d9cf-4f36-874e-4fd36ed462aa",
   "metadata": {},
   "source": [
    "Q: Write a python program to display list of 50 Most expensive cars in the world\n",
    "(i.e. Car name and Price) from https://www.motor1.com/\n",
    "This task will be done in following steps:\n",
    "1. First get the webpage https://www.motor1.com/\n",
    "2. Then You have to type in the search bar ’50 most expensive cars’\n",
    "3. Then click on 50 most expensive carsin the world..\n",
    "4. Then scrap thementioned data and make the dataframe."
   ]
  },
  {
   "cell_type": "code",
   "execution_count": null,
   "id": "6461a6a5-3627-49a1-a68b-6e4c116ca03c",
   "metadata": {},
   "outputs": [],
   "source": [
    "driver = webdriver.Chrome()\n",
    "driver.implicitly_wait(10)\n",
    "driver.maximize_window()\n",
    "driver.get('https://www.motor1.com/')"
   ]
  },
  {
   "cell_type": "code",
   "execution_count": null,
   "id": "6b3e2242-c58e-4e44-be4e-2f6c241f87d9",
   "metadata": {},
   "outputs": [],
   "source": [
    "search = driver.find_element(By.XPATH,'//input[@id=\"search_input\"]')\n",
    "search.send_keys('50 most expensive cars')"
   ]
  },
  {
   "cell_type": "code",
   "execution_count": null,
   "id": "81aee14f-9940-4f20-9036-8941e548c82b",
   "metadata": {},
   "outputs": [],
   "source": [
    "search_button = driver.find_element(By.XPATH,'//button[@class=\"m1-search-panel-button m1-search-form-button-animate icon-search-svg\"]')\n",
    "search_button.click()"
   ]
  },
  {
   "cell_type": "code",
   "execution_count": null,
   "id": "91aca06a-18ea-4d21-b4ee-d967407be29b",
   "metadata": {},
   "outputs": [],
   "source": [
    "click_on_heading = driver.find_element(By.XPATH,'/html/body/div[9]/div[9]/div/div[1]/div/div/div[1]/div/div[1]/h3/a')\n",
    "click_on_heading.click()"
   ]
  },
  {
   "cell_type": "code",
   "execution_count": null,
   "id": "aa61e052-5dfd-4ae7-8545-e87f17bbdcb5",
   "metadata": {},
   "outputs": [],
   "source": [
    "title = driver.find_elements(By.XPATH,'//h3[@class=\"subheader\"]')\n",
    "\n",
    "# By using XPATH By contains method to scrap price and matching pattern here 'Price: $' and '$'\n",
    "price = driver.find_elements(By.XPATH, \"//p/strong[contains(text(), 'Price: $') or contains(text(), '$')]\")"
   ]
  },
  {
   "cell_type": "code",
   "execution_count": null,
   "id": "f765be2a-79ad-4086-92b0-fcbaa934b00a",
   "metadata": {},
   "outputs": [],
   "source": [
    "title"
   ]
  },
  {
   "cell_type": "code",
   "execution_count": null,
   "id": "49aee42f-b558-4ca9-b979-dd0471de1ad3",
   "metadata": {},
   "outputs": [],
   "source": [
    "price"
   ]
  },
  {
   "cell_type": "code",
   "execution_count": null,
   "id": "448c1fe2-7253-4702-9083-852bca13efcb",
   "metadata": {},
   "outputs": [],
   "source": [
    "len(title),len(price)"
   ]
  },
  {
   "cell_type": "code",
   "execution_count": null,
   "id": "ebe0f4b6-20d8-4600-a517-c13cfc85d08a",
   "metadata": {},
   "outputs": [],
   "source": [
    "cars_Name = []\n",
    "for i in title:\n",
    "    cars_Name.append(i.text)\n",
    "\n",
    "cars_Name"
   ]
  },
  {
   "cell_type": "code",
   "execution_count": null,
   "id": "da42526c-6001-458a-9e40-3f33274bcf1f",
   "metadata": {},
   "outputs": [],
   "source": [
    "prices = []\n",
    "for i in price:\n",
    "    prices.append(i.text)\n",
    "\n",
    "prices"
   ]
  },
  {
   "cell_type": "code",
   "execution_count": null,
   "id": "3747f20d-a9bc-4c18-be5f-9afc4eb782b1",
   "metadata": {},
   "outputs": [],
   "source": [
    "df = pd.DataFrame({'Cars':cars_Name[:50],'Price':prices[:50]}) #Scrap 50 number of rows\n",
    "df"
   ]
  }
 ],
 "metadata": {
  "kernelspec": {
   "display_name": "Python 3 (ipykernel)",
   "language": "python",
   "name": "python3"
  },
  "language_info": {
   "codemirror_mode": {
    "name": "ipython",
    "version": 3
   },
   "file_extension": ".py",
   "mimetype": "text/x-python",
   "name": "python",
   "nbconvert_exporter": "python",
   "pygments_lexer": "ipython3",
   "version": "3.11.7"
  }
 },
 "nbformat": 4,
 "nbformat_minor": 5
}
