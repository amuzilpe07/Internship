{
 "cells": [
  {
   "cell_type": "markdown",
   "id": "5d7b4296-e815-47bd-a1e2-5b610fc13bad",
   "metadata": {},
   "source": [
    "1. Write a python program which searches all the product under a particular product from www.amazon.in. The\n",
    "product to be searched will be taken as input from user. For e.g. If user input is ‘guitar’. Then search for\n",
    "guitars. "
   ]
  },
  {
   "cell_type": "code",
   "execution_count": 1,
   "id": "d615e0f9-a840-4fe3-91a2-746f9afa0598",
   "metadata": {},
   "outputs": [],
   "source": [
    "# import packagges\n",
    "import selenium\n",
    "import pandas as pd\n",
    "from selenium import webdriver\n",
    "import warnings\n",
    "warnings.filterwarnings('ignore')\n",
    "from selenium.webdriver.common.by import By\n",
    "from selenium.common.exceptions import NoSuchElementException, StaleElementReferenceException\n",
    "import time"
   ]
  },
  {
   "cell_type": "code",
   "execution_count": 2,
   "id": "fe30e583-2703-4ba5-aa65-1a1a52cb4f78",
   "metadata": {},
   "outputs": [],
   "source": [
    "driver = webdriver.Chrome() # open browser"
   ]
  },
  {
   "cell_type": "code",
   "execution_count": 3,
   "id": "67c0034b-a7ce-4544-87f0-04b66efb0a15",
   "metadata": {},
   "outputs": [],
   "source": [
    "driver.implicitly_wait(10) # apply implicite wait for every WebElement to matching speed while executing"
   ]
  },
  {
   "cell_type": "code",
   "execution_count": 4,
   "id": "56313abc-b23b-41c2-888e-68e0ad0e48a6",
   "metadata": {},
   "outputs": [],
   "source": [
    "driver.get('https://www.amazon.in/') # open url"
   ]
  },
  {
   "cell_type": "code",
   "execution_count": 5,
   "id": "bbc6f6da-afe2-4b7f-99b8-203dfb7c1399",
   "metadata": {},
   "outputs": [],
   "source": [
    "user_input = driver.find_element(By.ID,\"twotabsearchtextbox\").send_keys(\"Guitars\") # input search keyword"
   ]
  },
  {
   "cell_type": "code",
   "execution_count": 6,
   "id": "c4b9adbe-7e2a-48c8-8290-385471eee784",
   "metadata": {},
   "outputs": [],
   "source": [
    "click_on_search = driver.find_element(By.ID,\"nav-search-submit-button\").click() # click on button"
   ]
  },
  {
   "cell_type": "markdown",
   "id": "3c6e57cc-b7d8-43b5-a76a-dfa14b2b0f73",
   "metadata": {},
   "source": [
    "Q.2 In the above question, now scrape the following details of each product listed in first 3 pages of your search\n",
    "results and save it in a data frame and csv. In case if any product has less than 3 pages in search results then\n",
    "scrape all the products available under that product name. Details to be scraped are: \"Brand\n",
    "Name\", \"Name of the Product\", \"Price\", \"Return/Exchange\", \"Expected Delivery\", \"Availability\" and\n",
    "“Product URL”. In case, if any of the details are missing for any of the product then replace it by “-“"
   ]
  },
  {
   "cell_type": "code",
   "execution_count": 7,
   "id": "baf82f4a-ff5c-4e74-8125-869c5b8bfbaf",
   "metadata": {},
   "outputs": [],
   "source": [
    "# Scrapping urls\n",
    "urls=[]\n",
    "\n",
    "start = 0\n",
    "end = 3\n",
    "for i in range(start,end):\n",
    "    page_url = driver.find_elements(By.XPATH,'//a[@class=\"a-link-normal s-underline-text s-underline-link-text s-link-style a-text-normal\"]')\n",
    "    for i in page_url:\n",
    "        try:\n",
    "            urls.append(i.get_attribute(\"href\"))     # add URL from list which is created\n",
    "\n",
    "        except StaleElementReferenceException:  # Handling exception here thats why i am using try and except block\n",
    "            next_button = driver.find_element(By.XPATH,\"//a[text()='Next']\").click() \n",
    "            time.sleep(5)\n",
    "        "
   ]
  },
  {
   "cell_type": "code",
   "execution_count": 8,
   "id": "77b29616-7a9d-4aff-b2c7-04aea6cd5eab",
   "metadata": {},
   "outputs": [],
   "source": [
    "# create list here\n",
    "list_of_prod = {}\n",
    "list_of_prod['brand']=[]\n",
    "list_of_prod['name_of_prod']=[]\n",
    "list_of_prod['price']=[]\n",
    "list_of_prod['ret_exchange']=[]\n",
    "list_of_prod['expected_delivery']=[] \n",
    "list_of_prod['availability']=[]\n",
    "list_of_prod['prod_url']=[]\n"
   ]
  },
  {
   "cell_type": "code",
   "execution_count": 9,
   "id": "aca07c9d-f05e-4a9d-95d3-4f14e613eb63",
   "metadata": {},
   "outputs": [
    {
     "name": "stdout",
     "output_type": "stream",
     "text": [
      "https://www.amazon.in/sspa/click?ie=UTF8&spc=MTo2MTE1MDc4MjE0NDMxOTk6MTcyMTI4Mjk2NTpzcF9hdGY6MzAwMDE1NTM3OTc5MjMyOjowOjo&url=%2FKadence-Frontier-Acoustic-Guitar-Strings%2Fdp%2FB078GTJP5Y%2Fref%3Dsr_1_1_sspa%3Fcrid%3D1VG6GLL72BHQR%26dib%3DeyJ2IjoiMSJ9.H_dE0w8OHcmESxseNpLSv2KJQzpOhYBPQuvVEAHBow3hki7UCDGlTVB-ErRV38IZaUByackoqqGr_A876Og8wgNMIz7VUdMsEz3JhnVErepwzswbPySfDpOCXQ9GjICcJgZ3jrNU8CzDyWAlRPsiHu5jwUyJVyZL22QDH85_WyvXmYM2twZVA9-VWJTY6XUySJb0nBuwN5IB1yxoRWfxC0mXan2VmB4Hrq_JaARlgPpNqwyP-bWm8EcFyKsZ2cRMHx1g3iSYBA1ZvJGbS9-pU07b8Q3Oo0rdX1rIWzsuan0.ca4IycxGAjFUwqQhVwJNfS-7BB1L2N55UEmcf3wdpBw%26dib_tag%3Dse%26keywords%3DGuitars%26qid%3D1721282965%26sprefix%3Dguitars%252Caps%252C246%26sr%3D8-1-spons%26sp_csd%3Dd2lkZ2V0TmFtZT1zcF9hdGY%26psc%3D1\n",
      "https://www.amazon.in/sspa/click?ie=UTF8&spc=MTo2MTE1MDc4MjE0NDMxOTk6MTcyMTI4Mjk2NTpzcF9hdGY6MzAwMDE1NTA4OTU0MTMyOjowOjo&url=%2FKadence-Frontier-Acoustic-Guitar-Strings%2Fdp%2FB01GDZ46AA%2Fref%3Dsr_1_2_sspa%3Fcrid%3D1VG6GLL72BHQR%26dib%3DeyJ2IjoiMSJ9.H_dE0w8OHcmESxseNpLSv2KJQzpOhYBPQuvVEAHBow3hki7UCDGlTVB-ErRV38IZaUByackoqqGr_A876Og8wgNMIz7VUdMsEz3JhnVErepwzswbPySfDpOCXQ9GjICcJgZ3jrNU8CzDyWAlRPsiHu5jwUyJVyZL22QDH85_WyvXmYM2twZVA9-VWJTY6XUySJb0nBuwN5IB1yxoRWfxC0mXan2VmB4Hrq_JaARlgPpNqwyP-bWm8EcFyKsZ2cRMHx1g3iSYBA1ZvJGbS9-pU07b8Q3Oo0rdX1rIWzsuan0.ca4IycxGAjFUwqQhVwJNfS-7BB1L2N55UEmcf3wdpBw%26dib_tag%3Dse%26keywords%3DGuitars%26qid%3D1721282965%26sprefix%3Dguitars%252Caps%252C246%26sr%3D8-2-spons%26sp_csd%3Dd2lkZ2V0TmFtZT1zcF9hdGY%26psc%3D1\n",
      "https://www.amazon.in/sspa/click?ie=UTF8&spc=MTo2MTE1MDc4MjE0NDMxOTk6MTcyMTI4Mjk2NTpzcF9hdGY6MjAwNTcxOTMwNTYyMDQ6OjA6Og&url=%2FKadence-Slowhand-Premium-Acoustic-Instrument%2Fdp%2FB077SZ667X%2Fref%3Dsr_1_3_sspa%3Fcrid%3D1VG6GLL72BHQR%26dib%3DeyJ2IjoiMSJ9.H_dE0w8OHcmESxseNpLSv2KJQzpOhYBPQuvVEAHBow3hki7UCDGlTVB-ErRV38IZaUByackoqqGr_A876Og8wgNMIz7VUdMsEz3JhnVErepwzswbPySfDpOCXQ9GjICcJgZ3jrNU8CzDyWAlRPsiHu5jwUyJVyZL22QDH85_WyvXmYM2twZVA9-VWJTY6XUySJb0nBuwN5IB1yxoRWfxC0mXan2VmB4Hrq_JaARlgPpNqwyP-bWm8EcFyKsZ2cRMHx1g3iSYBA1ZvJGbS9-pU07b8Q3Oo0rdX1rIWzsuan0.ca4IycxGAjFUwqQhVwJNfS-7BB1L2N55UEmcf3wdpBw%26dib_tag%3Dse%26keywords%3DGuitars%26qid%3D1721282965%26sprefix%3Dguitars%252Caps%252C246%26sr%3D8-3-spons%26sp_csd%3Dd2lkZ2V0TmFtZT1zcF9hdGY%26psc%3D1\n",
      "https://www.amazon.in/sspa/click?ie=UTF8&spc=MTo2MTE1MDc4MjE0NDMxOTk6MTcyMTI4Mjk2NTpzcF9hdGY6MzAwMjUwNDg4OTM1NjMyOjowOjo&url=%2FRockstar-Acoustic-Guitars-Natural-Guitar%2Fdp%2FB0D96DYCXH%2Fref%3Dsr_1_4_sspa%3Fcrid%3D1VG6GLL72BHQR%26dib%3DeyJ2IjoiMSJ9.H_dE0w8OHcmESxseNpLSv2KJQzpOhYBPQuvVEAHBow3hki7UCDGlTVB-ErRV38IZaUByackoqqGr_A876Og8wgNMIz7VUdMsEz3JhnVErepwzswbPySfDpOCXQ9GjICcJgZ3jrNU8CzDyWAlRPsiHu5jwUyJVyZL22QDH85_WyvXmYM2twZVA9-VWJTY6XUySJb0nBuwN5IB1yxoRWfxC0mXan2VmB4Hrq_JaARlgPpNqwyP-bWm8EcFyKsZ2cRMHx1g3iSYBA1ZvJGbS9-pU07b8Q3Oo0rdX1rIWzsuan0.ca4IycxGAjFUwqQhVwJNfS-7BB1L2N55UEmcf3wdpBw%26dib_tag%3Dse%26keywords%3DGuitars%26qid%3D1721282965%26sprefix%3Dguitars%252Caps%252C246%26sr%3D8-4-spons%26sp_csd%3Dd2lkZ2V0TmFtZT1zcF9hdGY%26psc%3D1\n"
     ]
    }
   ],
   "source": [
    "for url in urls[0:4]:\n",
    "    driver.get(url)  \n",
    "    print(url)\n",
    "    \n",
    "    # Loading the webpage by url\n",
    "    \n",
    "    try:\n",
    "        brand_of_prod = driver.find_element(By.XPATH,'//a[@id=\"bylineInfo\"]')     \n",
    "        list_of_prod['brand'].append(brand_of_prod.text)\n",
    "    except NoSuchElementException:\n",
    "        list_of_prod['brand'].append('-')\n",
    "    \n",
    "    try:\n",
    "        prod = driver.find_element(By.XPATH,'//h1[@id=\"title\"]/span')   \n",
    "        list_of_prod['name_of_prod'].append(prod.text)\n",
    "    except NoSuchElementException:\n",
    "        list_of_prod['name_of_prod'].append('-')\n",
    "\n",
    "    try:\n",
    "        price_of_prod = driver.find_element(By.XPATH,'//*[@id=\"corePrice_feature_div\"]/div/div/span[1]/span[2]/span[2]')           \n",
    "        list_of_prod['price'].append(price_of_prod.text)\n",
    "    except NoSuchElementException:\n",
    "        list_of_prod['price'].append('-')\n",
    "        \n",
    "    try:                                                                                    \n",
    "        ret_exch = driver.find_element(By.XPATH,'//span[@class=\"a-size-small a-color-link a-text-normal\"]')\n",
    "        list_of_prod['ret_exchange'].append(ret_exch.text)\n",
    "    except NoSuchElementException:\n",
    "        list_of_prod['ret_exchange'].append('-')\n",
    "    \n",
    "    try:\n",
    "        delivery = driver.find_element(By.XPATH,'//span[@id=\"ftCountdown\"]')     \n",
    "        list_of_prod['expected_delivery'].append(delivery.text)\n",
    "    except NoSuchElementException:\n",
    "        list_of_prod['expected_delivery'].append('-')\n",
    "    \n",
    "    try:\n",
    "        availability_ = driver.find_element(By.XPATH,'//div[@id=\"availability\"]/span')            \n",
    "        list_of_prod['availability'].append(availability_.text)\n",
    "    except NoSuchElementException:\n",
    "        list_of_prod['availability'].append('-')\n",
    "    \n",
    "    list_of_prod['prod_url'].append(url)                                                      "
   ]
  },
  {
   "cell_type": "code",
   "execution_count": 10,
   "id": "7b9ee0df-8588-4e02-8dd8-13d95f0e220a",
   "metadata": {},
   "outputs": [
    {
     "data": {
      "text/plain": [
       "7"
      ]
     },
     "execution_count": 10,
     "metadata": {},
     "output_type": "execute_result"
    }
   ],
   "source": [
    "len(list_of_prod)"
   ]
  },
  {
   "cell_type": "code",
   "execution_count": 11,
   "id": "7c7eb0a9-b76f-488a-9009-baa84ed2a503",
   "metadata": {},
   "outputs": [],
   "source": [
    "df = pd.DataFrame(list_of_prod)"
   ]
  },
  {
   "cell_type": "code",
   "execution_count": 12,
   "id": "ff516bbe-6258-4f6f-b7f0-30d7ef38fde3",
   "metadata": {},
   "outputs": [
    {
     "data": {
      "text/html": [
       "<div>\n",
       "<style scoped>\n",
       "    .dataframe tbody tr th:only-of-type {\n",
       "        vertical-align: middle;\n",
       "    }\n",
       "\n",
       "    .dataframe tbody tr th {\n",
       "        vertical-align: top;\n",
       "    }\n",
       "\n",
       "    .dataframe thead th {\n",
       "        text-align: right;\n",
       "    }\n",
       "</style>\n",
       "<table border=\"1\" class=\"dataframe\">\n",
       "  <thead>\n",
       "    <tr style=\"text-align: right;\">\n",
       "      <th></th>\n",
       "      <th>brand</th>\n",
       "      <th>name_of_prod</th>\n",
       "      <th>price</th>\n",
       "      <th>ret_exchange</th>\n",
       "      <th>expected_delivery</th>\n",
       "      <th>availability</th>\n",
       "      <th>prod_url</th>\n",
       "    </tr>\n",
       "  </thead>\n",
       "  <tbody>\n",
       "    <tr>\n",
       "      <th>0</th>\n",
       "      <td>Visit the Kadence Store</td>\n",
       "      <td>Kadence rosewood Guitar Frontier Series, Elect...</td>\n",
       "      <td>5,399</td>\n",
       "      <td>Free Delivery</td>\n",
       "      <td>2 hrs 5 mins</td>\n",
       "      <td>In stock</td>\n",
       "      <td>https://www.amazon.in/sspa/click?ie=UTF8&amp;spc=M...</td>\n",
       "    </tr>\n",
       "    <tr>\n",
       "      <th>1</th>\n",
       "      <td>Visit the Kadence Store</td>\n",
       "      <td>Kadence Frontier guitar with Online Guitar lea...</td>\n",
       "      <td>4,733</td>\n",
       "      <td>Free Delivery</td>\n",
       "      <td>9 hrs 35 mins</td>\n",
       "      <td>In stock</td>\n",
       "      <td>https://www.amazon.in/sspa/click?ie=UTF8&amp;spc=M...</td>\n",
       "    </tr>\n",
       "    <tr>\n",
       "      <th>2</th>\n",
       "      <td>Visit the Kadence Store</td>\n",
       "      <td>Kadence Slowhand Premium Jumbo Semi Acoustic G...</td>\n",
       "      <td>9,999</td>\n",
       "      <td>Free Delivery</td>\n",
       "      <td>2 hrs 35 mins</td>\n",
       "      <td>In stock</td>\n",
       "      <td>https://www.amazon.in/sspa/click?ie=UTF8&amp;spc=M...</td>\n",
       "    </tr>\n",
       "    <tr>\n",
       "      <th>3</th>\n",
       "      <td>Brand: Rockstar</td>\n",
       "      <td>Rockstar Acoustic Guitars R200 Natural Guitar ...</td>\n",
       "      <td>35,220</td>\n",
       "      <td>Free Delivery</td>\n",
       "      <td>19 hrs 20 mins</td>\n",
       "      <td>In stock</td>\n",
       "      <td>https://www.amazon.in/sspa/click?ie=UTF8&amp;spc=M...</td>\n",
       "    </tr>\n",
       "  </tbody>\n",
       "</table>\n",
       "</div>"
      ],
      "text/plain": [
       "                     brand                                       name_of_prod  \\\n",
       "0  Visit the Kadence Store  Kadence rosewood Guitar Frontier Series, Elect...   \n",
       "1  Visit the Kadence Store  Kadence Frontier guitar with Online Guitar lea...   \n",
       "2  Visit the Kadence Store  Kadence Slowhand Premium Jumbo Semi Acoustic G...   \n",
       "3          Brand: Rockstar  Rockstar Acoustic Guitars R200 Natural Guitar ...   \n",
       "\n",
       "    price   ret_exchange expected_delivery availability  \\\n",
       "0   5,399  Free Delivery      2 hrs 5 mins     In stock   \n",
       "1   4,733  Free Delivery     9 hrs 35 mins     In stock   \n",
       "2   9,999  Free Delivery     2 hrs 35 mins     In stock   \n",
       "3  35,220  Free Delivery    19 hrs 20 mins     In stock   \n",
       "\n",
       "                                            prod_url  \n",
       "0  https://www.amazon.in/sspa/click?ie=UTF8&spc=M...  \n",
       "1  https://www.amazon.in/sspa/click?ie=UTF8&spc=M...  \n",
       "2  https://www.amazon.in/sspa/click?ie=UTF8&spc=M...  \n",
       "3  https://www.amazon.in/sspa/click?ie=UTF8&spc=M...  "
      ]
     },
     "execution_count": 12,
     "metadata": {},
     "output_type": "execute_result"
    }
   ],
   "source": [
    "df"
   ]
  },
  {
   "cell_type": "code",
   "execution_count": 13,
   "id": "f81db9c8-767a-49e5-94bc-22f0cdbe3698",
   "metadata": {},
   "outputs": [],
   "source": [
    "df.to_csv(\"Guitar.csv\")"
   ]
  },
  {
   "cell_type": "code",
   "execution_count": null,
   "id": "e3aaa871-a2b9-44c8-8fee-fee1f1cdbf1a",
   "metadata": {},
   "outputs": [],
   "source": []
  },
  {
   "cell_type": "markdown",
   "id": "ccbb6af0-c973-43cf-934b-35dd1c6b44bc",
   "metadata": {},
   "source": [
    "3. Write a python program to access the search bar and search button on images.google.com and scrape 10\n",
    "images each for keywords ‘fruits’, ‘cars’ and ‘Machine Learning’, ‘Guitar’, ‘Cakes’. "
   ]
  },
  {
   "cell_type": "code",
   "execution_count": 14,
   "id": "1871547d-1a12-4b5a-a513-8dc509c139da",
   "metadata": {},
   "outputs": [],
   "source": [
    "# import packagges\n",
    "import selenium\n",
    "import pandas as pd\n",
    "import requests\n",
    "from selenium import webdriver\n",
    "import warnings\n",
    "warnings.filterwarnings('ignore')\n",
    "from selenium.webdriver.common.by import By\n",
    "from selenium.common.exceptions import NoSuchElementException, StaleElementReferenceException\n",
    "import time"
   ]
  },
  {
   "cell_type": "code",
   "execution_count": 15,
   "id": "9ace4132-5688-4fc7-bf45-afc63cb82eef",
   "metadata": {},
   "outputs": [],
   "source": [
    "driver= webdriver.Chrome()\n",
    "driver.implicitly_wait(10)\n",
    "driver.get('https://images.google.com/')\n",
    "driver.maximize_window()"
   ]
  },
  {
   "cell_type": "code",
   "execution_count": 16,
   "id": "382d9e8b-dafe-4a66-a10d-6cf55ec1f290",
   "metadata": {},
   "outputs": [],
   "source": [
    "search_name1 = driver.find_element(By.CLASS_NAME,\"gLFyf\").send_keys(\"Cars\")"
   ]
  },
  {
   "cell_type": "code",
   "execution_count": 17,
   "id": "991f1a54-5301-42b1-9b8c-8922e3fdb29a",
   "metadata": {},
   "outputs": [],
   "source": [
    "search = driver.find_element(By.XPATH,'//span[@class=\"z1asCe MZy1Rb\"]').click()"
   ]
  },
  {
   "cell_type": "code",
   "execution_count": 18,
   "id": "a10a2e18-4a15-418d-8c77-9aab4ea41110",
   "metadata": {},
   "outputs": [],
   "source": [
    "for i in range(500):\n",
    "    driver.execute_script(\"window.scrollBy(0,500)\")"
   ]
  },
  {
   "cell_type": "code",
   "execution_count": 19,
   "id": "dde2ae78-16b0-408e-ba08-8010eb4d140f",
   "metadata": {},
   "outputs": [],
   "source": [
    "images_of_cars = driver.find_elements(By.XPATH,'//img[@class=\"YQ4gaf\"]')"
   ]
  },
  {
   "cell_type": "code",
   "execution_count": 20,
   "id": "97f6ea53-de90-4435-9be6-4db3a72bebbe",
   "metadata": {},
   "outputs": [
    {
     "data": {
      "text/plain": [
       "661"
      ]
     },
     "execution_count": 20,
     "metadata": {},
     "output_type": "execute_result"
    }
   ],
   "source": [
    "img_urls = []\n",
    "for image in images_of_cars:\n",
    "    source= image.get_attribute('src')\n",
    "    if source is not None:\n",
    "        if(source[0:4] == 'http'):\n",
    "            img_urls.append(source)\n",
    "len(img_urls)"
   ]
  },
  {
   "cell_type": "code",
   "execution_count": 21,
   "id": "16e622d5-26fd-47f0-9bf6-6da8ec7c1d1d",
   "metadata": {},
   "outputs": [
    {
     "name": "stdout",
     "output_type": "stream",
     "text": [
      "Downloads 0 of 10 images\n",
      "Downloads 1 of 10 images\n",
      "Downloads 2 of 10 images\n",
      "Downloads 3 of 10 images\n",
      "Downloads 4 of 10 images\n",
      "Downloads 5 of 10 images\n",
      "Downloads 6 of 10 images\n",
      "Downloads 7 of 10 images\n",
      "Downloads 8 of 10 images\n",
      "Downloads 9 of 10 images\n"
     ]
    }
   ],
   "source": [
    "for i in range(len(img_urls)):\n",
    "    if i >= 10:\n",
    "        break\n",
    "    print(\"Downloads {0} of {1} images\" .format(i, 10))\n",
    "    response= requests.get(img_urls[i])\n",
    "    file = open(\"D:\\Dextop Data\\desk\\img\"+str(i)+\".jpg\", \"wb\")\n",
    "    file.write(response.content)"
   ]
  },
  {
   "cell_type": "code",
   "execution_count": 22,
   "id": "64e9e2fc-ef8e-42ad-a9f8-c814d7b0ca37",
   "metadata": {},
   "outputs": [],
   "source": [
    "driver.back()"
   ]
  },
  {
   "cell_type": "code",
   "execution_count": 23,
   "id": "42e478c5-01b7-4bdd-b4c2-f82b3f5bb157",
   "metadata": {},
   "outputs": [],
   "source": [
    "search_name2 = driver.find_element(By.CLASS_NAME,\"gLFyf\").send_keys(\"Fruites\")"
   ]
  },
  {
   "cell_type": "code",
   "execution_count": 24,
   "id": "dce36792-bf4b-41a4-b16b-e2847e1ef419",
   "metadata": {},
   "outputs": [],
   "source": [
    "search2 = driver.find_element(By.XPATH,'//span[@class=\"z1asCe MZy1Rb\"]').click()"
   ]
  },
  {
   "cell_type": "code",
   "execution_count": 25,
   "id": "d1b160b0-7beb-47a8-a687-807e54d791f6",
   "metadata": {},
   "outputs": [],
   "source": [
    "for i in range(500):\n",
    "    driver.execute_script(\"window.scrollBy(0,500)\")"
   ]
  },
  {
   "cell_type": "code",
   "execution_count": 26,
   "id": "43dc4966-03d3-444b-913f-faa7d9d4929b",
   "metadata": {},
   "outputs": [],
   "source": [
    "images_of_fruites = driver.find_elements(By.XPATH,'//img[@class=\"YQ4gaf\"]')"
   ]
  },
  {
   "cell_type": "code",
   "execution_count": 27,
   "id": "6b91ae31-b750-448f-acba-47d510527731",
   "metadata": {},
   "outputs": [
    {
     "data": {
      "text/plain": [
       "522"
      ]
     },
     "execution_count": 27,
     "metadata": {},
     "output_type": "execute_result"
    }
   ],
   "source": [
    "img_urls = []\n",
    "for image in images_of_fruites:\n",
    "    source= image.get_attribute('src')\n",
    "    if source is not None:\n",
    "        if(source[0:4] == 'http'):\n",
    "            img_urls.append(source)\n",
    "len(img_urls)"
   ]
  },
  {
   "cell_type": "code",
   "execution_count": 28,
   "id": "74d7716d-3ade-4d72-80ca-c5dea1878a15",
   "metadata": {},
   "outputs": [
    {
     "name": "stdout",
     "output_type": "stream",
     "text": [
      "Downloads 0 of 10 images\n",
      "Downloads 1 of 10 images\n",
      "Downloads 2 of 10 images\n",
      "Downloads 3 of 10 images\n",
      "Downloads 4 of 10 images\n",
      "Downloads 5 of 10 images\n",
      "Downloads 6 of 10 images\n",
      "Downloads 7 of 10 images\n",
      "Downloads 8 of 10 images\n",
      "Downloads 9 of 10 images\n"
     ]
    }
   ],
   "source": [
    "for i in range(len(img_urls)):\n",
    "    if i >= 10:\n",
    "        break\n",
    "    print(\"Downloads {0} of {1} images\" .format(i, 10))\n",
    "    response= requests.get(img_urls[i])\n",
    "    file = open(\"D:\\Dextop Data\\desk\\img\"+str(i)+\".jpg\", \"wb\")\n",
    "    file.write(response.content)"
   ]
  },
  {
   "cell_type": "code",
   "execution_count": 29,
   "id": "72594f9f-758d-422a-a807-13d6f9e69b06",
   "metadata": {},
   "outputs": [],
   "source": [
    "driver.back()"
   ]
  },
  {
   "cell_type": "code",
   "execution_count": 30,
   "id": "439bd55e-134e-4919-a784-62dfbedeea11",
   "metadata": {},
   "outputs": [],
   "source": [
    "search_name3 = driver.find_element(By.CLASS_NAME,\"gLFyf\").send_keys(\"Machine Learning\")"
   ]
  },
  {
   "cell_type": "code",
   "execution_count": 31,
   "id": "cc4f15a0-0902-4b20-8f4f-ed3f3720618d",
   "metadata": {},
   "outputs": [],
   "source": [
    "search3 = driver.find_element(By.XPATH,'//span[@class=\"z1asCe MZy1Rb\"]').click()"
   ]
  },
  {
   "cell_type": "code",
   "execution_count": 32,
   "id": "d3a847cc-8382-4791-b15f-53e2391e820a",
   "metadata": {},
   "outputs": [],
   "source": [
    "for i in range(500):\n",
    "    driver.execute_script(\"window.scrollBy(0,500)\")"
   ]
  },
  {
   "cell_type": "code",
   "execution_count": 33,
   "id": "8bdb4025-3b10-4322-a711-d5ca895cf47d",
   "metadata": {},
   "outputs": [],
   "source": [
    "ml = driver.find_elements(By.XPATH,'//img[@class=\"YQ4gaf\"]')"
   ]
  },
  {
   "cell_type": "code",
   "execution_count": 34,
   "id": "dc992799-f553-46fe-abb9-1b0330707531",
   "metadata": {},
   "outputs": [
    {
     "data": {
      "text/plain": [
       "750"
      ]
     },
     "execution_count": 34,
     "metadata": {},
     "output_type": "execute_result"
    }
   ],
   "source": [
    "img_urls = []\n",
    "for image in ml:\n",
    "    source= image.get_attribute('src')\n",
    "    if source is not None:\n",
    "        if(source[0:4] == 'http'):\n",
    "            img_urls.append(source)\n",
    "len(img_urls)"
   ]
  },
  {
   "cell_type": "code",
   "execution_count": 35,
   "id": "bfa81fae-3e8e-41fe-b445-8301a9fe8e90",
   "metadata": {},
   "outputs": [
    {
     "name": "stdout",
     "output_type": "stream",
     "text": [
      "Downloads 0 of 10 images\n",
      "Downloads 1 of 10 images\n",
      "Downloads 2 of 10 images\n",
      "Downloads 3 of 10 images\n",
      "Downloads 4 of 10 images\n",
      "Downloads 5 of 10 images\n",
      "Downloads 6 of 10 images\n",
      "Downloads 7 of 10 images\n",
      "Downloads 8 of 10 images\n",
      "Downloads 9 of 10 images\n"
     ]
    }
   ],
   "source": [
    "for i in range(len(img_urls)):\n",
    "    if i >= 10:\n",
    "        break\n",
    "    print(\"Downloads {0} of {1} images\" .format(i, 10))\n",
    "    response= requests.get(img_urls[i])\n",
    "    file = open(\"D:\\Dextop Data\\desk\\img\"+str(i)+\".jpg\", \"wb\")\n",
    "    file.write(response.content)"
   ]
  },
  {
   "cell_type": "code",
   "execution_count": 36,
   "id": "e781c4ae-88bd-49e2-a235-6107a220f44d",
   "metadata": {},
   "outputs": [],
   "source": [
    "driver.back()"
   ]
  },
  {
   "cell_type": "code",
   "execution_count": 37,
   "id": "c72c9948-c882-47e6-be26-b35e36839182",
   "metadata": {},
   "outputs": [],
   "source": [
    "search_name4= driver.find_element(By.CLASS_NAME,\"gLFyf\").send_keys(\"Guitar\")"
   ]
  },
  {
   "cell_type": "code",
   "execution_count": 38,
   "id": "f1ccefd0-5a72-456d-be37-516d468ab10d",
   "metadata": {},
   "outputs": [],
   "source": [
    "search4 = driver.find_element(By.XPATH,'//span[@class=\"z1asCe MZy1Rb\"]').click()"
   ]
  },
  {
   "cell_type": "code",
   "execution_count": 39,
   "id": "5bd6c097-64b4-4353-938f-a613a06a722c",
   "metadata": {},
   "outputs": [],
   "source": [
    "for i in range(500):\n",
    "    driver.execute_script(\"window.scrollBy(0,500)\")"
   ]
  },
  {
   "cell_type": "code",
   "execution_count": 40,
   "id": "71596a52-a880-42da-a01b-c0c8b47503f2",
   "metadata": {},
   "outputs": [],
   "source": [
    "guitar = driver.find_elements(By.XPATH,'//img[@class=\"YQ4gaf\"]')"
   ]
  },
  {
   "cell_type": "code",
   "execution_count": 41,
   "id": "6a5ec12e-51ba-4626-9511-96eba3fa0755",
   "metadata": {},
   "outputs": [
    {
     "data": {
      "text/plain": [
       "482"
      ]
     },
     "execution_count": 41,
     "metadata": {},
     "output_type": "execute_result"
    }
   ],
   "source": [
    "img_urls = []\n",
    "for image in guitar:\n",
    "    source= image.get_attribute('src')\n",
    "    if source is not None:\n",
    "        if(source[0:4] == 'http'):\n",
    "            img_urls.append(source)\n",
    "len(img_urls)"
   ]
  },
  {
   "cell_type": "code",
   "execution_count": 42,
   "id": "7a06153f-be61-4b94-8eb4-0be4f9711bad",
   "metadata": {},
   "outputs": [
    {
     "name": "stdout",
     "output_type": "stream",
     "text": [
      "Downloads 0 of 10 images\n",
      "Downloads 1 of 10 images\n",
      "Downloads 2 of 10 images\n",
      "Downloads 3 of 10 images\n",
      "Downloads 4 of 10 images\n",
      "Downloads 5 of 10 images\n",
      "Downloads 6 of 10 images\n",
      "Downloads 7 of 10 images\n",
      "Downloads 8 of 10 images\n",
      "Downloads 9 of 10 images\n"
     ]
    }
   ],
   "source": [
    "for i in range(len(img_urls)):\n",
    "    if i >= 10:\n",
    "        break\n",
    "    print(\"Downloads {0} of {1} images\" .format(i, 10))\n",
    "    response= requests.get(img_urls[i])\n",
    "    file = open(\"D:\\Dextop Data\\desk\\img\"+str(i)+\".jpg\", \"wb\")\n",
    "    file.write(response.content)"
   ]
  },
  {
   "cell_type": "code",
   "execution_count": 43,
   "id": "ed12235a-dc12-4b46-be32-1cfbdd4a2d24",
   "metadata": {},
   "outputs": [],
   "source": [
    "driver.back()"
   ]
  },
  {
   "cell_type": "code",
   "execution_count": 44,
   "id": "0023c15e-8216-4136-838e-eb8b6533155e",
   "metadata": {},
   "outputs": [],
   "source": [
    "search_name5= driver.find_element(By.CLASS_NAME,\"gLFyf\").send_keys(\"Cakes\")"
   ]
  },
  {
   "cell_type": "code",
   "execution_count": 45,
   "id": "c58cbd8c-2c78-43e9-80dd-0d11d73ce80a",
   "metadata": {},
   "outputs": [],
   "source": [
    "search5 = driver.find_element(By.XPATH,'//span[@class=\"z1asCe MZy1Rb\"]').click()"
   ]
  },
  {
   "cell_type": "code",
   "execution_count": 46,
   "id": "3429a2cc-581e-4d16-8afd-263f4762fcc4",
   "metadata": {},
   "outputs": [],
   "source": [
    "for i in range(500):\n",
    "    driver.execute_script(\"window.scrollBy(0,500)\")"
   ]
  },
  {
   "cell_type": "code",
   "execution_count": 47,
   "id": "219ceb42-e264-405f-85e1-ff8af8e18f05",
   "metadata": {},
   "outputs": [],
   "source": [
    "cake = driver.find_elements(By.XPATH,'//img[@class=\"YQ4gaf\"]')"
   ]
  },
  {
   "cell_type": "code",
   "execution_count": 48,
   "id": "1c83289b-a758-4c69-9a0b-78b993b456c5",
   "metadata": {},
   "outputs": [
    {
     "data": {
      "text/plain": [
       "599"
      ]
     },
     "execution_count": 48,
     "metadata": {},
     "output_type": "execute_result"
    }
   ],
   "source": [
    "img_urls = []\n",
    "for image in cake:\n",
    "    source= image.get_attribute('src')\n",
    "    if source is not None:\n",
    "        if(source[0:4] == 'http'):\n",
    "            img_urls.append(source)\n",
    "len(img_urls)"
   ]
  },
  {
   "cell_type": "code",
   "execution_count": 49,
   "id": "cfeac6a6-866e-46d9-ad02-a9e5b769150a",
   "metadata": {},
   "outputs": [
    {
     "name": "stdout",
     "output_type": "stream",
     "text": [
      "Downloads 0 of 10 images\n",
      "Downloads 1 of 10 images\n",
      "Downloads 2 of 10 images\n",
      "Downloads 3 of 10 images\n",
      "Downloads 4 of 10 images\n",
      "Downloads 5 of 10 images\n",
      "Downloads 6 of 10 images\n",
      "Downloads 7 of 10 images\n",
      "Downloads 8 of 10 images\n",
      "Downloads 9 of 10 images\n"
     ]
    }
   ],
   "source": [
    "for i in range(len(img_urls)):\n",
    "    if i >= 10:\n",
    "        break\n",
    "    print(\"Downloads {0} of {1} images\" .format(i, 10))\n",
    "    response= requests.get(img_urls[i])\n",
    "    file = open(\"D:\\Dextop Data\\desk\\img\"+str(i)+\".jpg\", \"wb\")\n",
    "    file.write(response.content)"
   ]
  },
  {
   "cell_type": "markdown",
   "id": "8eeb2e61-fe4c-4ce9-aca5-8a4c9df7d3cb",
   "metadata": {},
   "source": [
    "4. Write a python program to search for a smartphone(e.g.: Oneplus Nord, pixel 4A, etc.) on www.flipkart.com\n",
    "and scrape following details for all the search results displayed on 1st page. Details to be scraped: “Brand\n",
    "Name”, “Smartphone name”, “Colour”, “RAM”, “Storage(ROM)”, “Primary Camera” “Secondary Camera”, “Display Size”, “Battery Capacity”, “Price”, “Product URL”. Incase if any of the details is missing then replace it by “- “. Save your results in a dataframe and CSV. "
   ]
  },
  {
   "cell_type": "code",
   "execution_count": 50,
   "id": "2f8b687c-4aa3-424c-93be-c46c244c006f",
   "metadata": {},
   "outputs": [],
   "source": [
    "driver= webdriver.Chrome()\n",
    "driver.implicitly_wait(10)\n",
    "driver.get('https://www.flipkart.com/')\n",
    "driver.maximize_window()"
   ]
  },
  {
   "cell_type": "code",
   "execution_count": 51,
   "id": "7b41a7a8-7a1b-4267-93c2-0d782d266681",
   "metadata": {},
   "outputs": [],
   "source": [
    "product_name = driver.find_element(By.CLASS_NAME,\"Pke_EE\").send_keys(\"Oneplus Nord, pixel 4A\")\n",
    "search = driver.find_element(By.CLASS_NAME,\"_2iLD__\").click()"
   ]
  },
  {
   "cell_type": "code",
   "execution_count": 52,
   "id": "d60e3a70-4880-4966-b7aa-5a41bce0d7c1",
   "metadata": {},
   "outputs": [],
   "source": [
    "list_Of_Specification = {}\n",
    "brand_and_color = [] \n",
    "ram_and_storage = [] \n",
    "primary_camera = []\n",
    "display = [] \n",
    "battery = [] \n",
    "price = [] \n",
    "prod_url = [] "
   ]
  },
  {
   "cell_type": "code",
   "execution_count": 53,
   "id": "abcc2406-d9d0-4a47-b201-251df9057d64",
   "metadata": {},
   "outputs": [],
   "source": [
    "brand = driver.find_elements(By.XPATH,'//div[@class=\"KzDlHZ\"]')\n",
    "for i in brand:\n",
    "    brand_and_color.append(i.text)\n",
    "    \n",
    "ram = driver.find_elements(By.XPATH,'//ul[@class=\"G4BRas\"]/li[1]')\n",
    "for i in ram:\n",
    "    ram_and_storage.append(i.text)\n",
    "    \n",
    "camera = driver.find_elements(By.XPATH,'//ul[@class=\"G4BRas\"]/li[3]')\n",
    "for i in camera:\n",
    "    primary_camera.append(i.text)\n",
    "\n",
    "prod_display = driver.find_elements(By.XPATH,'//ul[@class=\"G4BRas\"]/li[2]')\n",
    "for i in prod_display:\n",
    "    display.append(i.text)\n",
    "\n",
    "battery_capacity = driver.find_elements(By.XPATH,'//ul[@class=\"G4BRas\"]/li[4]')\n",
    "for i in battery_capacity:\n",
    "    battery.append(i.text)\n",
    "\n",
    "price_of_prod = driver.find_elements(By.XPATH,'//div[@class=\"Nx9bqj _4b5DiR\"]')\n",
    "for i in price_of_prod:\n",
    "    price.append(i.text)\n",
    "\n",
    "page_url = driver.find_elements(By.XPATH,'//a[@class=\"CGtC98\"]')\n",
    "for i in page_url:\n",
    "    prod_url.append(i.get_attribute('href'))"
   ]
  },
  {
   "cell_type": "code",
   "execution_count": 54,
   "id": "e832b5ce-c0a2-42a8-b16c-d54383e8fb02",
   "metadata": {},
   "outputs": [
    {
     "data": {
      "text/plain": [
       "(9, 9)"
      ]
     },
     "execution_count": 54,
     "metadata": {},
     "output_type": "execute_result"
    }
   ],
   "source": [
    "len(brand_and_color),len(ram_and_storage),len(primary_camera),len(display),len(battery)\n",
    "len(price),len(prod_url)"
   ]
  },
  {
   "cell_type": "code",
   "execution_count": 55,
   "id": "b70c9c3e-3d05-4561-8676-3e96743a36ab",
   "metadata": {},
   "outputs": [
    {
     "data": {
      "text/html": [
       "<div>\n",
       "<style scoped>\n",
       "    .dataframe tbody tr th:only-of-type {\n",
       "        vertical-align: middle;\n",
       "    }\n",
       "\n",
       "    .dataframe tbody tr th {\n",
       "        vertical-align: top;\n",
       "    }\n",
       "\n",
       "    .dataframe thead th {\n",
       "        text-align: right;\n",
       "    }\n",
       "</style>\n",
       "<table border=\"1\" class=\"dataframe\">\n",
       "  <thead>\n",
       "    <tr style=\"text-align: right;\">\n",
       "      <th></th>\n",
       "      <th>Brand &amp; Color</th>\n",
       "      <th>Ram &amp; Storage</th>\n",
       "      <th>Pri &amp; Sec Camera</th>\n",
       "      <th>Display</th>\n",
       "      <th>Battery</th>\n",
       "      <th>Price</th>\n",
       "      <th>URL</th>\n",
       "    </tr>\n",
       "  </thead>\n",
       "  <tbody>\n",
       "    <tr>\n",
       "      <th>0</th>\n",
       "      <td>OnePlus Nord CE 2 5G (Gray Mirror, 128 GB)</td>\n",
       "      <td>8 GB RAM | 128 GB ROM</td>\n",
       "      <td>64MP Rear Camera</td>\n",
       "      <td>16.33 cm (6.43 inch) Display</td>\n",
       "      <td>4500 mAh Battery</td>\n",
       "      <td>₹24,999</td>\n",
       "      <td>https://www.flipkart.com/oneplus-nord-ce-2-5g-...</td>\n",
       "    </tr>\n",
       "    <tr>\n",
       "      <th>1</th>\n",
       "      <td>OnePlus Nord (Gray Onyx, 64 GB)</td>\n",
       "      <td>6 GB RAM | 64 GB ROM</td>\n",
       "      <td>48MP + 8MP | 32MP + 8MP Dual Front Camera</td>\n",
       "      <td>16.36 cm (6.44 inch) Full HD+ Display</td>\n",
       "      <td>4115 mAh Battery</td>\n",
       "      <td>₹22,689</td>\n",
       "      <td>https://www.flipkart.com/oneplus-nord-gray-ony...</td>\n",
       "    </tr>\n",
       "    <tr>\n",
       "      <th>2</th>\n",
       "      <td>OnePlus Nord (Blue Marble, 128 GB)</td>\n",
       "      <td>8 GB RAM | 128 GB ROM</td>\n",
       "      <td>48MP + 8MP | 32MP + 8MP Dual Front Camera</td>\n",
       "      <td>16.36 cm (6.44 inch) Full HD+ Display</td>\n",
       "      <td>4115 mAh Battery</td>\n",
       "      <td>₹24,790</td>\n",
       "      <td>https://www.flipkart.com/oneplus-nord-blue-mar...</td>\n",
       "    </tr>\n",
       "    <tr>\n",
       "      <th>3</th>\n",
       "      <td>OnePlus Nord (Blue Marble, 64 GB)</td>\n",
       "      <td>6 GB RAM | 64 GB ROM</td>\n",
       "      <td>48MP + 8MP | 32MP + 8MP Dual Front Camera</td>\n",
       "      <td>16.36 cm (6.44 inch) Full HD+ Display</td>\n",
       "      <td>4115 mAh Battery</td>\n",
       "      <td>₹22,980</td>\n",
       "      <td>https://www.flipkart.com/oneplus-nord-blue-mar...</td>\n",
       "    </tr>\n",
       "    <tr>\n",
       "      <th>4</th>\n",
       "      <td>OnePlus Nord (Gray Onyx, 256 GB)</td>\n",
       "      <td>12 GB RAM | 256 GB ROM</td>\n",
       "      <td>48MP + 8MP | 32MP + 8MP Dual Front Camera</td>\n",
       "      <td>16.36 cm (6.44 inch) Full HD+ Display</td>\n",
       "      <td>4115 mAh Battery</td>\n",
       "      <td>₹22,999</td>\n",
       "      <td>https://www.flipkart.com/oneplus-nord-gray-ony...</td>\n",
       "    </tr>\n",
       "    <tr>\n",
       "      <th>5</th>\n",
       "      <td>OnePlus Nord (Gray Onyx, 128 GB)</td>\n",
       "      <td>8 GB RAM | 128 GB ROM</td>\n",
       "      <td>48MP + 8MP | 32MP + 8MP Dual Front Camera</td>\n",
       "      <td>16.36 cm (6.44 inch) Full HD+ Display</td>\n",
       "      <td>4115 mAh Battery</td>\n",
       "      <td>₹24,600</td>\n",
       "      <td>https://www.flipkart.com/oneplus-nord-gray-ony...</td>\n",
       "    </tr>\n",
       "    <tr>\n",
       "      <th>6</th>\n",
       "      <td>OnePlus Nord (Blue Marble, 256 GB)</td>\n",
       "      <td>12 GB RAM | 256 GB ROM</td>\n",
       "      <td>48MP + 8MP | 32MP + 8MP Dual Front Camera</td>\n",
       "      <td>16.36 cm (6.44 inch) Full HD+ Display</td>\n",
       "      <td>4115 mAh Battery</td>\n",
       "      <td>₹21,999</td>\n",
       "      <td>https://www.flipkart.com/oneplus-nord-blue-mar...</td>\n",
       "    </tr>\n",
       "    <tr>\n",
       "      <th>7</th>\n",
       "      <td>OnePlus Nord CE 2 5G (Bahama Blue, 128 GB)</td>\n",
       "      <td>8 GB RAM | 128 GB ROM</td>\n",
       "      <td>64MP Rear Camera</td>\n",
       "      <td>16.33 cm (6.43 inch) Display</td>\n",
       "      <td>4500 mAh Battery</td>\n",
       "      <td>₹22,995</td>\n",
       "      <td>https://www.flipkart.com/oneplus-nord-ce-2-5g-...</td>\n",
       "    </tr>\n",
       "    <tr>\n",
       "      <th>8</th>\n",
       "      <td>OnePlus Nord CE 2 5G (Gray Mirror, 128 GB)</td>\n",
       "      <td>6 GB RAM | 128 GB ROM</td>\n",
       "      <td>64MP Rear Camera | 16MP Front Camera</td>\n",
       "      <td>16.33 cm (6.43 inch) Display</td>\n",
       "      <td>4500 mAh Battery</td>\n",
       "      <td>₹19,999</td>\n",
       "      <td>https://www.flipkart.com/oneplus-nord-ce-2-5g-...</td>\n",
       "    </tr>\n",
       "  </tbody>\n",
       "</table>\n",
       "</div>"
      ],
      "text/plain": [
       "                                Brand & Color           Ram & Storage  \\\n",
       "0  OnePlus Nord CE 2 5G (Gray Mirror, 128 GB)   8 GB RAM | 128 GB ROM   \n",
       "1             OnePlus Nord (Gray Onyx, 64 GB)    6 GB RAM | 64 GB ROM   \n",
       "2          OnePlus Nord (Blue Marble, 128 GB)   8 GB RAM | 128 GB ROM   \n",
       "3           OnePlus Nord (Blue Marble, 64 GB)    6 GB RAM | 64 GB ROM   \n",
       "4            OnePlus Nord (Gray Onyx, 256 GB)  12 GB RAM | 256 GB ROM   \n",
       "5            OnePlus Nord (Gray Onyx, 128 GB)   8 GB RAM | 128 GB ROM   \n",
       "6          OnePlus Nord (Blue Marble, 256 GB)  12 GB RAM | 256 GB ROM   \n",
       "7  OnePlus Nord CE 2 5G (Bahama Blue, 128 GB)   8 GB RAM | 128 GB ROM   \n",
       "8  OnePlus Nord CE 2 5G (Gray Mirror, 128 GB)   6 GB RAM | 128 GB ROM   \n",
       "\n",
       "                            Pri & Sec Camera  \\\n",
       "0                           64MP Rear Camera   \n",
       "1  48MP + 8MP | 32MP + 8MP Dual Front Camera   \n",
       "2  48MP + 8MP | 32MP + 8MP Dual Front Camera   \n",
       "3  48MP + 8MP | 32MP + 8MP Dual Front Camera   \n",
       "4  48MP + 8MP | 32MP + 8MP Dual Front Camera   \n",
       "5  48MP + 8MP | 32MP + 8MP Dual Front Camera   \n",
       "6  48MP + 8MP | 32MP + 8MP Dual Front Camera   \n",
       "7                           64MP Rear Camera   \n",
       "8       64MP Rear Camera | 16MP Front Camera   \n",
       "\n",
       "                                 Display           Battery    Price  \\\n",
       "0           16.33 cm (6.43 inch) Display  4500 mAh Battery  ₹24,999   \n",
       "1  16.36 cm (6.44 inch) Full HD+ Display  4115 mAh Battery  ₹22,689   \n",
       "2  16.36 cm (6.44 inch) Full HD+ Display  4115 mAh Battery  ₹24,790   \n",
       "3  16.36 cm (6.44 inch) Full HD+ Display  4115 mAh Battery  ₹22,980   \n",
       "4  16.36 cm (6.44 inch) Full HD+ Display  4115 mAh Battery  ₹22,999   \n",
       "5  16.36 cm (6.44 inch) Full HD+ Display  4115 mAh Battery  ₹24,600   \n",
       "6  16.36 cm (6.44 inch) Full HD+ Display  4115 mAh Battery  ₹21,999   \n",
       "7           16.33 cm (6.43 inch) Display  4500 mAh Battery  ₹22,995   \n",
       "8           16.33 cm (6.43 inch) Display  4500 mAh Battery  ₹19,999   \n",
       "\n",
       "                                                 URL  \n",
       "0  https://www.flipkart.com/oneplus-nord-ce-2-5g-...  \n",
       "1  https://www.flipkart.com/oneplus-nord-gray-ony...  \n",
       "2  https://www.flipkart.com/oneplus-nord-blue-mar...  \n",
       "3  https://www.flipkart.com/oneplus-nord-blue-mar...  \n",
       "4  https://www.flipkart.com/oneplus-nord-gray-ony...  \n",
       "5  https://www.flipkart.com/oneplus-nord-gray-ony...  \n",
       "6  https://www.flipkart.com/oneplus-nord-blue-mar...  \n",
       "7  https://www.flipkart.com/oneplus-nord-ce-2-5g-...  \n",
       "8  https://www.flipkart.com/oneplus-nord-ce-2-5g-...  "
      ]
     },
     "execution_count": 55,
     "metadata": {},
     "output_type": "execute_result"
    }
   ],
   "source": [
    "df = pd.DataFrame({'Brand & Color':brand_and_color,'Ram & Storage':ram_and_storage,'Pri & Sec Camera':primary_camera,'Display':display,'Battery':battery,'Price':price,'URL':prod_url})\n",
    "df"
   ]
  },
  {
   "cell_type": "code",
   "execution_count": 56,
   "id": "d7f7b954-b1fb-41e3-98bc-029310236c38",
   "metadata": {},
   "outputs": [],
   "source": [
    "#saving data to csv\n",
    "df.to_csv('FlipKart_Product.csv')"
   ]
  },
  {
   "cell_type": "markdown",
   "id": "b85028d9-69c0-43b8-a962-a3865da720ad",
   "metadata": {},
   "source": [
    "5. Write a program to scrap geospatial coordinates (latitude, longitude) of a city searched on google maps"
   ]
  },
  {
   "cell_type": "code",
   "execution_count": 57,
   "id": "8ce3ae32-92af-440d-9d38-5c6adde00970",
   "metadata": {},
   "outputs": [],
   "source": [
    "#import packagges\n",
    "import selenium\n",
    "import pandas as pd\n",
    "from selenium import webdriver\n",
    "import warnings\n",
    "warnings.filterwarnings('ignore')\n",
    "from selenium.webdriver.common.by import By\n",
    "from selenium.common.exceptions import NoSuchElementException, StaleElementReferenceException\n",
    "import regex as re\n",
    "import time"
   ]
  },
  {
   "cell_type": "code",
   "execution_count": 58,
   "id": "a63fa42f-3ddc-448b-baf0-db4698aff0c0",
   "metadata": {},
   "outputs": [],
   "source": [
    "driver= webdriver.Chrome()\n",
    "driver.implicitly_wait(10)\n",
    "driver.get('https://www.google.com/maps')\n",
    "driver.maximize_window()"
   ]
  },
  {
   "cell_type": "code",
   "execution_count": 59,
   "id": "9fdae107-de26-4b2b-8b3d-c1c561f4a938",
   "metadata": {},
   "outputs": [],
   "source": [
    "search_by_city = driver.find_element(By.XPATH,'//input[@class=\"fontBodyMedium searchboxinput xiQnY \"]').send_keys(\"Nagpur\") # Enter Location\n",
    "click_on_search = driver.find_element(By.ID,\"searchbox-searchbutton\").click() # Click here"
   ]
  },
  {
   "cell_type": "code",
   "execution_count": 60,
   "id": "7c097149-21c1-49e1-8594-950ac9fb57eb",
   "metadata": {},
   "outputs": [
    {
     "name": "stdout",
     "output_type": "stream",
     "text": [
      "URL Extracted:  https://www.google.com/maps/@21.1484672,79.1117824,12z?entry=ttu\n"
     ]
    }
   ],
   "source": [
    "# for scrapping coordinates\n",
    "try:\n",
    "    url = driver.current_url\n",
    "    print(\"URL Extracted: \",url)\n",
    "    lat_lng = re.findall(r'@(.*)data',url)\n",
    "    if len(lat_lng):\n",
    "        lat_lng_list = lat_lng[0].split(\",\")\n",
    "        if len(lat_lng_list)>=2:\n",
    "            lat = lat_lng_list[0]\n",
    "            lng = lat_lng_list[1]\n",
    "        print(\"Latitude = {}, Longitude = {}\".format(lat, lng))\n",
    "        \n",
    "except Exception as e:\n",
    "        print(\"Error: \", str(e))"
   ]
  },
  {
   "cell_type": "code",
   "execution_count": null,
   "id": "fa16dfd6-329e-47fb-8247-112640e3db17",
   "metadata": {},
   "outputs": [],
   "source": []
  },
  {
   "cell_type": "code",
   "execution_count": null,
   "id": "27de7e7d-c18c-4923-9fad-fd45415fd4ab",
   "metadata": {},
   "outputs": [],
   "source": []
  },
  {
   "cell_type": "markdown",
   "id": "bcce1bce-ad54-436d-9603-f644868092f1",
   "metadata": {},
   "source": [
    "Write a python program to scrape the details for all billionaires from www.forbes.com. Details to be scrapped: “Rank”, “Name”, “Net worth”, “Age”, “Citizenship”, “Source”, “Industry”."
   ]
  },
  {
   "cell_type": "code",
   "execution_count": 61,
   "id": "3c9bc3f3-020a-4e2c-a1d3-ec94a77940e8",
   "metadata": {},
   "outputs": [],
   "source": [
    "driver = webdriver.Chrome()\n",
    "driver.implicitly_wait(10)\n",
    "driver.get('https://www.forbes.com/billionaires/')"
   ]
  },
  {
   "cell_type": "code",
   "execution_count": 62,
   "id": "be68d1cf-e882-4043-989d-431c7b65454e",
   "metadata": {},
   "outputs": [],
   "source": [
    "#Scrapping data from webpage\n",
    "rank = []\n",
    "person_Name = []\n",
    "net_worth = []\n",
    "age = []\n",
    "citizenship = []\n",
    "source = []\n",
    "industry = []"
   ]
  },
  {
   "cell_type": "code",
   "execution_count": 63,
   "id": "64d2b917-3043-42d3-ae4f-022f64a786d7",
   "metadata": {},
   "outputs": [],
   "source": [
    "rank_tag = driver.find_elements(By.XPATH,'//div[@class=\"Table_rank__X4MKf\"]')\n",
    "for rank_ in rank_tag:\n",
    "    rank.append(rank_.text)\n",
    "\n",
    "person_tag = driver.find_elements(By.XPATH,'//div[@class=\"Table_personName__Bus2E\"]')\n",
    "for person_ in person_tag:\n",
    "    person_Name.append(person_.text)\n",
    "\n",
    "networth_tag = driver.find_elements(By.XPATH,'//div[@class=\"Table_finalWorth__UZA6k\"]')\n",
    "for networth_ in networth_tag:\n",
    "    net_worth.append(networth_.text)"
   ]
  },
  {
   "cell_type": "code",
   "execution_count": 64,
   "id": "30f2d1a0-0317-4b0f-b234-bdc9aecf6254",
   "metadata": {},
   "outputs": [
    {
     "data": {
      "text/plain": [
       "(400, 200, 200)"
      ]
     },
     "execution_count": 64,
     "metadata": {},
     "output_type": "execute_result"
    }
   ],
   "source": [
    "len(rank),len(person_Name),len(net_worth)"
   ]
  },
  {
   "cell_type": "code",
   "execution_count": null,
   "id": "67d5c210-ba03-49d6-9a4e-f0a971b5534b",
   "metadata": {},
   "outputs": [],
   "source": [
    "pd.DataFrame({'Rank':rank[0:200],'Person':person_Name,'Networth':net_worth})"
   ]
  },
  {
   "cell_type": "markdown",
   "id": "59ace91d-46e9-42ff-a5d9-02f1ef98ffb7",
   "metadata": {},
   "source": [
    "8. Write a program to extract at least 500 Comments, Comment upvote and time when comment was posted\n",
    "from any YouTube Video. "
   ]
  },
  {
   "cell_type": "code",
   "execution_count": 65,
   "id": "cd6cfebf-f046-4095-92ff-c7d4912c326f",
   "metadata": {},
   "outputs": [],
   "source": [
    "# import packagges\n",
    "import selenium\n",
    "import pandas as pd\n",
    "from selenium import webdriver\n",
    "import warnings\n",
    "warnings.filterwarnings('ignore')\n",
    "from selenium.webdriver.common.by import By\n",
    "from selenium.common.exceptions import NoSuchElementException, StaleElementReferenceException\n",
    "import time"
   ]
  },
  {
   "cell_type": "code",
   "execution_count": 66,
   "id": "4868e640-7a5e-43a4-a32a-1eeb36e0cb2b",
   "metadata": {},
   "outputs": [],
   "source": [
    "driver = webdriver.Chrome() # open browser"
   ]
  },
  {
   "cell_type": "code",
   "execution_count": 67,
   "id": "4fb1f0ca-ee91-417a-ae38-c77247a3ba38",
   "metadata": {},
   "outputs": [],
   "source": [
    "driver.implicitly_wait(10) # apply implicite wait for every WebElement to matching speed while executing"
   ]
  },
  {
   "cell_type": "code",
   "execution_count": 68,
   "id": "fc10b170-816f-4a32-8299-c992bebd292f",
   "metadata": {},
   "outputs": [],
   "source": [
    "driver.get('https://www.youtube.com/') # open url"
   ]
  },
  {
   "cell_type": "code",
   "execution_count": 69,
   "id": "fb591dfa-3937-4b77-a457-f23066bb2427",
   "metadata": {},
   "outputs": [],
   "source": [
    "# entering name to search a video\n",
    "search_name = driver.find_element(By.XPATH,'/html/body/ytd-app/div[1]/div/ytd-masthead/div[4]/div[2]/ytd-searchbox/form/div[1]/div[1]/input')\n",
    "search_name.send_keys('ramayana')"
   ]
  },
  {
   "cell_type": "code",
   "execution_count": 70,
   "id": "142968ab-def5-45cb-bcc4-7c7efb227203",
   "metadata": {},
   "outputs": [],
   "source": [
    "#Click on search Button\n",
    "button = driver.find_element(By.ID,\"search-icon-legacy\").click()"
   ]
  },
  {
   "cell_type": "code",
   "execution_count": 71,
   "id": "2e4fa6fd-5e37-4fa5-9de2-4ceeaab17d66",
   "metadata": {},
   "outputs": [],
   "source": [
    "# click on video\n",
    "click_on_video = driver.find_element(By.XPATH,'//span[@id=\"video-title\"]')\n",
    "click_on_video.click()"
   ]
  },
  {
   "cell_type": "code",
   "execution_count": 72,
   "id": "f15c5fff-bbab-45b7-b724-beebf63d99d9",
   "metadata": {},
   "outputs": [],
   "source": [
    "# to generate comments scroll page number of times\n",
    "for scroll in range(500):\n",
    "    driver.execute_script('window.scrollBy(0,500)')"
   ]
  },
  {
   "cell_type": "code",
   "execution_count": 73,
   "id": "8ff627d5-0013-41f8-b41e-def0d35d25a0",
   "metadata": {},
   "outputs": [],
   "source": [
    "# empty lists \n",
    "comments = []\n",
    "comments_upvote = []\n",
    "cmt_time = []"
   ]
  },
  {
   "cell_type": "code",
   "execution_count": 74,
   "id": "43a669dd-89ce-4c88-a0bd-3b764577e55f",
   "metadata": {},
   "outputs": [],
   "source": [
    "# Scrapping Comments\n",
    "comment = driver.find_elements(By.XPATH,'//span[@class=\"yt-core-attributed-string yt-core-attributed-string--white-space-pre-wrap\"]')\n",
    "for i in comment:\n",
    "    if i.text is None:\n",
    "        comments.append(\"--\")\n",
    "    else:\n",
    "        comments.append(i.text)\n",
    "\n",
    "upvote = driver.find_elements(By.XPATH,'//span[@id=\"vote-count-middle\"]')\n",
    "for i in upvote:\n",
    "    if i.text is None:\n",
    "        comments_upvote.append(\"--\")\n",
    "    else:\n",
    "        comments_upvote.append(i.text)\n",
    "\n",
    "time = driver.find_elements(By.XPATH,'//a[@class=\"yt-simple-endpoint style-scope ytd-comment-view-model\"]')\n",
    "for i in time:\n",
    "    if i.text is None:\n",
    "        cmt_time.append(\"--\")\n",
    "    else:\n",
    "        cmt_time.append(i.text)"
   ]
  },
  {
   "cell_type": "code",
   "execution_count": 75,
   "id": "edafe3d6-91b1-4e62-b903-67d010811504",
   "metadata": {},
   "outputs": [
    {
     "data": {
      "text/plain": [
       "(648, 640, 1920)"
      ]
     },
     "execution_count": 75,
     "metadata": {},
     "output_type": "execute_result"
    }
   ],
   "source": [
    "len(comments),len(comments_upvote),len(cmt_time)"
   ]
  },
  {
   "cell_type": "code",
   "execution_count": 76,
   "id": "99df6ca6-687a-435b-835b-13239c5bd609",
   "metadata": {},
   "outputs": [
    {
     "data": {
      "text/html": [
       "<div>\n",
       "<style scoped>\n",
       "    .dataframe tbody tr th:only-of-type {\n",
       "        vertical-align: middle;\n",
       "    }\n",
       "\n",
       "    .dataframe tbody tr th {\n",
       "        vertical-align: top;\n",
       "    }\n",
       "\n",
       "    .dataframe thead th {\n",
       "        text-align: right;\n",
       "    }\n",
       "</style>\n",
       "<table border=\"1\" class=\"dataframe\">\n",
       "  <thead>\n",
       "    <tr style=\"text-align: right;\">\n",
       "      <th></th>\n",
       "      <th>Comments</th>\n",
       "      <th>Time</th>\n",
       "      <th>Likes</th>\n",
       "    </tr>\n",
       "  </thead>\n",
       "  <tbody>\n",
       "    <tr>\n",
       "      <th>0</th>\n",
       "      <td>• बजरंग बाण | पाठ करै बजरंग बाण की हनुम... ...</td>\n",
       "      <td></td>\n",
       "      <td>121</td>\n",
       "    </tr>\n",
       "    <tr>\n",
       "      <th>1</th>\n",
       "      <td>Listen to “Har Ghar Mandir Har Ghar Mahotsav -...</td>\n",
       "      <td></td>\n",
       "      <td>171</td>\n",
       "    </tr>\n",
       "    <tr>\n",
       "      <th>2</th>\n",
       "      <td>जो भी सच्चे मन से रामायण देखने आए है उनसे हमार...</td>\n",
       "      <td>6 months ago</td>\n",
       "      <td>1K</td>\n",
       "    </tr>\n",
       "    <tr>\n",
       "      <th>3</th>\n",
       "      <td>After a big torture from Adipurush...I am here...</td>\n",
       "      <td></td>\n",
       "      <td>202</td>\n",
       "    </tr>\n",
       "    <tr>\n",
       "      <th>4</th>\n",
       "      <td>#RAM MANDIR Banne ke bad kon kon dekhne aaya h...</td>\n",
       "      <td>@user-cj9wn2bs5e</td>\n",
       "      <td>298</td>\n",
       "    </tr>\n",
       "    <tr>\n",
       "      <th>...</th>\n",
       "      <td>...</td>\n",
       "      <td>...</td>\n",
       "      <td>...</td>\n",
       "    </tr>\n",
       "    <tr>\n",
       "      <th>495</th>\n",
       "      <td>राम लला मंदिर   22/01/2024</td>\n",
       "      <td></td>\n",
       "      <td></td>\n",
       "    </tr>\n",
       "    <tr>\n",
       "      <th>496</th>\n",
       "      <td>जय सिया राम जय हनुमान</td>\n",
       "      <td>@kiranpanchal7656</td>\n",
       "      <td></td>\n",
       "    </tr>\n",
       "    <tr>\n",
       "      <th>497</th>\n",
       "      <td>️ JAI SIYA RAM ️</td>\n",
       "      <td>1 year ago</td>\n",
       "      <td></td>\n",
       "    </tr>\n",
       "    <tr>\n",
       "      <th>498</th>\n",
       "      <td>Whenever I struggle in my life I always watch ...</td>\n",
       "      <td></td>\n",
       "      <td>1</td>\n",
       "    </tr>\n",
       "    <tr>\n",
       "      <th>499</th>\n",
       "      <td>Kal Ram Mandir ki pran patistha hai\\nJai Shree...</td>\n",
       "      <td>@RamChandra-cx6zu</td>\n",
       "      <td></td>\n",
       "    </tr>\n",
       "  </tbody>\n",
       "</table>\n",
       "<p>500 rows × 3 columns</p>\n",
       "</div>"
      ],
      "text/plain": [
       "                                              Comments               Time  \\\n",
       "0       • बजरंग बाण | पाठ करै बजरंग बाण की हनुम... ...                      \n",
       "1    Listen to “Har Ghar Mandir Har Ghar Mahotsav -...                      \n",
       "2    जो भी सच्चे मन से रामायण देखने आए है उनसे हमार...       6 months ago   \n",
       "3    After a big torture from Adipurush...I am here...                      \n",
       "4    #RAM MANDIR Banne ke bad kon kon dekhne aaya h...   @user-cj9wn2bs5e   \n",
       "..                                                 ...                ...   \n",
       "495                         राम लला मंदिर   22/01/2024                      \n",
       "496                              जय सिया राम जय हनुमान  @kiranpanchal7656   \n",
       "497                                   ️ JAI SIYA RAM ️         1 year ago   \n",
       "498  Whenever I struggle in my life I always watch ...                      \n",
       "499  Kal Ram Mandir ki pran patistha hai\\nJai Shree...  @RamChandra-cx6zu   \n",
       "\n",
       "    Likes  \n",
       "0     121  \n",
       "1     171  \n",
       "2      1K  \n",
       "3     202  \n",
       "4     298  \n",
       "..    ...  \n",
       "495        \n",
       "496        \n",
       "497        \n",
       "498     1  \n",
       "499        \n",
       "\n",
       "[500 rows x 3 columns]"
      ]
     },
     "execution_count": 76,
     "metadata": {},
     "output_type": "execute_result"
    }
   ],
   "source": [
    "df = pd.DataFrame({'Comments':comments[0:500],'Time':cmt_time[0:500],'Likes':comments_upvote[0:500]})\n",
    "df"
   ]
  },
  {
   "cell_type": "code",
   "execution_count": null,
   "id": "be737c30-b7a9-4b9f-8a54-7a980f170174",
   "metadata": {},
   "outputs": [],
   "source": []
  },
  {
   "cell_type": "markdown",
   "id": "2d94e5b1-a26e-4034-a683-97f7bd172231",
   "metadata": {},
   "source": [
    "Write a python program to scrape a data for all available Hostels from https://www.hostelworld.com/ in “London” location. You have to scrape hostel name, distance from city centre, ratings, total reviews, overall reviews, privates from price, dorms from price, facilities and property description."
   ]
  },
  {
   "cell_type": "code",
   "execution_count": 77,
   "id": "b972bd4e-4305-47ac-b158-07e1abe5b28f",
   "metadata": {},
   "outputs": [],
   "source": [
    "# import packagges\n",
    "import selenium\n",
    "import pandas as pd\n",
    "from selenium import webdriver\n",
    "import warnings\n",
    "warnings.filterwarnings('ignore')\n",
    "from selenium.webdriver.common.by import By\n",
    "from selenium.common.exceptions import NoSuchElementException, StaleElementReferenceException\n",
    "import time"
   ]
  },
  {
   "cell_type": "code",
   "execution_count": 78,
   "id": "d3870dce-62a9-4016-858c-371d82c44c3e",
   "metadata": {},
   "outputs": [],
   "source": [
    "driver = webdriver.Chrome() # open browser\n",
    "driver.maximize_window()\n",
    "driver.implicitly_wait(10) # apply implicite wait for every WebElement to matching speed while executing\n",
    "driver.get('https://www.hostelworld.com/pwa/wds/s?q=London,%20England&country=England&city=London&type=city&id=3&from=2024-07-19&to=2024-07-22&guests=2&page=1') # open url"
   ]
  },
  {
   "cell_type": "code",
   "execution_count": 79,
   "id": "fa941d6f-94e1-4b42-8bfb-d3f042421e1a",
   "metadata": {},
   "outputs": [],
   "source": [
    "hostel_name = []\n",
    "distance_from_city = []\n",
    "ratings = []\n",
    "total_reviews = []\n",
    "overall_reviews = []\n",
    "privates_from_price = []\n",
    "dorms_from_price = []\n",
    "facilities = []\n",
    "property_description = []"
   ]
  },
  {
   "cell_type": "code",
   "execution_count": 80,
   "id": "66e379e0-9a3c-4241-8508-a09b6f0144e5",
   "metadata": {},
   "outputs": [],
   "source": [
    "# Scrap hostels info\n",
    "names = driver.find_elements(By.XPATH,'//div[@class=\"property-name\"]')\n",
    "for hostel in names:\n",
    "    hostel_name.append(hostel.text)\n",
    "    \n",
    "distance = driver.find_elements(By.XPATH,'//span[@class=\"distance-description\"]')\n",
    "for dist in distance:\n",
    "    distance_from_city.append(dist.text)\n",
    "    \n",
    "rating = driver.find_elements(By.XPATH,'//span[@class=\"number\"]')\n",
    "for rating_ in rating:\n",
    "    ratings.append(rating_.text)\n",
    "    \n",
    "reviews = driver.find_elements(By.XPATH,'//div[@class=\"review\"]')\n",
    "for reviews_ in reviews:\n",
    "    total_reviews.append(reviews_.text)\n",
    "    \n",
    "all_reviews = driver.find_elements(By.XPATH,'//span[@class=\"keyword\"]')\n",
    "for review_ in all_reviews:\n",
    "    overall_reviews.append(review_.text)\n",
    "\n",
    "private_price = driver.find_elements(By.XPATH,'//strong[@class=\"current\"]')\n",
    "for p_price in private_price:\n",
    "    privates_from_price.append(p_price.text)\n",
    "\n",
    "doems_price = driver.find_elements(By.XPATH,'//strong[@class=\"current\"]')\n",
    "for d_price in doems_price:\n",
    "    dorms_from_price.append(d_price.text)"
   ]
  },
  {
   "cell_type": "code",
   "execution_count": 81,
   "id": "a776bd57-f6f8-442c-b3ee-427eb62fc504",
   "metadata": {},
   "outputs": [
    {
     "data": {
      "text/plain": [
       "(32, 30, 32, 30, 32)"
      ]
     },
     "execution_count": 81,
     "metadata": {},
     "output_type": "execute_result"
    }
   ],
   "source": [
    "len(hostel_name),len(distance_from_city),len(ratings),len(total_reviews),len(overall_reviews)"
   ]
  },
  {
   "cell_type": "code",
   "execution_count": 82,
   "id": "931f995a-848d-4cee-ba92-e04ebcaff2ae",
   "metadata": {},
   "outputs": [
    {
     "data": {
      "text/html": [
       "<div>\n",
       "<style scoped>\n",
       "    .dataframe tbody tr th:only-of-type {\n",
       "        vertical-align: middle;\n",
       "    }\n",
       "\n",
       "    .dataframe tbody tr th {\n",
       "        vertical-align: top;\n",
       "    }\n",
       "\n",
       "    .dataframe thead th {\n",
       "        text-align: right;\n",
       "    }\n",
       "</style>\n",
       "<table border=\"1\" class=\"dataframe\">\n",
       "  <thead>\n",
       "    <tr style=\"text-align: right;\">\n",
       "      <th></th>\n",
       "      <th>Hostel_name</th>\n",
       "      <th>Distance_from_city</th>\n",
       "      <th>ratings</th>\n",
       "      <th>total_reviews</th>\n",
       "      <th>overall_reviews</th>\n",
       "    </tr>\n",
       "  </thead>\n",
       "  <tbody>\n",
       "    <tr>\n",
       "      <th>0</th>\n",
       "      <td>Palmers Lodge - Swiss Cottage</td>\n",
       "      <td>- 3.6km from city centre</td>\n",
       "      <td>8.7</td>\n",
       "      <td>(16688)</td>\n",
       "      <td>Fabulous</td>\n",
       "    </tr>\n",
       "    <tr>\n",
       "      <th>1</th>\n",
       "      <td>St Christopher's Village</td>\n",
       "      <td>- 6.5km from city centre</td>\n",
       "      <td>7.7</td>\n",
       "      <td>(16307)</td>\n",
       "      <td>Very Good</td>\n",
       "    </tr>\n",
       "    <tr>\n",
       "      <th>2</th>\n",
       "      <td>Wombat's City Hostel London</td>\n",
       "      <td>- 5.5km from city centre</td>\n",
       "      <td>9.3</td>\n",
       "      <td>(2880)</td>\n",
       "      <td>Superb</td>\n",
       "    </tr>\n",
       "    <tr>\n",
       "      <th>3</th>\n",
       "      <td>Palmers Lodge - Swiss Cottage</td>\n",
       "      <td>- 5.4km from city centre</td>\n",
       "      <td>8.7</td>\n",
       "      <td>(1351)</td>\n",
       "      <td>Fabulous</td>\n",
       "    </tr>\n",
       "    <tr>\n",
       "      <th>4</th>\n",
       "      <td>Onefam Notting Hill</td>\n",
       "      <td>- 0.7km from city centre</td>\n",
       "      <td>9.7</td>\n",
       "      <td>(405)</td>\n",
       "      <td>Superb</td>\n",
       "    </tr>\n",
       "    <tr>\n",
       "      <th>5</th>\n",
       "      <td>Urbany Hostel London</td>\n",
       "      <td>- 6.1km from city centre</td>\n",
       "      <td>9.5</td>\n",
       "      <td>(2491)</td>\n",
       "      <td>Superb</td>\n",
       "    </tr>\n",
       "    <tr>\n",
       "      <th>6</th>\n",
       "      <td>Onefam Waterloo</td>\n",
       "      <td>- 1.8km from city centre</td>\n",
       "      <td>9.5</td>\n",
       "      <td>(13155)</td>\n",
       "      <td>Superb</td>\n",
       "    </tr>\n",
       "    <tr>\n",
       "      <th>7</th>\n",
       "      <td>NX London Hostel</td>\n",
       "      <td>- 3.2km from city centre</td>\n",
       "      <td>8.8</td>\n",
       "      <td>(719)</td>\n",
       "      <td>Fabulous</td>\n",
       "    </tr>\n",
       "    <tr>\n",
       "      <th>8</th>\n",
       "      <td>St Christopher's Village</td>\n",
       "      <td>- 3km from city centre</td>\n",
       "      <td>7.7</td>\n",
       "      <td>(8335)</td>\n",
       "      <td>Very Good</td>\n",
       "    </tr>\n",
       "    <tr>\n",
       "      <th>9</th>\n",
       "      <td>Clink261</td>\n",
       "      <td>- 9km from city centre</td>\n",
       "      <td>8.2</td>\n",
       "      <td>(4315)</td>\n",
       "      <td>Fabulous</td>\n",
       "    </tr>\n",
       "    <tr>\n",
       "      <th>10</th>\n",
       "      <td>Generator London</td>\n",
       "      <td>- 2.2km from city centre</td>\n",
       "      <td>7.2</td>\n",
       "      <td>(9562)</td>\n",
       "      <td>Very Good</td>\n",
       "    </tr>\n",
       "    <tr>\n",
       "      <th>11</th>\n",
       "      <td>No.8 Seven Sisters</td>\n",
       "      <td>- 1.7km from city centre</td>\n",
       "      <td>7.7</td>\n",
       "      <td>(5387)</td>\n",
       "      <td>Very Good</td>\n",
       "    </tr>\n",
       "    <tr>\n",
       "      <th>12</th>\n",
       "      <td>Astor Museum Inn</td>\n",
       "      <td>- 10km from city centre</td>\n",
       "      <td>8.9</td>\n",
       "      <td>(5303)</td>\n",
       "      <td>Fabulous</td>\n",
       "    </tr>\n",
       "    <tr>\n",
       "      <th>13</th>\n",
       "      <td>Safestay London Elephant &amp; Castle</td>\n",
       "      <td>- 1.7km from city centre</td>\n",
       "      <td>7.1</td>\n",
       "      <td>(408)</td>\n",
       "      <td>Very Good</td>\n",
       "    </tr>\n",
       "    <tr>\n",
       "      <th>14</th>\n",
       "      <td>No.8 Willesden Hostel London</td>\n",
       "      <td>- 2.6km from city centre</td>\n",
       "      <td>6.9</td>\n",
       "      <td>(10319)</td>\n",
       "      <td>Good</td>\n",
       "    </tr>\n",
       "    <tr>\n",
       "      <th>15</th>\n",
       "      <td>Destinations Hostels @ The Gallery</td>\n",
       "      <td>- 5.7km from city centre</td>\n",
       "      <td>9.1</td>\n",
       "      <td>(3815)</td>\n",
       "      <td>Superb</td>\n",
       "    </tr>\n",
       "    <tr>\n",
       "      <th>16</th>\n",
       "      <td>Smart Russell Square Hostel</td>\n",
       "      <td>- 4.3km from city centre</td>\n",
       "      <td>7.5</td>\n",
       "      <td>(12419)</td>\n",
       "      <td>Very Good</td>\n",
       "    </tr>\n",
       "    <tr>\n",
       "      <th>17</th>\n",
       "      <td>Queen Elizabeth Chelsea</td>\n",
       "      <td>- 11.9km from city centre</td>\n",
       "      <td>8.0</td>\n",
       "      <td>(4645)</td>\n",
       "      <td>Fabulous</td>\n",
       "    </tr>\n",
       "    <tr>\n",
       "      <th>18</th>\n",
       "      <td>Astor Hyde Park</td>\n",
       "      <td>- 5.1km from city centre</td>\n",
       "      <td>7.9</td>\n",
       "      <td>(221)</td>\n",
       "      <td>Very Good</td>\n",
       "    </tr>\n",
       "    <tr>\n",
       "      <th>19</th>\n",
       "      <td>London Backpackers</td>\n",
       "      <td>- 4.2km from city centre</td>\n",
       "      <td>8.5</td>\n",
       "      <td>(4815)</td>\n",
       "      <td>Fabulous</td>\n",
       "    </tr>\n",
       "    <tr>\n",
       "      <th>20</th>\n",
       "      <td>Hostelle - women only hostel London</td>\n",
       "      <td>- 4.4km from city centre</td>\n",
       "      <td>8.5</td>\n",
       "      <td>(3213)</td>\n",
       "      <td>Fabulous</td>\n",
       "    </tr>\n",
       "    <tr>\n",
       "      <th>21</th>\n",
       "      <td>Phoenix Hostel</td>\n",
       "      <td>- 5.5km from city centre</td>\n",
       "      <td>7.0</td>\n",
       "      <td>(1990)</td>\n",
       "      <td>Very Good</td>\n",
       "    </tr>\n",
       "    <tr>\n",
       "      <th>22</th>\n",
       "      <td>Smart Camden Inn Hostel</td>\n",
       "      <td>- 2.1km from city centre</td>\n",
       "      <td>8.8</td>\n",
       "      <td>(4728)</td>\n",
       "      <td>Fabulous</td>\n",
       "    </tr>\n",
       "    <tr>\n",
       "      <th>23</th>\n",
       "      <td>Saint James Backpackers</td>\n",
       "      <td>- 5km from city centre</td>\n",
       "      <td>8.0</td>\n",
       "      <td>(6878)</td>\n",
       "      <td>Fabulous</td>\n",
       "    </tr>\n",
       "    <tr>\n",
       "      <th>24</th>\n",
       "      <td>YHA London Oxford Street</td>\n",
       "      <td>- 5.5km from city centre</td>\n",
       "      <td>9.2</td>\n",
       "      <td>(2095)</td>\n",
       "      <td>Superb</td>\n",
       "    </tr>\n",
       "    <tr>\n",
       "      <th>25</th>\n",
       "      <td>Smart Hyde Park Inn Hostel</td>\n",
       "      <td>- 7.5km from city centre</td>\n",
       "      <td>7.7</td>\n",
       "      <td>(4475)</td>\n",
       "      <td>Very Good</td>\n",
       "    </tr>\n",
       "    <tr>\n",
       "      <th>26</th>\n",
       "      <td>Barmy Badger Backpackers</td>\n",
       "      <td>- 1.8km from city centre</td>\n",
       "      <td>9.2</td>\n",
       "      <td>(15179)</td>\n",
       "      <td>Superb</td>\n",
       "    </tr>\n",
       "    <tr>\n",
       "      <th>27</th>\n",
       "      <td>St Christopher's Hammersmith</td>\n",
       "      <td>- 3.3km from city centre</td>\n",
       "      <td>7.8</td>\n",
       "      <td>(3060)</td>\n",
       "      <td>Very Good</td>\n",
       "    </tr>\n",
       "    <tr>\n",
       "      <th>28</th>\n",
       "      <td>Astor Victoria</td>\n",
       "      <td>- 1.8km from city centre</td>\n",
       "      <td>7.0</td>\n",
       "      <td>(3677)</td>\n",
       "      <td>Very Good</td>\n",
       "    </tr>\n",
       "    <tr>\n",
       "      <th>29</th>\n",
       "      <td>Kabannas London St Pancras</td>\n",
       "      <td>- 4.3km from city centre</td>\n",
       "      <td>8.4</td>\n",
       "      <td>(4195)</td>\n",
       "      <td>Fabulous</td>\n",
       "    </tr>\n",
       "  </tbody>\n",
       "</table>\n",
       "</div>"
      ],
      "text/plain": [
       "                            Hostel_name         Distance_from_city ratings  \\\n",
       "0         Palmers Lodge - Swiss Cottage   - 3.6km from city centre     8.7   \n",
       "1              St Christopher's Village   - 6.5km from city centre     7.7   \n",
       "2           Wombat's City Hostel London   - 5.5km from city centre     9.3   \n",
       "3         Palmers Lodge - Swiss Cottage   - 5.4km from city centre     8.7   \n",
       "4                   Onefam Notting Hill   - 0.7km from city centre     9.7   \n",
       "5                  Urbany Hostel London   - 6.1km from city centre     9.5   \n",
       "6                       Onefam Waterloo   - 1.8km from city centre     9.5   \n",
       "7                      NX London Hostel   - 3.2km from city centre     8.8   \n",
       "8              St Christopher's Village     - 3km from city centre     7.7   \n",
       "9                              Clink261     - 9km from city centre     8.2   \n",
       "10                     Generator London   - 2.2km from city centre     7.2   \n",
       "11                   No.8 Seven Sisters   - 1.7km from city centre     7.7   \n",
       "12                     Astor Museum Inn    - 10km from city centre     8.9   \n",
       "13    Safestay London Elephant & Castle   - 1.7km from city centre     7.1   \n",
       "14         No.8 Willesden Hostel London   - 2.6km from city centre     6.9   \n",
       "15   Destinations Hostels @ The Gallery   - 5.7km from city centre     9.1   \n",
       "16          Smart Russell Square Hostel   - 4.3km from city centre     7.5   \n",
       "17              Queen Elizabeth Chelsea  - 11.9km from city centre     8.0   \n",
       "18                      Astor Hyde Park   - 5.1km from city centre     7.9   \n",
       "19                   London Backpackers   - 4.2km from city centre     8.5   \n",
       "20  Hostelle - women only hostel London   - 4.4km from city centre     8.5   \n",
       "21                       Phoenix Hostel   - 5.5km from city centre     7.0   \n",
       "22              Smart Camden Inn Hostel   - 2.1km from city centre     8.8   \n",
       "23              Saint James Backpackers     - 5km from city centre     8.0   \n",
       "24             YHA London Oxford Street   - 5.5km from city centre     9.2   \n",
       "25           Smart Hyde Park Inn Hostel   - 7.5km from city centre     7.7   \n",
       "26             Barmy Badger Backpackers   - 1.8km from city centre     9.2   \n",
       "27         St Christopher's Hammersmith   - 3.3km from city centre     7.8   \n",
       "28                       Astor Victoria   - 1.8km from city centre     7.0   \n",
       "29           Kabannas London St Pancras   - 4.3km from city centre     8.4   \n",
       "\n",
       "   total_reviews overall_reviews  \n",
       "0        (16688)        Fabulous  \n",
       "1        (16307)       Very Good  \n",
       "2         (2880)          Superb  \n",
       "3         (1351)        Fabulous  \n",
       "4          (405)          Superb  \n",
       "5         (2491)          Superb  \n",
       "6        (13155)          Superb  \n",
       "7          (719)        Fabulous  \n",
       "8         (8335)       Very Good  \n",
       "9         (4315)        Fabulous  \n",
       "10        (9562)       Very Good  \n",
       "11        (5387)       Very Good  \n",
       "12        (5303)        Fabulous  \n",
       "13         (408)       Very Good  \n",
       "14       (10319)            Good  \n",
       "15        (3815)          Superb  \n",
       "16       (12419)       Very Good  \n",
       "17        (4645)        Fabulous  \n",
       "18         (221)       Very Good  \n",
       "19        (4815)        Fabulous  \n",
       "20        (3213)        Fabulous  \n",
       "21        (1990)       Very Good  \n",
       "22        (4728)        Fabulous  \n",
       "23        (6878)        Fabulous  \n",
       "24        (2095)          Superb  \n",
       "25        (4475)       Very Good  \n",
       "26       (15179)          Superb  \n",
       "27        (3060)       Very Good  \n",
       "28        (3677)       Very Good  \n",
       "29        (4195)        Fabulous  "
      ]
     },
     "execution_count": 82,
     "metadata": {},
     "output_type": "execute_result"
    }
   ],
   "source": [
    "pd.DataFrame({\"Hostel_name\":hostel_name[:30],'Distance_from_city':distance_from_city[:30],'ratings':ratings[:30],'total_reviews':total_reviews[:30],'overall_reviews':overall_reviews[:30]})"
   ]
  }
 ],
 "metadata": {
  "kernelspec": {
   "display_name": "Python 3 (ipykernel)",
   "language": "python",
   "name": "python3"
  },
  "language_info": {
   "codemirror_mode": {
    "name": "ipython",
    "version": 3
   },
   "file_extension": ".py",
   "mimetype": "text/x-python",
   "name": "python",
   "nbconvert_exporter": "python",
   "pygments_lexer": "ipython3",
   "version": "3.11.7"
  }
 },
 "nbformat": 4,
 "nbformat_minor": 5
}
